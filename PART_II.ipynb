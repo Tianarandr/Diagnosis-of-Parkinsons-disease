{
  "nbformat": 4,
  "nbformat_minor": 0,
  "metadata": {
    "colab": {
      "name": "mini_projet_draft8_best.ipynb",
      "provenance": [],
      "collapsed_sections": []
    },
    "kernelspec": {
      "name": "python3",
      "display_name": "Python 3"
    },
    "accelerator": "GPU"
  },
  "cells": [
    {
      "cell_type": "code",
      "metadata": {
        "colab": {
          "base_uri": "https://localhost:8080/"
        },
        "id": "StJQj4Ulerfw",
        "outputId": "23229341-2a7f-485e-bd63-6226782fba22"
      },
      "source": [
        "from google.colab import drive\r\n",
        "drive.mount('/content/drive/')"
      ],
      "execution_count": 1,
      "outputs": [
        {
          "output_type": "stream",
          "text": [
            "Mounted at /content/drive/\n"
          ],
          "name": "stdout"
        }
      ]
    },
    {
      "cell_type": "code",
      "metadata": {
        "colab": {
          "base_uri": "https://localhost:8080/"
        },
        "id": "ihAU02zbeul7",
        "outputId": "40bdad0b-3dfb-405b-bcde-c04e51cf94ff"
      },
      "source": [
        "cd '/content/drive/MyDrive/mini projet/'"
      ],
      "execution_count": 2,
      "outputs": [
        {
          "output_type": "stream",
          "text": [
            "/content/drive/MyDrive/mini projet\n"
          ],
          "name": "stdout"
        }
      ]
    },
    {
      "cell_type": "code",
      "metadata": {
        "id": "Gbqnikvde_zd"
      },
      "source": [
        "import numpy as np\r\n",
        "from itertools import groupby\r\n",
        "import pandas as pd\r\n",
        "import os\r\n",
        "from keras.layers import Conv2D, MaxPooling2D, Flatten, Conv1D, MaxPooling1D, Dropout, Dense\r\n",
        "from scipy.io import loadmat\r\n",
        "from matplotlib import pyplot as plt  \r\n",
        "from sklearn.model_selection import train_test_split \r\n",
        "from sklearn.preprocessing import LabelEncoder \r\n",
        "from keras.utils import np_utils\r\n",
        "from keras.callbacks import History\r\n",
        "from sklearn.decomposition import PCA\r\n",
        "from sklearn.model_selection import KFold\r\n",
        "from sklearn.model_selection import cross_val_score\r\n",
        "from sklearn.metrics import classification_report, confusion_matrix, precision_score\r\n",
        "from matplotlib.pyplot import imshow\r\n",
        "from keras import Sequential\r\n",
        "from keras.models import load_model\r\n",
        "from keras.callbacks import History\r\n",
        "from random import shuffle\r\n",
        "from time import time\r\n"
      ],
      "execution_count": 3,
      "outputs": []
    },
    {
      "cell_type": "markdown",
      "metadata": {
        "id": "HPpEKqfrYZF6"
      },
      "source": [
        "**Defining some functions**"
      ]
    },
    {
      "cell_type": "code",
      "metadata": {
        "id": "rHnqmiggicDF"
      },
      "source": [
        "def pad(img, h, w):\r\n",
        "\r\n",
        "  result = np.zeros((h, w))\r\n",
        "  result[:np.shape(img)[0], :np.shape(img)[1]] = img\r\n",
        "\r\n",
        "  return result"
      ],
      "execution_count": 4,
      "outputs": []
    },
    {
      "cell_type": "code",
      "metadata": {
        "id": "jTknjbV3wBDE"
      },
      "source": [
        "def augmentation(signal):\r\n",
        "  noise = np.random.normal(0,1,len(signal))\r\n",
        "\r\n",
        "  signal_output = signal + noise\r\n",
        "  signal_output = (signal_output - np.min(signal_output)) / (np.max(signal_output) - np.min(signal_output))\r\n",
        "  \r\n",
        "  return signal_output"
      ],
      "execution_count": 5,
      "outputs": []
    },
    {
      "cell_type": "code",
      "metadata": {
        "id": "kZrIu7bRl5o5"
      },
      "source": [
        "def permute_cycles(signal):\r\n",
        "\r\n",
        "  # get cycles\r\n",
        "  cycles = detect_cycles(signal)\r\n",
        "  cycles = np.array(cycles)\r\n",
        "\r\n",
        "  # get indexies\r\n",
        "  indexies = list(range(len(cycles)))\r\n",
        "\r\n",
        "  # shuffle indexies\r\n",
        "  shuffle(indexies)\r\n",
        "\r\n",
        "  # shuffle cycles\r\n",
        "  cycles_shuffled = cycles[indexies]\r\n",
        "\r\n",
        "  # reconstruct signal\r\n",
        "  signal_shuffled = np.concatenate(cycles_shuffled)\r\n",
        "\r\n",
        "  # padding\r\n",
        "  vector_out = np.zeros(len(signal))\r\n",
        "  vector_out[:len(signal_shuffled)] = signal_shuffled\r\n",
        "  \r\n",
        "  return vector_out"
      ],
      "execution_count": 6,
      "outputs": []
    },
    {
      "cell_type": "code",
      "metadata": {
        "id": "TjaS8jaI9UqI"
      },
      "source": [
        "def detect_cycles(vector_in):\r\n",
        "  # split into zero/non zero\r\n",
        "  vector_in = [list(g) for k, g in groupby(vector_in, key=lambda x:x!=0)]\r\n",
        "  vector_in = np.array(vector_in)\r\n",
        "\r\n",
        "  vector_out = []\r\n",
        "  if all([v == 0 for v in vector_in[0]]):\r\n",
        "    vector_work1 = vector_in[list(range(1, len(vector_in), 2))]\r\n",
        "    vector_work2 = vector_in[list(range(2, len(vector_in), 2))]\r\n",
        "  else:\r\n",
        "    vector_work1 = vector_in[list(range(0, len(vector_in), 2))]\r\n",
        "    vector_work2 = vector_in[list(range(1, len(vector_in), 2))]\r\n",
        "    \r\n",
        "  i = 0\r\n",
        "  for element1, element2 in zip(vector_work1, vector_work2):\r\n",
        "    i += 1\r\n",
        "    vector_out.append(element1 + element2)\r\n",
        "\r\n",
        "  #print('Found : {} cycles'.format(len(vector_out)))\r\n",
        "  return vector_out"
      ],
      "execution_count": 7,
      "outputs": []
    },
    {
      "cell_type": "markdown",
      "metadata": {
        "id": "2HfXG7CxYiVI"
      },
      "source": [
        "**Reading data**"
      ]
    },
    {
      "cell_type": "code",
      "metadata": {
        "id": "SJ_DYn1de2tM",
        "colab": {
          "base_uri": "https://localhost:8080/"
        },
        "outputId": "4a517323-9b06-4cb5-ba1c-1150f8c83875"
      },
      "source": [
        "raw_path = './Segmented GaitCycles (multidim)'\r\n",
        "columns=['Time', 'LxVGRF1', 'LxVGRF2', 'LxVGRF3', 'LxVGRF4', 'LxVGRF5', 'LxVGRF6', 'LxVGRF7', 'LxVGRF8', 'RxVGRF1', 'RxVGRF2', 'RxVGRF3', 'RxVGRF4', 'RxVGRF5', 'RxVGRF6', 'RxVGRF7', 'RxVGRF8', 'Lx Total Force', 'Rx Total Force']\r\n",
        "dfs = []\r\n",
        "\r\n",
        "for element in os.listdir(raw_path)[:-3]:\r\n",
        "  path = os.path.join(raw_path, element)\r\n",
        "\r\n",
        "  # read .mat file\r\n",
        "  mat = loadmat(path)  # load mat-fil\r\n",
        "  dfs.append(pd.DataFrame(mat[element[:-4]], columns=columns))\r\n",
        "\r\n",
        "dfs = np.array(dfs)"
      ],
      "execution_count": 8,
      "outputs": [
        {
          "output_type": "stream",
          "text": [
            "/usr/local/lib/python3.7/dist-packages/ipykernel_launcher.py:12: VisibleDeprecationWarning: Creating an ndarray from ragged nested sequences (which is a list-or-tuple of lists-or-tuples-or ndarrays with different lengths or shapes) is deprecated. If you meant to do this, you must specify 'dtype=object' when creating the ndarray\n",
            "  if sys.path[0] == '':\n"
          ],
          "name": "stderr"
        }
      ]
    },
    {
      "cell_type": "code",
      "metadata": {
        "id": "E2KeIUCPgmly",
        "colab": {
          "base_uri": "https://localhost:8080/",
          "height": 465
        },
        "outputId": "265f23c3-eab8-4bf4-8b5b-b97587effbcd"
      },
      "source": [
        "dfs[0]"
      ],
      "execution_count": 9,
      "outputs": [
        {
          "output_type": "execute_result",
          "data": {
            "text/html": [
              "<div>\n",
              "<style scoped>\n",
              "    .dataframe tbody tr th:only-of-type {\n",
              "        vertical-align: middle;\n",
              "    }\n",
              "\n",
              "    .dataframe tbody tr th {\n",
              "        vertical-align: top;\n",
              "    }\n",
              "\n",
              "    .dataframe thead th {\n",
              "        text-align: right;\n",
              "    }\n",
              "</style>\n",
              "<table border=\"1\" class=\"dataframe\">\n",
              "  <thead>\n",
              "    <tr style=\"text-align: right;\">\n",
              "      <th></th>\n",
              "      <th>Time</th>\n",
              "      <th>LxVGRF1</th>\n",
              "      <th>LxVGRF2</th>\n",
              "      <th>LxVGRF3</th>\n",
              "      <th>LxVGRF4</th>\n",
              "      <th>LxVGRF5</th>\n",
              "      <th>LxVGRF6</th>\n",
              "      <th>LxVGRF7</th>\n",
              "      <th>LxVGRF8</th>\n",
              "      <th>RxVGRF1</th>\n",
              "      <th>RxVGRF2</th>\n",
              "      <th>RxVGRF3</th>\n",
              "      <th>RxVGRF4</th>\n",
              "      <th>RxVGRF5</th>\n",
              "      <th>RxVGRF6</th>\n",
              "      <th>RxVGRF7</th>\n",
              "      <th>RxVGRF8</th>\n",
              "      <th>Lx Total Force</th>\n",
              "      <th>Rx Total Force</th>\n",
              "    </tr>\n",
              "  </thead>\n",
              "  <tbody>\n",
              "    <tr>\n",
              "      <th>0</th>\n",
              "      <td>5.8296</td>\n",
              "      <td>25.52</td>\n",
              "      <td>9.68</td>\n",
              "      <td>12.10</td>\n",
              "      <td>58.63</td>\n",
              "      <td>46.53</td>\n",
              "      <td>255.75</td>\n",
              "      <td>434.83</td>\n",
              "      <td>119.35</td>\n",
              "      <td>0.00</td>\n",
              "      <td>0.00</td>\n",
              "      <td>0.00</td>\n",
              "      <td>0.00</td>\n",
              "      <td>0.0</td>\n",
              "      <td>0.0</td>\n",
              "      <td>0.0</td>\n",
              "      <td>0.0</td>\n",
              "      <td>962.39</td>\n",
              "      <td>0.00</td>\n",
              "    </tr>\n",
              "    <tr>\n",
              "      <th>1</th>\n",
              "      <td>5.8396</td>\n",
              "      <td>23.21</td>\n",
              "      <td>7.70</td>\n",
              "      <td>9.68</td>\n",
              "      <td>51.70</td>\n",
              "      <td>42.35</td>\n",
              "      <td>257.95</td>\n",
              "      <td>439.67</td>\n",
              "      <td>123.53</td>\n",
              "      <td>3.41</td>\n",
              "      <td>0.00</td>\n",
              "      <td>0.00</td>\n",
              "      <td>5.61</td>\n",
              "      <td>0.0</td>\n",
              "      <td>0.0</td>\n",
              "      <td>0.0</td>\n",
              "      <td>0.0</td>\n",
              "      <td>955.79</td>\n",
              "      <td>9.02</td>\n",
              "    </tr>\n",
              "    <tr>\n",
              "      <th>2</th>\n",
              "      <td>5.8496</td>\n",
              "      <td>23.21</td>\n",
              "      <td>7.70</td>\n",
              "      <td>9.68</td>\n",
              "      <td>41.36</td>\n",
              "      <td>35.97</td>\n",
              "      <td>257.95</td>\n",
              "      <td>439.67</td>\n",
              "      <td>127.71</td>\n",
              "      <td>21.01</td>\n",
              "      <td>0.00</td>\n",
              "      <td>0.00</td>\n",
              "      <td>5.61</td>\n",
              "      <td>0.0</td>\n",
              "      <td>0.0</td>\n",
              "      <td>0.0</td>\n",
              "      <td>0.0</td>\n",
              "      <td>943.25</td>\n",
              "      <td>26.62</td>\n",
              "    </tr>\n",
              "    <tr>\n",
              "      <th>3</th>\n",
              "      <td>5.8596</td>\n",
              "      <td>20.90</td>\n",
              "      <td>7.70</td>\n",
              "      <td>7.26</td>\n",
              "      <td>32.67</td>\n",
              "      <td>29.59</td>\n",
              "      <td>255.75</td>\n",
              "      <td>437.25</td>\n",
              "      <td>129.80</td>\n",
              "      <td>49.17</td>\n",
              "      <td>0.00</td>\n",
              "      <td>7.15</td>\n",
              "      <td>5.61</td>\n",
              "      <td>0.0</td>\n",
              "      <td>0.0</td>\n",
              "      <td>0.0</td>\n",
              "      <td>0.0</td>\n",
              "      <td>920.92</td>\n",
              "      <td>61.93</td>\n",
              "    </tr>\n",
              "    <tr>\n",
              "      <th>4</th>\n",
              "      <td>5.8696</td>\n",
              "      <td>20.90</td>\n",
              "      <td>5.83</td>\n",
              "      <td>7.26</td>\n",
              "      <td>24.09</td>\n",
              "      <td>21.12</td>\n",
              "      <td>251.35</td>\n",
              "      <td>429.99</td>\n",
              "      <td>133.98</td>\n",
              "      <td>173.03</td>\n",
              "      <td>11.66</td>\n",
              "      <td>14.30</td>\n",
              "      <td>8.47</td>\n",
              "      <td>0.0</td>\n",
              "      <td>0.0</td>\n",
              "      <td>0.0</td>\n",
              "      <td>0.0</td>\n",
              "      <td>894.52</td>\n",
              "      <td>207.46</td>\n",
              "    </tr>\n",
              "    <tr>\n",
              "      <th>...</th>\n",
              "      <td>...</td>\n",
              "      <td>...</td>\n",
              "      <td>...</td>\n",
              "      <td>...</td>\n",
              "      <td>...</td>\n",
              "      <td>...</td>\n",
              "      <td>...</td>\n",
              "      <td>...</td>\n",
              "      <td>...</td>\n",
              "      <td>...</td>\n",
              "      <td>...</td>\n",
              "      <td>...</td>\n",
              "      <td>...</td>\n",
              "      <td>...</td>\n",
              "      <td>...</td>\n",
              "      <td>...</td>\n",
              "      <td>...</td>\n",
              "      <td>...</td>\n",
              "      <td>...</td>\n",
              "    </tr>\n",
              "    <tr>\n",
              "      <th>7716</th>\n",
              "      <td>118.0417</td>\n",
              "      <td>23.21</td>\n",
              "      <td>11.66</td>\n",
              "      <td>12.10</td>\n",
              "      <td>136.18</td>\n",
              "      <td>73.26</td>\n",
              "      <td>246.95</td>\n",
              "      <td>300.41</td>\n",
              "      <td>78.65</td>\n",
              "      <td>0.00</td>\n",
              "      <td>0.00</td>\n",
              "      <td>0.00</td>\n",
              "      <td>0.00</td>\n",
              "      <td>0.0</td>\n",
              "      <td>0.0</td>\n",
              "      <td>0.0</td>\n",
              "      <td>0.0</td>\n",
              "      <td>882.42</td>\n",
              "      <td>0.00</td>\n",
              "    </tr>\n",
              "    <tr>\n",
              "      <th>7717</th>\n",
              "      <td>118.0517</td>\n",
              "      <td>20.90</td>\n",
              "      <td>7.70</td>\n",
              "      <td>9.68</td>\n",
              "      <td>127.27</td>\n",
              "      <td>70.95</td>\n",
              "      <td>251.35</td>\n",
              "      <td>309.54</td>\n",
              "      <td>80.74</td>\n",
              "      <td>0.00</td>\n",
              "      <td>0.00</td>\n",
              "      <td>0.00</td>\n",
              "      <td>0.00</td>\n",
              "      <td>0.0</td>\n",
              "      <td>0.0</td>\n",
              "      <td>0.0</td>\n",
              "      <td>0.0</td>\n",
              "      <td>878.13</td>\n",
              "      <td>0.00</td>\n",
              "    </tr>\n",
              "    <tr>\n",
              "      <th>7718</th>\n",
              "      <td>118.0617</td>\n",
              "      <td>18.59</td>\n",
              "      <td>5.83</td>\n",
              "      <td>7.26</td>\n",
              "      <td>118.25</td>\n",
              "      <td>68.64</td>\n",
              "      <td>255.75</td>\n",
              "      <td>318.56</td>\n",
              "      <td>84.81</td>\n",
              "      <td>0.00</td>\n",
              "      <td>0.00</td>\n",
              "      <td>0.00</td>\n",
              "      <td>0.00</td>\n",
              "      <td>0.0</td>\n",
              "      <td>0.0</td>\n",
              "      <td>0.0</td>\n",
              "      <td>0.0</td>\n",
              "      <td>877.69</td>\n",
              "      <td>0.00</td>\n",
              "    </tr>\n",
              "    <tr>\n",
              "      <th>7719</th>\n",
              "      <td>118.0717</td>\n",
              "      <td>16.17</td>\n",
              "      <td>5.83</td>\n",
              "      <td>4.84</td>\n",
              "      <td>107.14</td>\n",
              "      <td>66.33</td>\n",
              "      <td>260.15</td>\n",
              "      <td>325.27</td>\n",
              "      <td>86.79</td>\n",
              "      <td>0.00</td>\n",
              "      <td>0.00</td>\n",
              "      <td>0.00</td>\n",
              "      <td>0.00</td>\n",
              "      <td>0.0</td>\n",
              "      <td>0.0</td>\n",
              "      <td>0.0</td>\n",
              "      <td>0.0</td>\n",
              "      <td>872.52</td>\n",
              "      <td>0.00</td>\n",
              "    </tr>\n",
              "    <tr>\n",
              "      <th>7720</th>\n",
              "      <td>118.0817</td>\n",
              "      <td>16.17</td>\n",
              "      <td>3.85</td>\n",
              "      <td>4.84</td>\n",
              "      <td>93.94</td>\n",
              "      <td>61.71</td>\n",
              "      <td>264.55</td>\n",
              "      <td>332.09</td>\n",
              "      <td>88.77</td>\n",
              "      <td>0.00</td>\n",
              "      <td>0.00</td>\n",
              "      <td>0.00</td>\n",
              "      <td>0.00</td>\n",
              "      <td>0.0</td>\n",
              "      <td>0.0</td>\n",
              "      <td>0.0</td>\n",
              "      <td>0.0</td>\n",
              "      <td>865.92</td>\n",
              "      <td>0.00</td>\n",
              "    </tr>\n",
              "  </tbody>\n",
              "</table>\n",
              "<p>7721 rows × 19 columns</p>\n",
              "</div>"
            ],
            "text/plain": [
              "          Time  LxVGRF1  LxVGRF2  ...  RxVGRF8  Lx Total Force  Rx Total Force\n",
              "0       5.8296    25.52     9.68  ...      0.0          962.39            0.00\n",
              "1       5.8396    23.21     7.70  ...      0.0          955.79            9.02\n",
              "2       5.8496    23.21     7.70  ...      0.0          943.25           26.62\n",
              "3       5.8596    20.90     7.70  ...      0.0          920.92           61.93\n",
              "4       5.8696    20.90     5.83  ...      0.0          894.52          207.46\n",
              "...        ...      ...      ...  ...      ...             ...             ...\n",
              "7716  118.0417    23.21    11.66  ...      0.0          882.42            0.00\n",
              "7717  118.0517    20.90     7.70  ...      0.0          878.13            0.00\n",
              "7718  118.0617    18.59     5.83  ...      0.0          877.69            0.00\n",
              "7719  118.0717    16.17     5.83  ...      0.0          872.52            0.00\n",
              "7720  118.0817    16.17     3.85  ...      0.0          865.92            0.00\n",
              "\n",
              "[7721 rows x 19 columns]"
            ]
          },
          "metadata": {
            "tags": []
          },
          "execution_count": 9
        }
      ]
    },
    {
      "cell_type": "code",
      "metadata": {
        "id": "F9YNPOTvLluC",
        "colab": {
          "base_uri": "https://localhost:8080/"
        },
        "outputId": "88706bb8-2144-4fb3-c48d-a58adc1794e0"
      },
      "source": [
        "np.shape(dfs)"
      ],
      "execution_count": 10,
      "outputs": [
        {
          "output_type": "execute_result",
          "data": {
            "text/plain": [
              "(271,)"
            ]
          },
          "metadata": {
            "tags": []
          },
          "execution_count": 10
        }
      ]
    },
    {
      "cell_type": "markdown",
      "metadata": {
        "id": "EM34W4O1-gLI"
      },
      "source": [
        "**Extra data**"
      ]
    },
    {
      "cell_type": "code",
      "metadata": {
        "id": "Z7Te7sM6-e8N"
      },
      "source": [
        "# getting IDs if subjects\r\n",
        "IDs = []\r\n",
        "for element in os.listdir(raw_path)[:-3]:\r\n",
        "  IDs.append(element[:6])\r\n",
        "\r\n",
        "# reding file countaining Gender and Age\r\n",
        "f = open(\"./demographics.txt\", \"r\")\r\n",
        "text = f.read().split('\\n')\r\n",
        "\r\n",
        "# getting Gender and Age\r\n",
        "Data = {}\r\n",
        "for element in text[1:]:\r\n",
        "  vector_work = element.split('\\t')\r\n",
        "  Data[vector_work[0]] = [int(vector_work[4]), int(vector_work[5])]\r\n",
        "\r\n",
        "# saving 'em\r\n",
        "gen_age = []\r\n",
        "for id in IDs:\r\n",
        "  gen_age.append(Data[id])\r\n",
        "\r\n",
        "gen_age = np.array(gen_age)"
      ],
      "execution_count": 11,
      "outputs": []
    },
    {
      "cell_type": "markdown",
      "metadata": {
        "id": "Ell8uSIEjZLC"
      },
      "source": [
        "**Getting labes**"
      ]
    },
    {
      "cell_type": "code",
      "metadata": {
        "id": "jPCXXdX4j_ZA"
      },
      "source": [
        "y = []\r\n",
        "for element in os.listdir(raw_path)[:-3]:\r\n",
        "  y.append(element[2:4])\r\n",
        "\r\n",
        "# encoding\r\n",
        "le = LabelEncoder()\r\n",
        "le.fit(y)\r\n",
        "\r\n",
        "y = le.transform(y)"
      ],
      "execution_count": 12,
      "outputs": []
    },
    {
      "cell_type": "code",
      "metadata": {
        "id": "414arInVE85v",
        "colab": {
          "base_uri": "https://localhost:8080/"
        },
        "outputId": "d9158574-35bd-4cf9-9fd9-423f9c68dce6"
      },
      "source": [
        "vector_work = []\r\n",
        "for df in dfs:\r\n",
        "  for key in columns:\r\n",
        "    vector_work.append(len(df[key].values[::3]))\r\n",
        "\r\n",
        "length_max = np.max(vector_work)\r\n",
        "print(length_max)"
      ],
      "execution_count": 13,
      "outputs": [
        {
          "output_type": "stream",
          "text": [
            "5978\n"
          ],
          "name": "stdout"
        }
      ]
    },
    {
      "cell_type": "markdown",
      "metadata": {
        "id": "6htcoRrsn-Dr"
      },
      "source": [
        "**Separate DataBases**"
      ]
    },
    {
      "cell_type": "code",
      "metadata": {
        "id": "Mc57lms_n-Dt"
      },
      "source": [
        "database = []\r\n",
        "for element in os.listdir(raw_path)[:-3]:\r\n",
        "  database.append(element[0:2])\r\n",
        "database = np.array(database)\r\n",
        "\r\n",
        "dfs = dfs[database=='Ga']\r\n",
        "y = y[database=='Ga']\r\n",
        "gen_age = gen_age[database=='Ga']"
      ],
      "execution_count": 14,
      "outputs": []
    },
    {
      "cell_type": "code",
      "metadata": {
        "id": "faSZPwHeUOrS",
        "colab": {
          "base_uri": "https://localhost:8080/"
        },
        "outputId": "1ef97609-bf56-4210-84ce-b5dc5910d01d"
      },
      "source": [
        "np.shape(y)"
      ],
      "execution_count": 15,
      "outputs": [
        {
          "output_type": "execute_result",
          "data": {
            "text/plain": [
              "(86,)"
            ]
          },
          "metadata": {
            "tags": []
          },
          "execution_count": 15
        }
      ]
    },
    {
      "cell_type": "markdown",
      "metadata": {
        "id": "X3CPTk0N8mEc"
      },
      "source": [
        "**Split data**"
      ]
    },
    {
      "cell_type": "markdown",
      "metadata": {
        "id": "AdxkkiuYpMKO"
      },
      "source": [
        "**1. When KFold**"
      ]
    },
    {
      "cell_type": "code",
      "metadata": {
        "id": "HH9u7IFeHgKh"
      },
      "source": [
        "train_indexies = [([11, 12, 13, 14, 15, 16, 17, 18, 19, 20, 21, 22, 23, 24, 25, 26, 27,\r\n",
        "       28, 29, 30, 31, 32, 33, 34, 35, 36, 37, 38, 39, 40, 41, 42, 43, 44,\r\n",
        "       45, 46, 47, 48, 49, 50, 51, 52, 53, 54, 55, 56, 57, 58, 59, 60, 61,\r\n",
        "       62, 63, 64, 65, 66, 67, 68, 69, 70, 71, 72, 73, 74, 75, 76, 77, 78,\r\n",
        "       79, 80, 81, 82, 83, 84, 85]), ([ 0,  1,  2,  3,  4,  5,  6,  7,  8,  9, 10, 22, 23, 24, 25, 26, 27,\r\n",
        "       28, 29, 30, 31, 32, 33, 34, 35, 36, 37, 38, 39, 40, 41, 42, 43, 44,\r\n",
        "       45, 46, 47, 48, 49, 50, 51, 52, 53, 54, 55, 56, 57, 58, 59, 60, 61,\r\n",
        "       62, 63, 64, 65, 66, 67, 68, 69, 70, 71, 72, 73, 74, 75, 76, 77, 78,\r\n",
        "       79, 80, 81, 82, 83, 84, 85]), ([ 0,  1,  2,  3,  4,  5,  6,  7,  8,  9, 10, 11, 12, 13, 14, 15, 16,\r\n",
        "       17, 18, 19, 20, 21, 33, 34, 35, 36, 37, 38, 39, 40, 41, 42, 43, 44,\r\n",
        "       45, 46, 47, 48, 49, 50, 51, 52, 53, 54, 55, 56, 57, 58, 59, 60, 61,\r\n",
        "       62, 63, 64, 65, 66, 67, 68, 69, 70, 71, 72, 73, 74, 75, 76, 77, 78,\r\n",
        "       79, 80, 81, 82, 83, 84, 85]), ([ 0,  1,  2,  3,  4,  5,  6,  7,  8,  9, 10, 11, 12, 13, 14, 15, 16,\r\n",
        "       17, 18, 19, 20, 21, 22, 23, 24, 25, 26, 27, 28, 29, 30, 31, 32, 44,\r\n",
        "       45, 46, 47, 48, 49, 50, 51, 52, 53, 54, 55, 56, 57, 58, 59, 60, 61,\r\n",
        "       62, 63, 64, 65, 66, 67, 68, 69, 70, 71, 72, 73, 74, 75, 76, 77, 78,\r\n",
        "       79, 80, 81, 82, 83, 84, 85]), ([ 0,  1,  2,  3,  4,  5,  6,  7,  8,  9, 10, 11, 12, 13, 14, 15, 16,\r\n",
        "       17, 18, 19, 20, 21, 22, 23, 24, 25, 26, 27, 28, 29, 30, 31, 32, 33,\r\n",
        "       34, 35, 36, 37, 38, 39, 40, 41, 42, 43, 55, 56, 57, 58, 59, 60, 61,\r\n",
        "       62, 63, 64, 65, 66, 67, 68, 69, 70, 71, 72, 73, 74, 75, 76, 77, 78,\r\n",
        "       79, 80, 81, 82, 83, 84, 85]), ([ 0,  1,  2,  3,  4,  5,  6,  7,  8,  9, 10, 11, 12, 13, 14, 15, 16,\r\n",
        "       17, 18, 19, 20, 21, 22, 23, 24, 25, 26, 27, 28, 29, 30, 31, 32, 33,\r\n",
        "       34, 35, 36, 37, 38, 39, 40, 41, 42, 43, 44, 45, 46, 47, 48, 49, 50,\r\n",
        "       51, 52, 53, 54, 66, 67, 68, 69, 70, 71, 72, 73, 74, 75, 76, 77, 78,\r\n",
        "       79, 80, 81, 82, 83, 84, 85]), ([ 0,  1,  2,  3,  4,  5,  6,  7,  8,  9, 10, 11, 12, 13, 14, 15, 16,\r\n",
        "       17, 18, 19, 20, 21, 22, 23, 24, 25, 26, 27, 28, 29, 30, 31, 32, 33,\r\n",
        "       34, 35, 36, 37, 38, 39, 40, 41, 42, 43, 44, 45, 46, 47, 48, 49, 50,\r\n",
        "       51, 52, 53, 54, 55, 56, 57, 58, 59, 60, 61, 62, 63, 64, 65, 76, 77,\r\n",
        "       78, 79, 80, 81, 82, 83, 84, 85]), ([ 0,  1,  2,  3,  4,  5,  6,  7,  8,  9, 10, 11, 12, 13, 14, 15, 16,\r\n",
        "       17, 18, 19, 20, 21, 22, 23, 24, 25, 26, 27, 28, 29, 30, 31, 32, 33,\r\n",
        "       34, 35, 36, 37, 38, 39, 40, 41, 42, 43, 44, 45, 46, 47, 48, 49, 50,\r\n",
        "       51, 52, 53, 54, 55, 56, 57, 58, 59, 60, 61, 62, 63, 64, 65, 66, 67,\r\n",
        "       68, 69, 70, 71, 72, 73, 74, 75])]\r\n",
        "\r\n",
        "test_indexies = [([ 0,  1,  2,  3,  4,  5,  6,  7,  8,  9, 10]), ([11, 12, 13, 14, 15, 16, 17, 18, 19, 20, 21]), ([22, 23, 24, 25, 26, 27, 28, 29, 30, 31, 32]), ([33, 34, 35, 36, 37, 38, 39, 40, 41, 42, 43]), ([44, 45, 46, 47, 48, 49, 50, 51, 52, 53, 54]), ([55, 56, 57, 58, 59, 60, 61, 62, 63, 64, 65]), ([66, 67, 68, 69, 70, 71, 72, 73, 74, 75]), ([76, 77, 78, 79, 80, 81, 82, 83, 84, 85])]\r\n",
        "\r\n",
        "kf = KFold(n_splits=8)\r\n",
        "\r\n",
        "#train_indexies = []\r\n",
        "#test_indexies = []\r\n",
        "\r\n",
        "#for train_index, test_index in kf.split(dfs):\r\n",
        "#  train_indexies.append(train_index)\r\n",
        "#  test_indexies.append(test_index)\r\n",
        "\r\n",
        "i = 0\r\n",
        "dfs_train, dfs_test, y_train, y_test, gen_age_train, gen_age_test = dfs[train_indexies[i]], dfs[test_indexies[i]], y[train_indexies[i]], y[test_indexies[i]], gen_age[train_indexies[i]], gen_age[test_indexies[i]] \r\n",
        "\r\n",
        "dfs_train, dfs_test, y_train, y_test, gen_age_train, gen_age_test = train_test_split(dfs, y, gen_age, test_size=0.5, shuffle= True)"
      ],
      "execution_count": 16,
      "outputs": []
    },
    {
      "cell_type": "markdown",
      "metadata": {
        "id": "jDrmGj_fpTVb"
      },
      "source": [
        "**2. Whithout KFold**"
      ]
    },
    {
      "cell_type": "code",
      "metadata": {
        "id": "7gwceJ-epCvu"
      },
      "source": [
        "dfs_train, dfs_test, y_train, y_test, gen_age_train, gen_age_test = train_test_split(dfs, y, gen_age, test_size=0.5, shuffle= True)"
      ],
      "execution_count": 17,
      "outputs": []
    },
    {
      "cell_type": "code",
      "metadata": {
        "id": "OPt379_5UphI",
        "colab": {
          "base_uri": "https://localhost:8080/"
        },
        "outputId": "8944242a-4d8e-49da-8192-de8b8f1c4f5c"
      },
      "source": [
        "np.shape(dfs_test)"
      ],
      "execution_count": 18,
      "outputs": [
        {
          "output_type": "execute_result",
          "data": {
            "text/plain": [
              "(43,)"
            ]
          },
          "metadata": {
            "tags": []
          },
          "execution_count": 18
        }
      ]
    },
    {
      "cell_type": "markdown",
      "metadata": {
        "id": "54if5gLdZE5U"
      },
      "source": [
        "**Preprocessing**"
      ]
    },
    {
      "cell_type": "code",
      "metadata": {
        "id": "88uB8Qb3GV3j"
      },
      "source": [
        "columns = ['LxVGRF1', 'LxVGRF2', 'LxVGRF3', 'LxVGRF4', 'LxVGRF5',\r\n",
        "           'LxVGRF6', 'LxVGRF7', 'LxVGRF8', 'RxVGRF1', 'RxVGRF2', 'RxVGRF3',\r\n",
        "           'RxVGRF4', 'RxVGRF5', 'RxVGRF6', 'RxVGRF7', 'RxVGRF8']"
      ],
      "execution_count": 19,
      "outputs": []
    },
    {
      "cell_type": "code",
      "metadata": {
        "id": "IcFkFw3iMfTM",
        "colab": {
          "base_uri": "https://localhost:8080/"
        },
        "outputId": "de21d2b5-cb4b-4e17-a4c8-cd6d56b8297e"
      },
      "source": [
        "seuil = 0\r\n",
        "signals = []\r\n",
        "for df in dfs_train:\r\n",
        "  signals_userX = []\r\n",
        "  for key in columns:\r\n",
        "\r\n",
        "    # getting signals\r\n",
        "    vector_work = df[key].values\r\n",
        "\r\n",
        "    # sampling\r\n",
        "    signals_userX.append(vector_work[::3])\r\n",
        "\r\n",
        "    # data augmentation\r\n",
        "    for i in range(10):\r\n",
        "      signals_userX.append(permute_cycles(vector_work[::3]))\r\n",
        "      signals_userX.append(augmentation(vector_work[::3]))\r\n",
        "\r\n",
        "  signals.append(signals_userX)\r\n",
        "\r\n",
        "images_augmented = []\r\n",
        "for signal in signals:\r\n",
        "  if signal:\r\n",
        "    vector_work = pad(signal, np.shape(signals)[1], length_max)\r\n",
        "    images_augmented.append(vector_work)\r\n",
        "\r\n",
        "images_augmented = np.array(images_augmented)\r\n",
        "X_train = np.reshape(images_augmented, (images_augmented.shape[0]*21, int(images_augmented.shape[1]/21), images_augmented.shape[2], 1))\r\n",
        "X_train = X_train/np.max(X_train)"
      ],
      "execution_count": 20,
      "outputs": [
        {
          "output_type": "stream",
          "text": [
            "/usr/local/lib/python3.7/dist-packages/ipykernel_launcher.py:4: VisibleDeprecationWarning: Creating an ndarray from ragged nested sequences (which is a list-or-tuple of lists-or-tuples-or ndarrays with different lengths or shapes) is deprecated. If you meant to do this, you must specify 'dtype=object' when creating the ndarray\n",
            "  after removing the cwd from sys.path.\n",
            "/usr/local/lib/python3.7/dist-packages/ipykernel_launcher.py:5: VisibleDeprecationWarning: Creating an ndarray from ragged nested sequences (which is a list-or-tuple of lists-or-tuples-or ndarrays with different lengths or shapes) is deprecated. If you meant to do this, you must specify 'dtype=object' when creating the ndarray\n",
            "  \"\"\"\n",
            "/usr/local/lib/python3.7/dist-packages/numpy/core/_asarray.py:83: VisibleDeprecationWarning: Creating an ndarray from ragged nested sequences (which is a list-or-tuple of lists-or-tuples-or ndarrays with different lengths or shapes) is deprecated. If you meant to do this, you must specify 'dtype=object' when creating the ndarray\n",
            "  return array(a, dtype, copy=False, order=order)\n"
          ],
          "name": "stderr"
        }
      ]
    },
    {
      "cell_type": "code",
      "metadata": {
        "id": "ZwSO2BYbaLIi",
        "colab": {
          "base_uri": "https://localhost:8080/"
        },
        "outputId": "48596371-fddf-4c59-c257-cf8c2548ca6b"
      },
      "source": [
        "np.shape(X_train)"
      ],
      "execution_count": 21,
      "outputs": [
        {
          "output_type": "execute_result",
          "data": {
            "text/plain": [
              "(903, 16, 5978, 1)"
            ]
          },
          "metadata": {
            "tags": []
          },
          "execution_count": 21
        }
      ]
    },
    {
      "cell_type": "code",
      "metadata": {
        "id": "ua58GjVXbZ53",
        "colab": {
          "base_uri": "https://localhost:8080/",
          "height": 283
        },
        "outputId": "ca33a6d1-1943-46be-9e7e-73a7310ac01a"
      },
      "source": [
        "plt.plot(X_train[0, 10, :200])"
      ],
      "execution_count": 22,
      "outputs": [
        {
          "output_type": "execute_result",
          "data": {
            "text/plain": [
              "[<matplotlib.lines.Line2D at 0x7f2b30c91410>]"
            ]
          },
          "metadata": {
            "tags": []
          },
          "execution_count": 22
        },
        {
          "output_type": "display_data",
          "data": {
            "image/png": "[encoded data removed]",
            "text/plain": [
              "<Figure size 432x288 with 1 Axes>"
            ]
          },
          "metadata": {
            "tags": [],
            "needs_background": "light"
          }
        }
      ]
    },
    {
      "cell_type": "code",
      "metadata": {
        "id": "pT_G84scYagw",
        "colab": {
          "base_uri": "https://localhost:8080/",
          "height": 95
        },
        "outputId": "01833f37-8eaf-47d4-fad3-5e7268da4a8a"
      },
      "source": [
        "plt.imshow(X_train[0, :, :200, 0])"
      ],
      "execution_count": 23,
      "outputs": [
        {
          "output_type": "execute_result",
          "data": {
            "text/plain": [
              "<matplotlib.image.AxesImage at 0x7f2b30de3610>"
            ]
          },
          "metadata": {
            "tags": []
          },
          "execution_count": 23
        },
        {
          "output_type": "display_data",
          "data": {
            "image/png": "[encoded data removed]",
            "text/plain": [
              "<Figure size 432x288 with 1 Axes>"
            ]
          },
          "metadata": {
            "tags": [],
            "needs_background": "light"
          }
        }
      ]
    },
    {
      "cell_type": "code",
      "metadata": {
        "id": "gLPy-GyeAyZC",
        "colab": {
          "base_uri": "https://localhost:8080/",
          "height": 248
        },
        "outputId": "1f558c74-9b0b-4a90-9eb3-fbbe4bea9d04"
      },
      "source": [
        "# create the x and y coordinate arrays (here we just use pixel indices)\r\n",
        "xx, yy = np.mgrid[0:X_train[0, :, :100, 0].shape[0], 0:X_train[0, :, :100, 0].shape[1]]\r\n",
        "\r\n",
        "# create the figure\r\n",
        "fig = plt.figure()\r\n",
        "ax = fig.gca(projection='3d')\r\n",
        "ax.plot_surface(xx, yy, X_train[0, :, :100, 0] ,rstride=1, cstride=1, cmap=plt.cm.gray,\r\n",
        "        linewidth=0)\r\n",
        "\r\n",
        "ax.view_init(5, 10)\r\n",
        "\r\n",
        "# show it\r\n",
        "plt.show()\r\n",
        "\r\n"
      ],
      "execution_count": 24,
      "outputs": [
        {
          "output_type": "display_data",
          "data": {
            "image/png": "[encoded data removed]",
            "text/plain": [
              "<Figure size 432x288 with 1 Axes>"
            ]
          },
          "metadata": {
            "tags": [],
            "needs_background": "light"
          }
        }
      ]
    },
    {
      "cell_type": "code",
      "metadata": {
        "id": "0uCm1db8y0m8"
      },
      "source": [
        "y_train_ = []\r\n",
        "for element in y_train:\r\n",
        "  for i in range(21):\r\n",
        "     y_train_.append(element)\r\n",
        "  \r\n",
        "y_train = np.array(y_train_)\r\n",
        "\r\n",
        "gen_age_train_ = []\r\n",
        "for element in gen_age_train:\r\n",
        "  for i in range(21):\r\n",
        "     gen_age_train_.append(element)\r\n",
        "  \r\n",
        "gen_age_train = np.array(gen_age_train_)"
      ],
      "execution_count": 25,
      "outputs": []
    },
    {
      "cell_type": "code",
      "metadata": {
        "id": "ZQR3WgMy9jce",
        "colab": {
          "base_uri": "https://localhost:8080/"
        },
        "outputId": "e26e83c2-9336-4f86-ceaa-c9a2ad891e03"
      },
      "source": [
        "np.shape(X_train)"
      ],
      "execution_count": 26,
      "outputs": [
        {
          "output_type": "execute_result",
          "data": {
            "text/plain": [
              "(903, 16, 5978, 1)"
            ]
          },
          "metadata": {
            "tags": []
          },
          "execution_count": 26
        }
      ]
    },
    {
      "cell_type": "markdown",
      "metadata": {
        "id": "4GaOcha_eBu8"
      },
      "source": [
        "**Data is ready**"
      ]
    },
    {
      "cell_type": "markdown",
      "metadata": {
        "id": "Kg7DNklIn7Fl"
      },
      "source": [
        "**Training 1**"
      ]
    },
    {
      "cell_type": "markdown",
      "metadata": {
        "id": "QosOFsrEn-Du"
      },
      "source": [
        "**Unbalanced database**"
      ]
    },
    {
      "cell_type": "code",
      "metadata": {
        "id": "n3KsMNhin-Dw"
      },
      "source": [
        "indexies_class_2 = np.where(y_train==0)[0]\r\n",
        "indexies_class_1 = np.where(y_train==1)[0]\r\n",
        "indexies_class_1 = indexies_class_1[:len(indexies_class_2)]\r\n",
        "indexies = [elem for element in [indexies_class_2, indexies_class_1]\r\n",
        "             for elem in element]\r\n",
        "indexies = np.array(indexies)\r\n",
        "\r\n",
        "X_train = X_train[indexies]\r\n",
        "y_train = y_train[indexies]\r\n",
        "gen_age_train = gen_age_train[indexies]"
      ],
      "execution_count": 27,
      "outputs": []
    },
    {
      "cell_type": "code",
      "metadata": {
        "id": "kRuGM0B-U3OI",
        "colab": {
          "base_uri": "https://localhost:8080/"
        },
        "outputId": "cd908cce-81b6-4309-c9ea-227443779844"
      },
      "source": [
        "len(indexies_class_2)"
      ],
      "execution_count": 28,
      "outputs": [
        {
          "output_type": "execute_result",
          "data": {
            "text/plain": [
              "420"
            ]
          },
          "metadata": {
            "tags": []
          },
          "execution_count": 28
        }
      ]
    },
    {
      "cell_type": "code",
      "metadata": {
        "id": "vPOcA7A1BOba",
        "colab": {
          "base_uri": "https://localhost:8080/"
        },
        "outputId": "5b166b85-f102-47c8-e6f4-977e3421e1b4"
      },
      "source": [
        "np.shape(X_train)"
      ],
      "execution_count": 29,
      "outputs": [
        {
          "output_type": "execute_result",
          "data": {
            "text/plain": [
              "(840, 16, 5978, 1)"
            ]
          },
          "metadata": {
            "tags": []
          },
          "execution_count": 29
        }
      ]
    },
    {
      "cell_type": "markdown",
      "metadata": {
        "id": "pAlzpm_p_qQW"
      },
      "source": [
        "**Test**"
      ]
    },
    {
      "cell_type": "code",
      "metadata": {
        "id": "sElmz5r1lBCa",
        "colab": {
          "base_uri": "https://localhost:8080/"
        },
        "outputId": "685a74ec-a0b7-48f9-b518-2411a6abbfa0"
      },
      "source": [
        "seuil = 0\r\n",
        "signals = []\r\n",
        "for df in dfs_test:\r\n",
        "  signals_userX = []\r\n",
        "  for key in columns:\r\n",
        "\r\n",
        "    # getting signals\r\n",
        "    vector_work = df[key].values\r\n",
        "\r\n",
        "    # sampling\r\n",
        "    signals_userX.append(vector_work[::3])\r\n",
        "\r\n",
        "  signals.append(signals_userX)\r\n",
        "\r\n",
        "images = []\r\n",
        "for signal in signals:\r\n",
        "  if signal:\r\n",
        "    images.append(pad(signal, np.shape(signals)[1], length_max))\r\n",
        "\r\n",
        "images = np.array(images)\r\n",
        "images = np.reshape(images, np.shape(images) + (1,))\r\n",
        "X_test = images/np.max(images)"
      ],
      "execution_count": 30,
      "outputs": [
        {
          "output_type": "stream",
          "text": [
            "/usr/local/lib/python3.7/dist-packages/numpy/core/_asarray.py:83: VisibleDeprecationWarning: Creating an ndarray from ragged nested sequences (which is a list-or-tuple of lists-or-tuples-or ndarrays with different lengths or shapes) is deprecated. If you meant to do this, you must specify 'dtype=object' when creating the ndarray\n",
            "  return array(a, dtype, copy=False, order=order)\n"
          ],
          "name": "stderr"
        }
      ]
    },
    {
      "cell_type": "code",
      "metadata": {
        "id": "PeFHYm9cn-D2",
        "colab": {
          "base_uri": "https://localhost:8080/"
        },
        "outputId": "d007560a-dac2-4685-9f3b-27ce0169a15e"
      },
      "source": [
        "from keras.models import Sequential\r\n",
        "from keras.layers import Conv2D, MaxPooling2D, Flatten\r\n",
        "from keras.layers import Input, Dense, Activation, Dropout, BatchNormalization\r\n",
        "import tensorflow as tf\r\n",
        "from keras.regularizers import l2\r\n",
        "from tensorflow.keras.optimizers import RMSprop, Adam, SGD\r\n",
        "\r\n",
        "# building the network\r\n",
        "model = Sequential()\r\n",
        "\r\n",
        "# declaring the layers (conv + maxpoling)\r\n",
        "# extraction des features\r\n",
        "model.add(Input(shape=(16, length_max, 1)))\r\n",
        "\r\n",
        "model.add(Conv2D(32, kernel_size=(16, 7), activation='relu', padding=\"same\"))\r\n",
        "model.add(MaxPooling2D(pool_size=(2, 2), padding=\"same\"))\r\n",
        "\r\n",
        "model.add(Conv2D(64, kernel_size=(3, 3), activation='relu', padding=\"same\"))\r\n",
        "model.add(MaxPooling2D(pool_size=(2, 2), padding=\"same\"))\r\n",
        "\r\n",
        "model.add(Conv2D(128, kernel_size=(3, 3), activation='relu', padding=\"same\"))\r\n",
        "model.add(MaxPooling2D(pool_size=(4, 4), padding=\"same\"))\r\n",
        "\r\n",
        "model.add(Flatten())\r\n",
        "\r\n",
        "model.add(Dense(128, activation='relu'))\r\n",
        "BatchNormalization(),\r\n",
        "model.add(Dropout(0.7))\r\n",
        "\r\n",
        "model.add(Dense(1, activation='sigmoid'))\r\n",
        "\r\n",
        "# loss function, metrics and optimizer\r\n",
        "model.compile(optimizer=tf.keras.optimizers.Adam(lr=0.00001),\r\n",
        "                    loss='binary_crossentropy',\r\n",
        "                    metrics=['accuracy'])\r\n",
        "\r\n",
        "model.summary()"
      ],
      "execution_count": 31,
      "outputs": [
        {
          "output_type": "stream",
          "text": [
            "Model: \"sequential\"\n",
            "_________________________________________________________________\n",
            "Layer (type)                 Output Shape              Param #   \n",
            "=================================================================\n",
            "conv2d (Conv2D)              (None, 16, 5978, 32)      3616      \n",
            "_________________________________________________________________\n",
            "max_pooling2d (MaxPooling2D) (None, 8, 2989, 32)       0         \n",
            "_________________________________________________________________\n",
            "conv2d_1 (Conv2D)            (None, 8, 2989, 64)       18496     \n",
            "_________________________________________________________________\n",
            "max_pooling2d_1 (MaxPooling2 (None, 4, 1495, 64)       0         \n",
            "_________________________________________________________________\n",
            "conv2d_2 (Conv2D)            (None, 4, 1495, 128)      73856     \n",
            "_________________________________________________________________\n",
            "max_pooling2d_2 (MaxPooling2 (None, 1, 374, 128)       0         \n",
            "_________________________________________________________________\n",
            "flatten (Flatten)            (None, 47872)             0         \n",
            "_________________________________________________________________\n",
            "dense (Dense)                (None, 128)               6127744   \n",
            "_________________________________________________________________\n",
            "dropout (Dropout)            (None, 128)               0         \n",
            "_________________________________________________________________\n",
            "dense_1 (Dense)              (None, 1)                 129       \n",
            "=================================================================\n",
            "Total params: 6,223,841\n",
            "Trainable params: 6,223,841\n",
            "Non-trainable params: 0\n",
            "_________________________________________________________________\n"
          ],
          "name": "stdout"
        }
      ]
    },
    {
      "cell_type": "code",
      "metadata": {
        "id": "QHpGONHg9VnF"
      },
      "source": [
        "#model.load_weights('./weights.h5')"
      ],
      "execution_count": 32,
      "outputs": []
    },
    {
      "cell_type": "code",
      "metadata": {
        "id": "xHJ_qmQp1zGi",
        "colab": {
          "base_uri": "https://localhost:8080/"
        },
        "outputId": "b35c8e9e-64e8-43b7-b38c-d015cf74cec2"
      },
      "source": [
        "length_max"
      ],
      "execution_count": 33,
      "outputs": [
        {
          "output_type": "execute_result",
          "data": {
            "text/plain": [
              "5978"
            ]
          },
          "metadata": {
            "tags": []
          },
          "execution_count": 33
        }
      ]
    },
    {
      "cell_type": "code",
      "metadata": {
        "id": "W5aONda9IqpK",
        "colab": {
          "base_uri": "https://localhost:8080/"
        },
        "outputId": "eb0142d5-3f42-4463-ede6-e5a91a974ae5"
      },
      "source": [
        "np.shape(X_train)"
      ],
      "execution_count": 34,
      "outputs": [
        {
          "output_type": "execute_result",
          "data": {
            "text/plain": [
              "(840, 16, 5978, 1)"
            ]
          },
          "metadata": {
            "tags": []
          },
          "execution_count": 34
        }
      ]
    },
    {
      "cell_type": "code",
      "metadata": {
        "id": "TF8ds5PKn-D4",
        "colab": {
          "base_uri": "https://localhost:8080/"
        },
        "outputId": "43241c5a-68ce-428b-e6f2-4a72d0997b0a"
      },
      "source": [
        "start = time()\r\n",
        "history = History()\r\n",
        "model.fit(X_train, y_train, epochs=30, validation_data=(X_test, y_test), verbose=1, batch_size=32, callbacks=[history])\r\n",
        "\r\n",
        "print(time()-start)"
      ],
      "execution_count": 35,
      "outputs": [
        {
          "output_type": "stream",
          "text": [
            "Epoch 1/30\n",
            "27/27 [==============================] - 38s 146ms/step - loss: 0.6843 - accuracy: 0.6532 - val_loss: 0.6476 - val_accuracy: 0.9070\n",
            "Epoch 2/30\n",
            "27/27 [==============================] - 3s 102ms/step - loss: 0.6396 - accuracy: 0.8960 - val_loss: 0.6031 - val_accuracy: 0.9070\n",
            "Epoch 3/30\n",
            "27/27 [==============================] - 3s 101ms/step - loss: 0.5801 - accuracy: 0.9308 - val_loss: 0.5530 - val_accuracy: 0.9070\n",
            "Epoch 4/30\n",
            "27/27 [==============================] - 3s 102ms/step - loss: 0.5062 - accuracy: 0.9278 - val_loss: 0.4695 - val_accuracy: 0.9070\n",
            "Epoch 5/30\n",
            "27/27 [==============================] - 3s 101ms/step - loss: 0.4131 - accuracy: 0.9235 - val_loss: 0.4370 - val_accuracy: 0.8837\n",
            "Epoch 6/30\n",
            "27/27 [==============================] - 3s 103ms/step - loss: 0.3160 - accuracy: 0.9357 - val_loss: 0.3900 - val_accuracy: 0.9070\n",
            "Epoch 7/30\n",
            "27/27 [==============================] - 3s 102ms/step - loss: 0.2506 - accuracy: 0.9487 - val_loss: 0.3898 - val_accuracy: 0.8605\n",
            "Epoch 8/30\n",
            "27/27 [==============================] - 3s 103ms/step - loss: 0.2043 - accuracy: 0.9438 - val_loss: 0.4260 - val_accuracy: 0.8605\n",
            "Epoch 9/30\n",
            "27/27 [==============================] - 3s 103ms/step - loss: 0.1752 - accuracy: 0.9513 - val_loss: 0.4477 - val_accuracy: 0.8372\n",
            "Epoch 10/30\n",
            "27/27 [==============================] - 3s 103ms/step - loss: 0.1857 - accuracy: 0.9478 - val_loss: 0.4701 - val_accuracy: 0.8372\n",
            "Epoch 11/30\n",
            "27/27 [==============================] - 3s 103ms/step - loss: 0.1594 - accuracy: 0.9505 - val_loss: 0.4983 - val_accuracy: 0.8372\n",
            "Epoch 12/30\n",
            "27/27 [==============================] - 3s 103ms/step - loss: 0.1757 - accuracy: 0.9323 - val_loss: 0.5303 - val_accuracy: 0.8372\n",
            "Epoch 13/30\n",
            "27/27 [==============================] - 3s 104ms/step - loss: 0.1682 - accuracy: 0.9310 - val_loss: 0.5279 - val_accuracy: 0.8372\n",
            "Epoch 14/30\n",
            "27/27 [==============================] - 3s 104ms/step - loss: 0.1582 - accuracy: 0.9439 - val_loss: 0.5383 - val_accuracy: 0.8372\n",
            "Epoch 15/30\n",
            "27/27 [==============================] - 3s 104ms/step - loss: 0.1675 - accuracy: 0.9394 - val_loss: 0.5675 - val_accuracy: 0.8372\n",
            "Epoch 16/30\n",
            "27/27 [==============================] - 3s 105ms/step - loss: 0.1537 - accuracy: 0.9471 - val_loss: 0.5570 - val_accuracy: 0.8372\n",
            "Epoch 17/30\n",
            "27/27 [==============================] - 3s 105ms/step - loss: 0.1555 - accuracy: 0.9407 - val_loss: 0.5492 - val_accuracy: 0.8372\n",
            "Epoch 18/30\n",
            "27/27 [==============================] - 3s 105ms/step - loss: 0.1283 - accuracy: 0.9532 - val_loss: 0.5984 - val_accuracy: 0.8372\n",
            "Epoch 19/30\n",
            "27/27 [==============================] - 3s 105ms/step - loss: 0.1441 - accuracy: 0.9472 - val_loss: 0.5517 - val_accuracy: 0.8372\n",
            "Epoch 20/30\n",
            "27/27 [==============================] - 3s 106ms/step - loss: 0.1317 - accuracy: 0.9477 - val_loss: 0.6197 - val_accuracy: 0.8140\n",
            "Epoch 21/30\n",
            "27/27 [==============================] - 3s 106ms/step - loss: 0.1524 - accuracy: 0.9367 - val_loss: 0.5781 - val_accuracy: 0.8372\n",
            "Epoch 22/30\n",
            "27/27 [==============================] - 3s 106ms/step - loss: 0.1222 - accuracy: 0.9625 - val_loss: 0.5951 - val_accuracy: 0.8372\n",
            "Epoch 23/30\n",
            "27/27 [==============================] - 3s 106ms/step - loss: 0.1217 - accuracy: 0.9510 - val_loss: 0.6886 - val_accuracy: 0.7907\n",
            "Epoch 24/30\n",
            "27/27 [==============================] - 3s 106ms/step - loss: 0.1393 - accuracy: 0.9523 - val_loss: 0.6526 - val_accuracy: 0.8140\n",
            "Epoch 25/30\n",
            "27/27 [==============================] - 3s 107ms/step - loss: 0.1230 - accuracy: 0.9551 - val_loss: 0.6615 - val_accuracy: 0.8140\n",
            "Epoch 26/30\n",
            "27/27 [==============================] - 3s 107ms/step - loss: 0.1240 - accuracy: 0.9450 - val_loss: 0.6132 - val_accuracy: 0.8372\n",
            "Epoch 27/30\n",
            "27/27 [==============================] - 3s 106ms/step - loss: 0.1220 - accuracy: 0.9570 - val_loss: 0.6372 - val_accuracy: 0.8372\n",
            "Epoch 28/30\n",
            "27/27 [==============================] - 3s 107ms/step - loss: 0.1164 - accuracy: 0.9461 - val_loss: 0.6454 - val_accuracy: 0.8372\n",
            "Epoch 29/30\n",
            "27/27 [==============================] - 3s 106ms/step - loss: 0.1054 - accuracy: 0.9544 - val_loss: 0.6744 - val_accuracy: 0.8140\n",
            "Epoch 30/30\n",
            "27/27 [==============================] - 3s 106ms/step - loss: 0.1074 - accuracy: 0.9597 - val_loss: 0.6628 - val_accuracy: 0.8372\n",
            "119.89443588256836\n"
          ],
          "name": "stdout"
        }
      ]
    },
    {
      "cell_type": "code",
      "metadata": {
        "colab": {
          "base_uri": "https://localhost:8080/"
        },
        "id": "BZ2lX1070X3l",
        "outputId": "01cd7494-e40e-4a6f-b6b7-956cdef55c6c"
      },
      "source": [
        "model.evaluate(X_test, y_test)"
      ],
      "execution_count": 36,
      "outputs": [
        {
          "output_type": "stream",
          "text": [
            "2/2 [==============================] - 0s 17ms/step - loss: 0.6628 - accuracy: 0.8372\n"
          ],
          "name": "stdout"
        },
        {
          "output_type": "execute_result",
          "data": {
            "text/plain": [
              "[0.6628383994102478, 0.8372092843055725]"
            ]
          },
          "metadata": {
            "tags": []
          },
          "execution_count": 36
        }
      ]
    },
    {
      "cell_type": "code",
      "metadata": {
        "colab": {
          "base_uri": "https://localhost:8080/"
        },
        "id": "IilVYJR5d0sr",
        "outputId": "69dd4092-b508-475d-8a69-c9a571158ddc"
      },
      "source": [
        "print('Mean:', np.mean([90.91, 81.82, 100, 81.82, 90.91, 90.91, 90, 90]))\r\n",
        "print('STD:', np.std([90.91, 81.82, 100, 81.82, 90.91, 90.91, 90, 90]))"
      ],
      "execution_count": 37,
      "outputs": [
        {
          "output_type": "stream",
          "text": [
            "Mean: 89.54624999999999\n",
            "STD: 5.415971606046326\n"
          ],
          "name": "stdout"
        }
      ]
    },
    {
      "cell_type": "code",
      "metadata": {
        "colab": {
          "base_uri": "https://localhost:8080/"
        },
        "id": "3IkSurXR3Meb",
        "outputId": "6cdcdb44-17df-4238-ddcc-e9db30d26424"
      },
      "source": [
        "history.history.keys()"
      ],
      "execution_count": 38,
      "outputs": [
        {
          "output_type": "execute_result",
          "data": {
            "text/plain": [
              "dict_keys(['loss', 'accuracy', 'val_loss', 'val_accuracy'])"
            ]
          },
          "metadata": {
            "tags": []
          },
          "execution_count": 38
        }
      ]
    },
    {
      "cell_type": "code",
      "metadata": {
        "colab": {
          "base_uri": "https://localhost:8080/",
          "height": 591
        },
        "id": "QZqc2l0D2_I_",
        "outputId": "87863efc-a55d-4ee6-c420-2c86a052c76a"
      },
      "source": [
        "print(history.history.keys())\r\n",
        "# summarize history for accuracy\r\n",
        "plt.plot(history.history['accuracy'])\r\n",
        "plt.plot(history.history['val_accuracy'])\r\n",
        "plt.title('model accuracy')\r\n",
        "plt.ylabel('accuracy')\r\n",
        "plt.xlabel('epoch')\r\n",
        "plt.legend(['train', 'test'], loc='upper left')\r\n",
        "plt.show()\r\n",
        "# summarize history for loss\r\n",
        "plt.plot(history.history['loss'])\r\n",
        "plt.plot(history.history['val_loss'])\r\n",
        "plt.title('model loss')\r\n",
        "plt.ylabel('loss')\r\n",
        "plt.xlabel('epoch')\r\n",
        "plt.legend(['train', 'test'], loc='upper left')\r\n",
        "plt.show()"
      ],
      "execution_count": 39,
      "outputs": [
        {
          "output_type": "stream",
          "text": [
            "dict_keys(['loss', 'accuracy', 'val_loss', 'val_accuracy'])\n"
          ],
          "name": "stdout"
        },
        {
          "output_type": "display_data",
          "data": {
            "image/png": "[encoded data removed]",
            "text/plain": [
              "<Figure size 432x288 with 1 Axes>"
            ]
          },
          "metadata": {
            "tags": [],
            "needs_background": "light"
          }
        },
        {
          "output_type": "display_data",
          "data": {
            "image/png": "[encoded data removed]",
            "text/plain": [
              "<Figure size 432x288 with 1 Axes>"
            ]
          },
          "metadata": {
            "tags": [],
            "needs_background": "light"
          }
        }
      ]
    },
    {
      "cell_type": "code",
      "metadata": {
        "id": "x5_jS9_dZgpI",
        "colab": {
          "base_uri": "https://localhost:8080/",
          "height": 132
        },
        "outputId": "55c364a0-adc0-4891-ce24-8c1eaace3dc4"
      },
      "source": [
        "STOP HERE"
      ],
      "execution_count": 40,
      "outputs": [
        {
          "output_type": "error",
          "ename": "SyntaxError",
          "evalue": "ignored",
          "traceback": [
            "\u001b[0;36m  File \u001b[0;32m\"<ipython-input-40-a6774c8535dd>\"\u001b[0;36m, line \u001b[0;32m1\u001b[0m\n\u001b[0;31m    STOP HERE\u001b[0m\n\u001b[0m            ^\u001b[0m\n\u001b[0;31mSyntaxError\u001b[0m\u001b[0;31m:\u001b[0m invalid syntax\n"
          ]
        }
      ]
    },
    {
      "cell_type": "code",
      "metadata": {
        "id": "SHJiwTMIDjhK"
      },
      "source": [
        "#model.save_weights('./weights.h5')\r\n",
        "#model.load_weights('./weights.h5')"
      ],
      "execution_count": null,
      "outputs": []
    },
    {
      "cell_type": "markdown",
      "metadata": {
        "id": "KKmMUvl3Q_Cx"
      },
      "source": [
        "**Feature extraction (using another classiffier but ANN)**"
      ]
    },
    {
      "cell_type": "code",
      "metadata": {
        "id": "wlXxV1AaCghN"
      },
      "source": [
        "# building the network\r\n",
        "model2 = Sequential()\r\n",
        "\r\n",
        "# declaring the layers (conv + maxpoling)\r\n",
        "# extraction des features\r\n",
        "model2.add(Input(shape=(16, length_max, 1)))\r\n",
        "\r\n",
        "model2.add(Conv2D(32, kernel_size=(16, 7), activation='relu', padding=\"same\"))\r\n",
        "model2.add(MaxPooling2D(pool_size=(2, 2), padding=\"same\"))\r\n",
        "\r\n",
        "model2.add(Conv2D(64, kernel_size=(3, 3), activation='relu', padding=\"same\"))\r\n",
        "model2.add(MaxPooling2D(pool_size=(2, 2), padding=\"same\"))\r\n",
        "\r\n",
        "model2.add(Conv2D(128, kernel_size=(3, 3), activation='relu', padding=\"same\"))\r\n",
        "model2.add(MaxPooling2D(pool_size=(4, 4), padding=\"same\"))\r\n",
        "\r\n",
        "model2.add(Flatten())"
      ],
      "execution_count": 41,
      "outputs": []
    },
    {
      "cell_type": "code",
      "metadata": {
        "id": "xOnXCRe9Ewuz"
      },
      "source": [
        "for i in range(len(model.layers[0:6])):\r\n",
        "  weights = model.layers[i].get_weights()\r\n",
        "  model2.layers[i].set_weights(weights)\r\n",
        "  "
      ],
      "execution_count": 43,
      "outputs": []
    },
    {
      "cell_type": "code",
      "metadata": {
        "id": "tSodMWdoE-5m"
      },
      "source": [
        "features_train = model2.predict(X_train)\r\n",
        "features_test = model2.predict(X_test)"
      ],
      "execution_count": 44,
      "outputs": []
    },
    {
      "cell_type": "code",
      "metadata": {
        "id": "G_1BlYyVC1Gv",
        "colab": {
          "base_uri": "https://localhost:8080/"
        },
        "outputId": "c27879ae-f666-4e51-c7bc-8cc34436f8f6"
      },
      "source": [
        "np.shape(features_train)"
      ],
      "execution_count": 45,
      "outputs": [
        {
          "output_type": "execute_result",
          "data": {
            "text/plain": [
              "(840, 47872)"
            ]
          },
          "metadata": {
            "tags": []
          },
          "execution_count": 45
        }
      ]
    },
    {
      "cell_type": "code",
      "metadata": {
        "id": "QZuFkUEGIHbb"
      },
      "source": [
        "pca = PCA(n_components=0.99)\r\n",
        "pca.fit(features_train)\r\n",
        "\r\n",
        "#pca.explained_variance_ratio_\r\n",
        "\r\n",
        "X_train = pca.transform(features_train)\r\n",
        "X_test = pca.transform(features_test)"
      ],
      "execution_count": null,
      "outputs": []
    },
    {
      "cell_type": "code",
      "metadata": {
        "id": "HyUdQg-WFHqC"
      },
      "source": [
        "features_train_new = np.concatenate((features_train, gen_age_train), axis=1)\r\n",
        "features_test_new = np.concatenate((features_test, gen_age_test), axis=1)"
      ],
      "execution_count": 46,
      "outputs": []
    },
    {
      "cell_type": "code",
      "metadata": {
        "id": "FuYCyN3bIPne"
      },
      "source": [
        "np.shape(features_train_new)"
      ],
      "execution_count": null,
      "outputs": []
    },
    {
      "cell_type": "code",
      "metadata": {
        "id": "nyyapbPfIvC4",
        "colab": {
          "base_uri": "https://localhost:8080/"
        },
        "outputId": "97180c39-ad40-4579-83b0-7c2d243916d7"
      },
      "source": [
        "from sklearn.tree import DecisionTreeClassifier # Import Decision Tree Classifier\r\n",
        "\r\n",
        "# Create Decision Tree classifer object\r\n",
        "clf = DecisionTreeClassifier()\r\n",
        "\r\n",
        "# Train Decision Tree Classifer\r\n",
        "clf = clf.fit(features_train_new, y_train)\r\n",
        "\r\n",
        "#Predict the response for test dataset\r\n",
        "y_pred = clf.predict(features_test_new)\r\n",
        "\r\n",
        "print(classification_report(y_test, y_pred))\r\n",
        "\r\n",
        "precision = precision_score(y_test, y_pred, average='macro')\r\n",
        "precision"
      ],
      "execution_count": 57,
      "outputs": [
        {
          "output_type": "stream",
          "text": [
            "              precision    recall  f1-score   support\n",
            "\n",
            "           0       0.71      1.00      0.83        12\n",
            "           1       1.00      0.84      0.91        31\n",
            "\n",
            "    accuracy                           0.88        43\n",
            "   macro avg       0.85      0.92      0.87        43\n",
            "weighted avg       0.92      0.88      0.89        43\n",
            "\n"
          ],
          "name": "stdout"
        },
        {
          "output_type": "execute_result",
          "data": {
            "text/plain": [
              "0.8529411764705883"
            ]
          },
          "metadata": {
            "tags": []
          },
          "execution_count": 57
        }
      ]
    },
    {
      "cell_type": "code",
      "metadata": {
        "id": "-zKuCO41Srlr"
      },
      "source": [
        "np.shape(y_train)"
      ],
      "execution_count": null,
      "outputs": []
    },
    {
      "cell_type": "code",
      "metadata": {
        "id": "CFe8jmX4IzQ6",
        "colab": {
          "base_uri": "https://localhost:8080/"
        },
        "outputId": "4342bb45-c859-4b9c-bb3b-2744b4b8d797"
      },
      "source": [
        "from sklearn.naive_bayes import GaussianNB\r\n",
        "from sklearn.metrics import precision_score\r\n",
        "model = GaussianNB()\r\n",
        "\r\n",
        "# Train the model using the training sets\r\n",
        "model.fit(features_train_new, y_train)\r\n",
        "\r\n",
        "y_pred = model.predict(features_test_new)\r\n",
        "\r\n",
        "print(classification_report(y_test, y_pred))\r\n",
        "\r\n",
        "precision = precision_score(y_test, y_pred, average='macro')\r\n",
        "precision"
      ],
      "execution_count": 58,
      "outputs": [
        {
          "output_type": "stream",
          "text": [
            "              precision    recall  f1-score   support\n",
            "\n",
            "           0       0.50      1.00      0.67        12\n",
            "           1       1.00      0.61      0.76        31\n",
            "\n",
            "    accuracy                           0.72        43\n",
            "   macro avg       0.75      0.81      0.71        43\n",
            "weighted avg       0.86      0.72      0.73        43\n",
            "\n"
          ],
          "name": "stdout"
        },
        {
          "output_type": "execute_result",
          "data": {
            "text/plain": [
              "0.75"
            ]
          },
          "metadata": {
            "tags": []
          },
          "execution_count": 58
        }
      ]
    },
    {
      "cell_type": "code",
      "metadata": {
        "id": "SjWho__RTLMO"
      },
      "source": [
        "np.shape(y_test)"
      ],
      "execution_count": null,
      "outputs": []
    },
    {
      "cell_type": "code",
      "metadata": {
        "id": "TL5sMjXnI1Q4",
        "colab": {
          "base_uri": "https://localhost:8080/"
        },
        "outputId": "5cc8dc63-d0c6-498b-9109-c8638da19ff1"
      },
      "source": [
        "from sklearn.neighbors import KNeighborsClassifier\r\n",
        "classifier = KNeighborsClassifier(n_neighbors=3)\r\n",
        "\r\n",
        "classifier.fit(features_train_new, y_train)\r\n",
        "\r\n",
        "y_pred = classifier.predict(features_test_new)\r\n",
        "print(classification_report(y_test, y_pred))\r\n",
        "\r\n",
        "precision = precision_score(y_test, y_pred, average='macro')\r\n",
        "precision"
      ],
      "execution_count": 59,
      "outputs": [
        {
          "output_type": "stream",
          "text": [
            "              precision    recall  f1-score   support\n",
            "\n",
            "           0       0.75      1.00      0.86        12\n",
            "           1       1.00      0.87      0.93        31\n",
            "\n",
            "    accuracy                           0.91        43\n",
            "   macro avg       0.88      0.94      0.89        43\n",
            "weighted avg       0.93      0.91      0.91        43\n",
            "\n"
          ],
          "name": "stdout"
        },
        {
          "output_type": "execute_result",
          "data": {
            "text/plain": [
              "0.875"
            ]
          },
          "metadata": {
            "tags": []
          },
          "execution_count": 59
        }
      ]
    },
    {
      "cell_type": "code",
      "metadata": {
        "id": "_3nC_MvwI5xi",
        "colab": {
          "base_uri": "https://localhost:8080/"
        },
        "outputId": "1ef1315c-434b-4f1f-802b-ba6c70c7cc00"
      },
      "source": [
        "from xgboost import XGBClassifier\r\n",
        "\r\n",
        "clf = XGBClassifier()\r\n",
        "clf.fit(features_train_new, y_train)\r\n",
        "y_pred = clf.predict(features_test_new)\r\n",
        "\r\n",
        "\r\n",
        "precision = precision_score(y_test, y_pred, average='weighted')\r\n",
        "precision"
      ],
      "execution_count": 53,
      "outputs": [
        {
          "output_type": "execute_result",
          "data": {
            "text/plain": [
              "0.9302325581395349"
            ]
          },
          "metadata": {
            "tags": []
          },
          "execution_count": 53
        }
      ]
    },
    {
      "cell_type": "code",
      "metadata": {
        "id": "zn-2Z696UY5X"
      },
      "source": [
        "np.shape(gen_age)"
      ],
      "execution_count": null,
      "outputs": []
    },
    {
      "cell_type": "markdown",
      "metadata": {
        "id": "BSBA5mh4A9_K"
      },
      "source": [
        "**ANN**"
      ]
    },
    {
      "cell_type": "code",
      "metadata": {
        "id": "0fHn6B9xO7Zh",
        "colab": {
          "base_uri": "https://localhost:8080/"
        },
        "outputId": "72e14b22-3ddc-404b-9174-83a66f2dc3e7"
      },
      "source": [
        "np.shape(features_train_new)"
      ],
      "execution_count": 54,
      "outputs": [
        {
          "output_type": "execute_result",
          "data": {
            "text/plain": [
              "(840, 47874)"
            ]
          },
          "metadata": {
            "tags": []
          },
          "execution_count": 54
        }
      ]
    },
    {
      "cell_type": "code",
      "metadata": {
        "id": "S-xNwFZ5A5fY"
      },
      "source": [
        "from keras.models import Sequential\r\n",
        "from keras.layers import Dense, Dropout\r\n",
        "import tensorflow as tf\r\n",
        "from tensorflow.keras.optimizers import RMSprop, Adam, SGD\r\n",
        "\r\n",
        "# define the keras model\r\n",
        "model = Sequential()\r\n",
        "model.add(Dense(32, input_dim=47874, activation='relu'))\r\n",
        "model.add(Dropout(0.5))\r\n",
        "\r\n",
        "model.add(Dense(16, activation='relu'))\r\n",
        "model.add(Dropout(0.2))\r\n",
        "\r\n",
        "model.add(Dense(1, activation='sigmoid'))\r\n",
        "\r\n",
        "# compile the keras model\r\n",
        "model.compile(loss='binary_crossentropy', \r\n",
        "              optimizer=Adam(learning_rate=0.0001), \r\n",
        "              metrics=['accuracy'])"
      ],
      "execution_count": 55,
      "outputs": []
    },
    {
      "cell_type": "code",
      "metadata": {
        "id": "0fNziBeNK8no",
        "colab": {
          "base_uri": "https://localhost:8080/",
          "height": 1000
        },
        "outputId": "804e4a69-5a3b-48e4-a481-0efa3ca44573"
      },
      "source": [
        "model.fit(features_train_new, y_train, epochs=1000, validation_data=(features_test_new, y_test))"
      ],
      "execution_count": 56,
      "outputs": [
        {
          "output_type": "stream",
          "text": [
            "Epoch 1/1000\n",
            "27/27 [==============================] - 1s 11ms/step - loss: 0.5149 - accuracy: 0.7547 - val_loss: 0.3552 - val_accuracy: 0.9070\n",
            "Epoch 2/1000\n",
            "27/27 [==============================] - 0s 6ms/step - loss: 0.2783 - accuracy: 0.9184 - val_loss: 0.4632 - val_accuracy: 0.8372\n",
            "Epoch 3/1000\n",
            "27/27 [==============================] - 0s 6ms/step - loss: 0.2357 - accuracy: 0.9105 - val_loss: 0.4968 - val_accuracy: 0.8372\n",
            "Epoch 4/1000\n",
            "27/27 [==============================] - 0s 7ms/step - loss: 0.2357 - accuracy: 0.9153 - val_loss: 0.4074 - val_accuracy: 0.8837\n",
            "Epoch 5/1000\n",
            "27/27 [==============================] - 0s 7ms/step - loss: 0.1913 - accuracy: 0.9208 - val_loss: 0.5421 - val_accuracy: 0.8372\n",
            "Epoch 6/1000\n",
            "27/27 [==============================] - 0s 7ms/step - loss: 0.1959 - accuracy: 0.9268 - val_loss: 0.4392 - val_accuracy: 0.8605\n",
            "Epoch 7/1000\n",
            "27/27 [==============================] - 0s 7ms/step - loss: 0.2004 - accuracy: 0.9146 - val_loss: 0.4371 - val_accuracy: 0.8837\n",
            "Epoch 8/1000\n",
            "27/27 [==============================] - 0s 7ms/step - loss: 0.1568 - accuracy: 0.9557 - val_loss: 0.4994 - val_accuracy: 0.8605\n",
            "Epoch 9/1000\n",
            "27/27 [==============================] - 0s 7ms/step - loss: 0.1850 - accuracy: 0.9315 - val_loss: 0.5359 - val_accuracy: 0.8372\n",
            "Epoch 10/1000\n",
            "27/27 [==============================] - 0s 7ms/step - loss: 0.1621 - accuracy: 0.9387 - val_loss: 0.6807 - val_accuracy: 0.7674\n",
            "Epoch 11/1000\n",
            "27/27 [==============================] - 0s 7ms/step - loss: 0.1826 - accuracy: 0.9213 - val_loss: 0.4461 - val_accuracy: 0.8837\n",
            "Epoch 12/1000\n",
            "27/27 [==============================] - 0s 7ms/step - loss: 0.1686 - accuracy: 0.9318 - val_loss: 0.4259 - val_accuracy: 0.9070\n",
            "Epoch 13/1000\n",
            "27/27 [==============================] - 0s 7ms/step - loss: 0.1649 - accuracy: 0.9299 - val_loss: 0.6657 - val_accuracy: 0.7674\n",
            "Epoch 14/1000\n",
            "27/27 [==============================] - 0s 6ms/step - loss: 0.1430 - accuracy: 0.9356 - val_loss: 0.6403 - val_accuracy: 0.7674\n",
            "Epoch 15/1000\n",
            "27/27 [==============================] - 0s 6ms/step - loss: 0.1486 - accuracy: 0.9455 - val_loss: 0.5901 - val_accuracy: 0.8372\n",
            "Epoch 16/1000\n",
            "27/27 [==============================] - 0s 6ms/step - loss: 0.1288 - accuracy: 0.9578 - val_loss: 0.5420 - val_accuracy: 0.8837\n",
            "Epoch 17/1000\n",
            "27/27 [==============================] - 0s 7ms/step - loss: 0.1367 - accuracy: 0.9355 - val_loss: 0.6313 - val_accuracy: 0.7907\n",
            "Epoch 18/1000\n",
            "27/27 [==============================] - 0s 6ms/step - loss: 0.1560 - accuracy: 0.9378 - val_loss: 0.7463 - val_accuracy: 0.7674\n",
            "Epoch 19/1000\n",
            "27/27 [==============================] - 0s 6ms/step - loss: 0.1517 - accuracy: 0.9425 - val_loss: 0.5735 - val_accuracy: 0.8837\n",
            "Epoch 20/1000\n",
            "27/27 [==============================] - 0s 7ms/step - loss: 0.1314 - accuracy: 0.9424 - val_loss: 0.5231 - val_accuracy: 0.8837\n",
            "Epoch 21/1000\n",
            "27/27 [==============================] - 0s 7ms/step - loss: 0.1529 - accuracy: 0.9445 - val_loss: 0.6118 - val_accuracy: 0.8372\n",
            "Epoch 22/1000\n",
            "27/27 [==============================] - 0s 7ms/step - loss: 0.1257 - accuracy: 0.9451 - val_loss: 0.6492 - val_accuracy: 0.8372\n",
            "Epoch 23/1000\n",
            "27/27 [==============================] - 0s 7ms/step - loss: 0.1289 - accuracy: 0.9432 - val_loss: 0.5780 - val_accuracy: 0.8372\n",
            "Epoch 24/1000\n",
            "27/27 [==============================] - 0s 6ms/step - loss: 0.1221 - accuracy: 0.9410 - val_loss: 0.5627 - val_accuracy: 0.8837\n",
            "Epoch 25/1000\n",
            "27/27 [==============================] - 0s 6ms/step - loss: 0.1178 - accuracy: 0.9520 - val_loss: 0.7068 - val_accuracy: 0.8140\n",
            "Epoch 26/1000\n",
            "27/27 [==============================] - 0s 7ms/step - loss: 0.1082 - accuracy: 0.9654 - val_loss: 0.6518 - val_accuracy: 0.8372\n",
            "Epoch 27/1000\n",
            "27/27 [==============================] - 0s 7ms/step - loss: 0.0962 - accuracy: 0.9585 - val_loss: 0.6843 - val_accuracy: 0.8372\n",
            "Epoch 28/1000\n",
            "27/27 [==============================] - 0s 7ms/step - loss: 0.0880 - accuracy: 0.9726 - val_loss: 0.7037 - val_accuracy: 0.8372\n",
            "Epoch 29/1000\n",
            "27/27 [==============================] - 0s 6ms/step - loss: 0.1063 - accuracy: 0.9572 - val_loss: 0.9690 - val_accuracy: 0.7674\n",
            "Epoch 30/1000\n",
            "27/27 [==============================] - 0s 6ms/step - loss: 0.1097 - accuracy: 0.9625 - val_loss: 0.7878 - val_accuracy: 0.8140\n",
            "Epoch 31/1000\n",
            "27/27 [==============================] - 0s 7ms/step - loss: 0.0827 - accuracy: 0.9663 - val_loss: 0.6706 - val_accuracy: 0.8605\n",
            "Epoch 32/1000\n",
            "27/27 [==============================] - 0s 6ms/step - loss: 0.1042 - accuracy: 0.9592 - val_loss: 0.7322 - val_accuracy: 0.8372\n",
            "Epoch 33/1000\n",
            "27/27 [==============================] - 0s 7ms/step - loss: 0.0791 - accuracy: 0.9722 - val_loss: 0.8225 - val_accuracy: 0.8140\n",
            "Epoch 34/1000\n",
            "27/27 [==============================] - 0s 7ms/step - loss: 0.1018 - accuracy: 0.9532 - val_loss: 0.7500 - val_accuracy: 0.8372\n",
            "Epoch 35/1000\n",
            "27/27 [==============================] - 0s 6ms/step - loss: 0.0928 - accuracy: 0.9671 - val_loss: 0.8376 - val_accuracy: 0.7907\n",
            "Epoch 36/1000\n",
            "27/27 [==============================] - 0s 6ms/step - loss: 0.0857 - accuracy: 0.9680 - val_loss: 0.8587 - val_accuracy: 0.8140\n",
            "Epoch 37/1000\n",
            "27/27 [==============================] - 0s 7ms/step - loss: 0.0863 - accuracy: 0.9720 - val_loss: 0.7159 - val_accuracy: 0.8140\n",
            "Epoch 38/1000\n",
            "27/27 [==============================] - 0s 7ms/step - loss: 0.0738 - accuracy: 0.9785 - val_loss: 0.6944 - val_accuracy: 0.8837\n",
            "Epoch 39/1000\n",
            "27/27 [==============================] - 0s 7ms/step - loss: 0.0787 - accuracy: 0.9762 - val_loss: 1.0207 - val_accuracy: 0.7674\n",
            "Epoch 40/1000\n",
            "27/27 [==============================] - 0s 6ms/step - loss: 0.0891 - accuracy: 0.9625 - val_loss: 0.8262 - val_accuracy: 0.8140\n",
            "Epoch 41/1000\n",
            "27/27 [==============================] - 0s 6ms/step - loss: 0.0721 - accuracy: 0.9790 - val_loss: 0.7792 - val_accuracy: 0.8140\n",
            "Epoch 42/1000\n",
            "27/27 [==============================] - 0s 6ms/step - loss: 0.0677 - accuracy: 0.9763 - val_loss: 0.8301 - val_accuracy: 0.8372\n",
            "Epoch 43/1000\n",
            "27/27 [==============================] - 0s 6ms/step - loss: 0.0891 - accuracy: 0.9609 - val_loss: 0.8823 - val_accuracy: 0.7674\n",
            "Epoch 44/1000\n",
            "27/27 [==============================] - 0s 7ms/step - loss: 0.0642 - accuracy: 0.9872 - val_loss: 0.9367 - val_accuracy: 0.8140\n",
            "Epoch 45/1000\n",
            "27/27 [==============================] - 0s 7ms/step - loss: 0.0804 - accuracy: 0.9673 - val_loss: 0.8826 - val_accuracy: 0.8140\n",
            "Epoch 46/1000\n",
            "27/27 [==============================] - 0s 6ms/step - loss: 0.0574 - accuracy: 0.9773 - val_loss: 0.8314 - val_accuracy: 0.8372\n",
            "Epoch 47/1000\n",
            "27/27 [==============================] - 0s 7ms/step - loss: 0.0693 - accuracy: 0.9735 - val_loss: 0.7422 - val_accuracy: 0.8372\n",
            "Epoch 48/1000\n",
            "27/27 [==============================] - 0s 6ms/step - loss: 0.0664 - accuracy: 0.9786 - val_loss: 0.6701 - val_accuracy: 0.9070\n",
            "Epoch 49/1000\n",
            "27/27 [==============================] - 0s 7ms/step - loss: 0.0715 - accuracy: 0.9753 - val_loss: 0.8608 - val_accuracy: 0.8372\n",
            "Epoch 50/1000\n",
            "27/27 [==============================] - 0s 7ms/step - loss: 0.0583 - accuracy: 0.9779 - val_loss: 0.9421 - val_accuracy: 0.8140\n",
            "Epoch 51/1000\n",
            "27/27 [==============================] - 0s 6ms/step - loss: 0.0590 - accuracy: 0.9781 - val_loss: 0.7736 - val_accuracy: 0.8605\n",
            "Epoch 52/1000\n",
            "27/27 [==============================] - 0s 6ms/step - loss: 0.0476 - accuracy: 0.9884 - val_loss: 0.8519 - val_accuracy: 0.8605\n",
            "Epoch 53/1000\n",
            "27/27 [==============================] - 0s 6ms/step - loss: 0.0696 - accuracy: 0.9760 - val_loss: 0.9926 - val_accuracy: 0.8140\n",
            "Epoch 54/1000\n",
            "27/27 [==============================] - 0s 6ms/step - loss: 0.0599 - accuracy: 0.9757 - val_loss: 0.7860 - val_accuracy: 0.8605\n",
            "Epoch 55/1000\n",
            "27/27 [==============================] - 0s 6ms/step - loss: 0.0753 - accuracy: 0.9762 - val_loss: 1.0057 - val_accuracy: 0.8140\n",
            "Epoch 56/1000\n",
            "27/27 [==============================] - 0s 7ms/step - loss: 0.0660 - accuracy: 0.9659 - val_loss: 1.0900 - val_accuracy: 0.7674\n",
            "Epoch 57/1000\n",
            "27/27 [==============================] - 0s 7ms/step - loss: 0.0481 - accuracy: 0.9853 - val_loss: 0.7696 - val_accuracy: 0.9070\n",
            "Epoch 58/1000\n",
            "27/27 [==============================] - 0s 7ms/step - loss: 0.0762 - accuracy: 0.9703 - val_loss: 0.9300 - val_accuracy: 0.8140\n",
            "Epoch 59/1000\n",
            "27/27 [==============================] - 0s 7ms/step - loss: 0.0563 - accuracy: 0.9806 - val_loss: 0.9154 - val_accuracy: 0.8372\n",
            "Epoch 60/1000\n",
            "27/27 [==============================] - 0s 6ms/step - loss: 0.0503 - accuracy: 0.9844 - val_loss: 1.0536 - val_accuracy: 0.8140\n",
            "Epoch 61/1000\n",
            "27/27 [==============================] - 0s 7ms/step - loss: 0.0637 - accuracy: 0.9778 - val_loss: 1.3502 - val_accuracy: 0.7674\n",
            "Epoch 62/1000\n",
            "27/27 [==============================] - 0s 7ms/step - loss: 0.0650 - accuracy: 0.9797 - val_loss: 0.9765 - val_accuracy: 0.8372\n",
            "Epoch 63/1000\n",
            "27/27 [==============================] - 0s 7ms/step - loss: 0.0629 - accuracy: 0.9751 - val_loss: 0.9832 - val_accuracy: 0.8140\n",
            "Epoch 64/1000\n",
            "27/27 [==============================] - 0s 7ms/step - loss: 0.0585 - accuracy: 0.9837 - val_loss: 0.9840 - val_accuracy: 0.8372\n",
            "Epoch 65/1000\n",
            "27/27 [==============================] - 0s 7ms/step - loss: 0.0445 - accuracy: 0.9903 - val_loss: 1.2448 - val_accuracy: 0.7674\n",
            "Epoch 66/1000\n",
            "27/27 [==============================] - 0s 7ms/step - loss: 0.0540 - accuracy: 0.9790 - val_loss: 1.1246 - val_accuracy: 0.8140\n",
            "Epoch 67/1000\n",
            "27/27 [==============================] - 0s 6ms/step - loss: 0.0492 - accuracy: 0.9911 - val_loss: 0.9980 - val_accuracy: 0.8372\n",
            "Epoch 68/1000\n",
            "27/27 [==============================] - 0s 7ms/step - loss: 0.0639 - accuracy: 0.9801 - val_loss: 0.9897 - val_accuracy: 0.8140\n",
            "Epoch 69/1000\n",
            "27/27 [==============================] - 0s 7ms/step - loss: 0.0454 - accuracy: 0.9847 - val_loss: 1.0777 - val_accuracy: 0.8140\n",
            "Epoch 70/1000\n",
            "27/27 [==============================] - 0s 6ms/step - loss: 0.0566 - accuracy: 0.9807 - val_loss: 1.1586 - val_accuracy: 0.8140\n",
            "Epoch 71/1000\n",
            "27/27 [==============================] - 0s 6ms/step - loss: 0.0455 - accuracy: 0.9848 - val_loss: 1.2003 - val_accuracy: 0.8140\n",
            "Epoch 72/1000\n",
            "27/27 [==============================] - 0s 7ms/step - loss: 0.0522 - accuracy: 0.9821 - val_loss: 1.2351 - val_accuracy: 0.8140\n",
            "Epoch 73/1000\n",
            "27/27 [==============================] - 0s 7ms/step - loss: 0.0411 - accuracy: 0.9880 - val_loss: 1.2074 - val_accuracy: 0.8140\n",
            "Epoch 74/1000\n",
            "27/27 [==============================] - 0s 6ms/step - loss: 0.0513 - accuracy: 0.9816 - val_loss: 0.9840 - val_accuracy: 0.8372\n",
            "Epoch 75/1000\n",
            "27/27 [==============================] - 0s 7ms/step - loss: 0.0524 - accuracy: 0.9751 - val_loss: 1.1996 - val_accuracy: 0.7907\n",
            "Epoch 76/1000\n",
            "27/27 [==============================] - 0s 7ms/step - loss: 0.0478 - accuracy: 0.9874 - val_loss: 1.0392 - val_accuracy: 0.8372\n",
            "Epoch 77/1000\n",
            "27/27 [==============================] - 0s 7ms/step - loss: 0.0302 - accuracy: 0.9935 - val_loss: 1.3513 - val_accuracy: 0.8140\n",
            "Epoch 78/1000\n",
            "27/27 [==============================] - 0s 7ms/step - loss: 0.0456 - accuracy: 0.9801 - val_loss: 0.9781 - val_accuracy: 0.8605\n",
            "Epoch 79/1000\n",
            "27/27 [==============================] - 0s 7ms/step - loss: 0.0361 - accuracy: 0.9902 - val_loss: 0.9712 - val_accuracy: 0.8605\n",
            "Epoch 80/1000\n",
            "27/27 [==============================] - 0s 7ms/step - loss: 0.0435 - accuracy: 0.9843 - val_loss: 1.0013 - val_accuracy: 0.8372\n",
            "Epoch 81/1000\n",
            "27/27 [==============================] - 0s 7ms/step - loss: 0.0484 - accuracy: 0.9783 - val_loss: 1.2168 - val_accuracy: 0.8140\n",
            "Epoch 82/1000\n",
            "27/27 [==============================] - 0s 7ms/step - loss: 0.0327 - accuracy: 0.9893 - val_loss: 1.2886 - val_accuracy: 0.8140\n",
            "Epoch 83/1000\n",
            "27/27 [==============================] - 0s 7ms/step - loss: 0.0422 - accuracy: 0.9909 - val_loss: 1.3118 - val_accuracy: 0.8140\n",
            "Epoch 84/1000\n",
            "27/27 [==============================] - 0s 7ms/step - loss: 0.0426 - accuracy: 0.9832 - val_loss: 1.1377 - val_accuracy: 0.8140\n",
            "Epoch 85/1000\n",
            "27/27 [==============================] - 0s 7ms/step - loss: 0.0273 - accuracy: 0.9921 - val_loss: 1.1051 - val_accuracy: 0.8372\n",
            "Epoch 86/1000\n",
            "27/27 [==============================] - 0s 6ms/step - loss: 0.0256 - accuracy: 0.9969 - val_loss: 1.0638 - val_accuracy: 0.8605\n",
            "Epoch 87/1000\n",
            "27/27 [==============================] - 0s 7ms/step - loss: 0.0353 - accuracy: 0.9881 - val_loss: 1.1462 - val_accuracy: 0.8140\n",
            "Epoch 88/1000\n",
            "27/27 [==============================] - 0s 7ms/step - loss: 0.0287 - accuracy: 0.9940 - val_loss: 1.2289 - val_accuracy: 0.8140\n",
            "Epoch 89/1000\n",
            "27/27 [==============================] - 0s 7ms/step - loss: 0.0354 - accuracy: 0.9853 - val_loss: 1.3090 - val_accuracy: 0.8140\n",
            "Epoch 90/1000\n",
            "27/27 [==============================] - 0s 7ms/step - loss: 0.0382 - accuracy: 0.9917 - val_loss: 1.0963 - val_accuracy: 0.8372\n",
            "Epoch 91/1000\n",
            "27/27 [==============================] - 0s 7ms/step - loss: 0.0316 - accuracy: 0.9851 - val_loss: 1.3439 - val_accuracy: 0.8140\n",
            "Epoch 92/1000\n",
            "27/27 [==============================] - 0s 6ms/step - loss: 0.0276 - accuracy: 0.9965 - val_loss: 1.4395 - val_accuracy: 0.8140\n",
            "Epoch 93/1000\n",
            "27/27 [==============================] - 0s 6ms/step - loss: 0.0339 - accuracy: 0.9861 - val_loss: 1.3379 - val_accuracy: 0.8140\n",
            "Epoch 94/1000\n",
            "27/27 [==============================] - 0s 7ms/step - loss: 0.0262 - accuracy: 0.9928 - val_loss: 1.3574 - val_accuracy: 0.8140\n",
            "Epoch 95/1000\n",
            "27/27 [==============================] - 0s 7ms/step - loss: 0.0356 - accuracy: 0.9793 - val_loss: 1.2600 - val_accuracy: 0.8140\n",
            "Epoch 96/1000\n",
            "27/27 [==============================] - 0s 7ms/step - loss: 0.0419 - accuracy: 0.9864 - val_loss: 1.3644 - val_accuracy: 0.8140\n",
            "Epoch 97/1000\n",
            "27/27 [==============================] - 0s 7ms/step - loss: 0.0368 - accuracy: 0.9890 - val_loss: 1.4973 - val_accuracy: 0.8140\n",
            "Epoch 98/1000\n",
            "27/27 [==============================] - 0s 7ms/step - loss: 0.0339 - accuracy: 0.9862 - val_loss: 1.4150 - val_accuracy: 0.8140\n",
            "Epoch 99/1000\n",
            "27/27 [==============================] - 0s 7ms/step - loss: 0.0225 - accuracy: 0.9925 - val_loss: 1.7408 - val_accuracy: 0.7442\n",
            "Epoch 100/1000\n",
            "27/27 [==============================] - 0s 7ms/step - loss: 0.0350 - accuracy: 0.9878 - val_loss: 1.2081 - val_accuracy: 0.8140\n",
            "Epoch 101/1000\n",
            "27/27 [==============================] - 0s 6ms/step - loss: 0.0590 - accuracy: 0.9740 - val_loss: 0.9387 - val_accuracy: 0.8605\n",
            "Epoch 102/1000\n",
            "27/27 [==============================] - 0s 7ms/step - loss: 0.0390 - accuracy: 0.9885 - val_loss: 1.3669 - val_accuracy: 0.8140\n",
            "Epoch 103/1000\n",
            "27/27 [==============================] - 0s 7ms/step - loss: 0.0316 - accuracy: 0.9909 - val_loss: 1.3027 - val_accuracy: 0.8372\n",
            "Epoch 104/1000\n",
            "27/27 [==============================] - 0s 7ms/step - loss: 0.0309 - accuracy: 0.9903 - val_loss: 1.1377 - val_accuracy: 0.8605\n",
            "Epoch 105/1000\n",
            "27/27 [==============================] - 0s 7ms/step - loss: 0.0279 - accuracy: 0.9929 - val_loss: 1.3364 - val_accuracy: 0.8140\n",
            "Epoch 106/1000\n",
            "27/27 [==============================] - 0s 7ms/step - loss: 0.0451 - accuracy: 0.9868 - val_loss: 1.0196 - val_accuracy: 0.8837\n",
            "Epoch 107/1000\n",
            "11/27 [===========>..................] - ETA: 0s - loss: 0.0421 - accuracy: 0.9868"
          ],
          "name": "stdout"
        },
        {
          "output_type": "error",
          "ename": "_NotOkStatusException",
          "evalue": "ignored",
          "traceback": [
            "\u001b[0;31m---------------------------------------------------------------------------\u001b[0m",
            "\u001b[0;31m_NotOkStatusException\u001b[0m                     Traceback (most recent call last)",
            "\u001b[0;32m<ipython-input-56-cb36c834bab3>\u001b[0m in \u001b[0;36m<module>\u001b[0;34m()\u001b[0m\n\u001b[0;32m----> 1\u001b[0;31m \u001b[0mmodel\u001b[0m\u001b[0;34m.\u001b[0m\u001b[0mfit\u001b[0m\u001b[0;34m(\u001b[0m\u001b[0mfeatures_train_new\u001b[0m\u001b[0;34m,\u001b[0m \u001b[0my_train\u001b[0m\u001b[0;34m,\u001b[0m \u001b[0mepochs\u001b[0m\u001b[0;34m=\u001b[0m\u001b[0;36m1000\u001b[0m\u001b[0;34m,\u001b[0m \u001b[0mvalidation_data\u001b[0m\u001b[0;34m=\u001b[0m\u001b[0;34m(\u001b[0m\u001b[0mfeatures_test_new\u001b[0m\u001b[0;34m,\u001b[0m \u001b[0my_test\u001b[0m\u001b[0;34m)\u001b[0m\u001b[0;34m)\u001b[0m\u001b[0;34m\u001b[0m\u001b[0;34m\u001b[0m\u001b[0m\n\u001b[0m",
            "\u001b[0;32m/usr/local/lib/python3.7/dist-packages/tensorflow/python/keras/engine/training.py\u001b[0m in \u001b[0;36mfit\u001b[0;34m(self, x, y, batch_size, epochs, verbose, callbacks, validation_split, validation_data, shuffle, class_weight, sample_weight, initial_epoch, steps_per_epoch, validation_steps, validation_batch_size, validation_freq, max_queue_size, workers, use_multiprocessing)\u001b[0m\n\u001b[1;32m   1098\u001b[0m                 _r=1):\n\u001b[1;32m   1099\u001b[0m               \u001b[0mcallbacks\u001b[0m\u001b[0;34m.\u001b[0m\u001b[0mon_train_batch_begin\u001b[0m\u001b[0;34m(\u001b[0m\u001b[0mstep\u001b[0m\u001b[0;34m)\u001b[0m\u001b[0;34m\u001b[0m\u001b[0;34m\u001b[0m\u001b[0m\n\u001b[0;32m-> 1100\u001b[0;31m               \u001b[0mtmp_logs\u001b[0m \u001b[0;34m=\u001b[0m \u001b[0mself\u001b[0m\u001b[0;34m.\u001b[0m\u001b[0mtrain_function\u001b[0m\u001b[0;34m(\u001b[0m\u001b[0miterator\u001b[0m\u001b[0;34m)\u001b[0m\u001b[0;34m\u001b[0m\u001b[0;34m\u001b[0m\u001b[0m\n\u001b[0m\u001b[1;32m   1101\u001b[0m               \u001b[0;32mif\u001b[0m \u001b[0mdata_handler\u001b[0m\u001b[0;34m.\u001b[0m\u001b[0mshould_sync\u001b[0m\u001b[0;34m:\u001b[0m\u001b[0;34m\u001b[0m\u001b[0;34m\u001b[0m\u001b[0m\n\u001b[1;32m   1102\u001b[0m                 \u001b[0mcontext\u001b[0m\u001b[0;34m.\u001b[0m\u001b[0masync_wait\u001b[0m\u001b[0;34m(\u001b[0m\u001b[0;34m)\u001b[0m\u001b[0;34m\u001b[0m\u001b[0;34m\u001b[0m\u001b[0m\n",
            "\u001b[0;32m/usr/local/lib/python3.7/dist-packages/tensorflow/python/eager/def_function.py\u001b[0m in \u001b[0;36m__call__\u001b[0;34m(self, *args, **kwds)\u001b[0m\n\u001b[1;32m    826\u001b[0m     \u001b[0mtracing_count\u001b[0m \u001b[0;34m=\u001b[0m \u001b[0mself\u001b[0m\u001b[0;34m.\u001b[0m\u001b[0mexperimental_get_tracing_count\u001b[0m\u001b[0;34m(\u001b[0m\u001b[0;34m)\u001b[0m\u001b[0;34m\u001b[0m\u001b[0;34m\u001b[0m\u001b[0m\n\u001b[1;32m    827\u001b[0m     \u001b[0;32mwith\u001b[0m \u001b[0mtrace\u001b[0m\u001b[0;34m.\u001b[0m\u001b[0mTrace\u001b[0m\u001b[0;34m(\u001b[0m\u001b[0mself\u001b[0m\u001b[0;34m.\u001b[0m\u001b[0m_name\u001b[0m\u001b[0;34m)\u001b[0m \u001b[0;32mas\u001b[0m \u001b[0mtm\u001b[0m\u001b[0;34m:\u001b[0m\u001b[0;34m\u001b[0m\u001b[0;34m\u001b[0m\u001b[0m\n\u001b[0;32m--> 828\u001b[0;31m       \u001b[0mresult\u001b[0m \u001b[0;34m=\u001b[0m \u001b[0mself\u001b[0m\u001b[0;34m.\u001b[0m\u001b[0m_call\u001b[0m\u001b[0;34m(\u001b[0m\u001b[0;34m*\u001b[0m\u001b[0margs\u001b[0m\u001b[0;34m,\u001b[0m \u001b[0;34m**\u001b[0m\u001b[0mkwds\u001b[0m\u001b[0;34m)\u001b[0m\u001b[0;34m\u001b[0m\u001b[0;34m\u001b[0m\u001b[0m\n\u001b[0m\u001b[1;32m    829\u001b[0m       \u001b[0mcompiler\u001b[0m \u001b[0;34m=\u001b[0m \u001b[0;34m\"xla\"\u001b[0m \u001b[0;32mif\u001b[0m \u001b[0mself\u001b[0m\u001b[0;34m.\u001b[0m\u001b[0m_experimental_compile\u001b[0m \u001b[0;32melse\u001b[0m \u001b[0;34m\"nonXla\"\u001b[0m\u001b[0;34m\u001b[0m\u001b[0;34m\u001b[0m\u001b[0m\n\u001b[1;32m    830\u001b[0m       \u001b[0mnew_tracing_count\u001b[0m \u001b[0;34m=\u001b[0m \u001b[0mself\u001b[0m\u001b[0;34m.\u001b[0m\u001b[0mexperimental_get_tracing_count\u001b[0m\u001b[0;34m(\u001b[0m\u001b[0;34m)\u001b[0m\u001b[0;34m\u001b[0m\u001b[0;34m\u001b[0m\u001b[0m\n",
            "\u001b[0;32m/usr/local/lib/python3.7/dist-packages/tensorflow/python/eager/def_function.py\u001b[0m in \u001b[0;36m_call\u001b[0;34m(self, *args, **kwds)\u001b[0m\n\u001b[1;32m    853\u001b[0m       \u001b[0;31m# In this case we have created variables on the first call, so we run the\u001b[0m\u001b[0;34m\u001b[0m\u001b[0;34m\u001b[0m\u001b[0;34m\u001b[0m\u001b[0m\n\u001b[1;32m    854\u001b[0m       \u001b[0;31m# defunned version which is guaranteed to never create variables.\u001b[0m\u001b[0;34m\u001b[0m\u001b[0;34m\u001b[0m\u001b[0;34m\u001b[0m\u001b[0m\n\u001b[0;32m--> 855\u001b[0;31m       \u001b[0;32mreturn\u001b[0m \u001b[0mself\u001b[0m\u001b[0;34m.\u001b[0m\u001b[0m_stateless_fn\u001b[0m\u001b[0;34m(\u001b[0m\u001b[0;34m*\u001b[0m\u001b[0margs\u001b[0m\u001b[0;34m,\u001b[0m \u001b[0;34m**\u001b[0m\u001b[0mkwds\u001b[0m\u001b[0;34m)\u001b[0m  \u001b[0;31m# pylint: disable=not-callable\u001b[0m\u001b[0;34m\u001b[0m\u001b[0;34m\u001b[0m\u001b[0m\n\u001b[0m\u001b[1;32m    856\u001b[0m     \u001b[0;32melif\u001b[0m \u001b[0mself\u001b[0m\u001b[0;34m.\u001b[0m\u001b[0m_stateful_fn\u001b[0m \u001b[0;32mis\u001b[0m \u001b[0;32mnot\u001b[0m \u001b[0;32mNone\u001b[0m\u001b[0;34m:\u001b[0m\u001b[0;34m\u001b[0m\u001b[0;34m\u001b[0m\u001b[0m\n\u001b[1;32m    857\u001b[0m       \u001b[0;31m# Release the lock early so that multiple threads can perform the call\u001b[0m\u001b[0;34m\u001b[0m\u001b[0;34m\u001b[0m\u001b[0;34m\u001b[0m\u001b[0m\n",
            "\u001b[0;32m/usr/local/lib/python3.7/dist-packages/tensorflow/python/eager/function.py\u001b[0m in \u001b[0;36m__call__\u001b[0;34m(self, *args, **kwargs)\u001b[0m\n\u001b[1;32m   2939\u001b[0m     \u001b[0;32mwith\u001b[0m \u001b[0mself\u001b[0m\u001b[0;34m.\u001b[0m\u001b[0m_lock\u001b[0m\u001b[0;34m:\u001b[0m\u001b[0;34m\u001b[0m\u001b[0;34m\u001b[0m\u001b[0m\n\u001b[1;32m   2940\u001b[0m       (graph_function,\n\u001b[0;32m-> 2941\u001b[0;31m        filtered_flat_args) = self._maybe_define_function(args, kwargs)\n\u001b[0m\u001b[1;32m   2942\u001b[0m     return graph_function._call_flat(\n\u001b[1;32m   2943\u001b[0m         filtered_flat_args, captured_inputs=graph_function.captured_inputs)  # pylint: disable=protected-access\n",
            "\u001b[0;32m/usr/local/lib/python3.7/dist-packages/tensorflow/python/eager/function.py\u001b[0m in \u001b[0;36m_maybe_define_function\u001b[0;34m(self, args, kwargs)\u001b[0m\n\u001b[1;32m   3317\u001b[0m \u001b[0;34m\u001b[0m\u001b[0m\n\u001b[1;32m   3318\u001b[0m     \u001b[0mcache_key_context\u001b[0m \u001b[0;34m=\u001b[0m \u001b[0mself\u001b[0m\u001b[0;34m.\u001b[0m\u001b[0m_cache_key_context\u001b[0m\u001b[0;34m(\u001b[0m\u001b[0;34m)\u001b[0m\u001b[0;34m\u001b[0m\u001b[0;34m\u001b[0m\u001b[0m\n\u001b[0;32m-> 3319\u001b[0;31m     \u001b[0mcache_key\u001b[0m \u001b[0;34m=\u001b[0m \u001b[0mself\u001b[0m\u001b[0;34m.\u001b[0m\u001b[0m_cache_key\u001b[0m\u001b[0;34m(\u001b[0m\u001b[0margs\u001b[0m\u001b[0;34m,\u001b[0m \u001b[0mkwargs\u001b[0m\u001b[0;34m,\u001b[0m \u001b[0mcache_key_context\u001b[0m\u001b[0;34m)\u001b[0m\u001b[0;34m\u001b[0m\u001b[0;34m\u001b[0m\u001b[0m\n\u001b[0m\u001b[1;32m   3320\u001b[0m \u001b[0;34m\u001b[0m\u001b[0m\n\u001b[1;32m   3321\u001b[0m     \u001b[0;32mtry\u001b[0m\u001b[0;34m:\u001b[0m\u001b[0;34m\u001b[0m\u001b[0;34m\u001b[0m\u001b[0m\n",
            "\u001b[0;32m/usr/local/lib/python3.7/dist-packages/tensorflow/python/eager/function.py\u001b[0m in \u001b[0;36m_cache_key\u001b[0;34m(self, args, kwargs, cache_key_context, include_tensor_ranks_only)\u001b[0m\n\u001b[1;32m   3097\u001b[0m       \u001b[0minputs\u001b[0m \u001b[0;34m=\u001b[0m \u001b[0;34m(\u001b[0m\u001b[0margs\u001b[0m\u001b[0;34m,\u001b[0m \u001b[0mkwargs\u001b[0m\u001b[0;34m)\u001b[0m \u001b[0;32mif\u001b[0m \u001b[0mkwargs\u001b[0m \u001b[0;32melse\u001b[0m \u001b[0margs\u001b[0m\u001b[0;34m\u001b[0m\u001b[0;34m\u001b[0m\u001b[0m\n\u001b[1;32m   3098\u001b[0m       input_signature = pywrap_tfe.TFE_Py_EncodeArg(inputs,\n\u001b[0;32m-> 3099\u001b[0;31m                                                     include_tensor_ranks_only)\n\u001b[0m\u001b[1;32m   3100\u001b[0m       \u001b[0mhashable_input_signature\u001b[0m \u001b[0;34m=\u001b[0m \u001b[0m_make_input_signature_hashable\u001b[0m\u001b[0;34m(\u001b[0m\u001b[0minput_signature\u001b[0m\u001b[0;34m)\u001b[0m\u001b[0;34m\u001b[0m\u001b[0;34m\u001b[0m\u001b[0m\n\u001b[1;32m   3101\u001b[0m     \u001b[0;32melse\u001b[0m\u001b[0;34m:\u001b[0m\u001b[0;34m\u001b[0m\u001b[0;34m\u001b[0m\u001b[0m\n",
            "\u001b[0;31m_NotOkStatusException\u001b[0m: InvalidArgumentError: Error while reading CompositeTensor._type_spec."
          ]
        }
      ]
    },
    {
      "cell_type": "markdown",
      "metadata": {
        "id": "Sf5ST_zXa27E"
      },
      "source": [
        "**Another model**"
      ]
    },
    {
      "cell_type": "code",
      "metadata": {
        "id": "M5geFndSb85s"
      },
      "source": [
        "# Input layer\r\n",
        "input = tf.keras.layers.Input(shape=(None, None, 1))\r\n",
        "\r\n",
        "# A convolution block\r\n",
        "x = tf.keras.layers.Conv2D(filters=16, kernel_size=3, strides=1, padding='same')(input)\r\n",
        "x = tf.keras.layers.Activation('relu')(x)\r\n",
        "x = tf.keras.layers.MaxPool2D(pool_size=2, padding='same')(x)\r\n",
        "\r\n",
        "# A convolution block\r\n",
        "x = tf.keras.layers.Conv2D(filters=32, kernel_size=3, strides=1, padding='same')(x)\r\n",
        "x = tf.keras.layers.Activation('relu')(x)\r\n",
        "x = tf.keras.layers.MaxPool2D(pool_size=2, padding='same')(x)\r\n",
        "\r\n",
        "# A convolution block\r\n",
        "x = tf.keras.layers.Conv2D(filters=64, kernel_size=3, strides=1, padding='same')(x)\r\n",
        "x = tf.keras.layers.Activation('relu')(x)\r\n",
        "x = tf.keras.layers.MaxPool2D(pool_size=2, padding='same')(x)\r\n",
        "\r\n",
        "# Fully connected layer 1\r\n",
        "x = tf.keras.layers.Conv2D(filters=512, kernel_size=1, strides=1)(x)\r\n",
        "x = tf.keras.layers.Activation('relu')(x)\r\n",
        "\r\n",
        "# Fully connected layer 2\r\n",
        "x = tf.keras.layers.Conv2D(filters=5, kernel_size=1, strides=1)(x)\r\n",
        "x = tf.keras.layers.Dropout(0.4)(x)\r\n",
        "x = tf.keras.layers.GlobalMaxPooling2D()(x)\r\n",
        "predictions = tf.keras.layers.Activation('softmax')(x)\r\n",
        "\r\n",
        "model = tf.keras.Model(inputs=input, outputs=predictions)\r\n",
        "\r\n",
        "# loss function, metrics and optimizer\r\n",
        "model.compile(optimizer=tf.keras.optimizers.Adam(lr=0.0001),\r\n",
        "                    loss='categorical_crossentropy',\r\n",
        "                    metrics=['accuracy'])"
      ],
      "execution_count": null,
      "outputs": []
    },
    {
      "cell_type": "code",
      "metadata": {
        "id": "_kIdaI93diJY"
      },
      "source": [
        "model.load_weights('./FCN.h5')"
      ],
      "execution_count": null,
      "outputs": []
    },
    {
      "cell_type": "code",
      "metadata": {
        "id": "DMGc1OOYrk0-"
      },
      "source": [
        "# Input layer\r\n",
        "input = tf.keras.layers.Input(shape=(None, None, 1))\r\n",
        "\r\n",
        "# A convolution block\r\n",
        "x = tf.keras.layers.Conv2D(filters=16, kernel_size=3, strides=1, padding='same')(input)\r\n",
        "x = tf.keras.layers.Activation(tf.keras.layers.LeakyReLU())(x)\r\n",
        "x = tf.keras.layers.MaxPool2D(pool_size=2, padding='same')(x)\r\n",
        "\r\n",
        "# A convolution block\r\n",
        "x = tf.keras.layers.Conv2D(filters=32, kernel_size=3, strides=1, padding='same')(x)\r\n",
        "x = tf.keras.layers.Activation(tf.keras.layers.LeakyReLU())(x)\r\n",
        "x = tf.keras.layers.MaxPool2D(pool_size=2, padding='same')(x)\r\n",
        "\r\n",
        "# A convolution block\r\n",
        "x = tf.keras.layers.Conv2D(filters=64, kernel_size=3, strides=1, padding='same')(x)\r\n",
        "x = tf.keras.layers.Activation(tf.keras.layers.LeakyReLU())(x)\r\n",
        "x = tf.keras.layers.MaxPool2D(pool_size=2, padding='same')(x)\r\n",
        "\r\n",
        "# Fully connected layer 1\r\n",
        "x = tf.keras.layers.Conv2D(filters=50, kernel_size=1, strides=1)(x)\r\n",
        "x = tf.keras.layers.Activation(tf.keras.layers.LeakyReLU())(x)\r\n",
        "\r\n",
        "# Fully connected layer 2\r\n",
        "x = tf.keras.layers.Conv2D(filters=1, kernel_size=1, strides=1)(x)\r\n",
        "x = tf.keras.layers.Dropout(0.4)(x)\r\n",
        "x = tf.keras.layers.GlobalMaxPooling2D()(x)\r\n",
        "predictions = tf.keras.layers.Activation('sigmoid')(x)\r\n",
        "\r\n",
        "model2 = tf.keras.Model(inputs=input, outputs=predictions)\r\n",
        "\r\n",
        "# loss function, metrics and optimizer\r\n",
        "model2.compile(optimizer=tf.keras.optimizers.Adam(lr=0.00001),\r\n",
        "                    loss='binary_crossentropy',\r\n",
        "                    metrics=['accuracy'])"
      ],
      "execution_count": null,
      "outputs": []
    },
    {
      "cell_type": "code",
      "metadata": {
        "id": "-h5ktrWKr2UX"
      },
      "source": [
        "for i in range(len(model.layers)):\r\n",
        "  print(model.layers[i])"
      ],
      "execution_count": null,
      "outputs": []
    },
    {
      "cell_type": "code",
      "metadata": {
        "id": "NaNwB2DEH4t_"
      },
      "source": [
        "for i in range(len(model.layers[0:10])):\r\n",
        "  weights = model.layers[i].get_weights()\r\n",
        "  model2.layers[i].set_weights(weights)\r\n",
        "  #model2.layers[i].trainable = False"
      ],
      "execution_count": null,
      "outputs": []
    },
    {
      "cell_type": "code",
      "metadata": {
        "id": "VUVb8TLxH9r7"
      },
      "source": [
        "model2.fit(X_train, y_train, epochs=500, validation_data=(X_test, y_test), verbose=1, batch_size=32)"
      ],
      "execution_count": null,
      "outputs": []
    },
    {
      "cell_type": "markdown",
      "metadata": {
        "id": "azieC0OBpgVv"
      },
      "source": [
        "**CNN 1D**"
      ]
    },
    {
      "cell_type": "code",
      "metadata": {
        "id": "CjeuqyutpjtL"
      },
      "source": [
        "X_train = X_train.reshape(X_train.shape[0]*X_train.shape[1], X_train.shape[2], X_train.shape[3])\r\n",
        "X_test = X_test.reshape(X_test.shape[0]*X_test.shape[1], X_test.shape[2], X_test.shape[3])\r\n",
        "\r\n",
        "y_train = np.tile(y_train,16)\r\n",
        "y_test = np.tile(y_test,16)"
      ],
      "execution_count": null,
      "outputs": []
    },
    {
      "cell_type": "code",
      "metadata": {
        "id": "AUq8ntNVqP3u"
      },
      "source": [
        "from keras.models import Sequential\r\n",
        "from keras.layers import Conv1D, MaxPooling1D, Flatten\r\n",
        "from keras.layers import Input, Dense, Activation, Dropout, BatchNormalization\r\n",
        "import tensorflow as tf\r\n",
        "from tensorflow.keras.optimizers import RMSprop, Adam, SGD\r\n",
        "from tensorflow.keras import regularizers\r\n",
        "\r\n",
        "# building the network\r\n",
        "\r\n",
        "model = Sequential()\r\n",
        "model.add(Conv1D(filters=32, kernel_size=3, activation='relu', padding='same', input_shape=(length_max, 1)))\r\n",
        "model.add(MaxPooling1D(pool_size=2, padding='same'))\r\n",
        "\r\n",
        "model.add(Conv1D(filters=64, kernel_size=3, activation='relu', padding='same'))\r\n",
        "model.add(MaxPooling1D(pool_size=2, padding='same'))\r\n",
        "\r\n",
        "model.add(Conv1D(filters=128, kernel_size=3, activation='relu', padding='same'))\r\n",
        "model.add(MaxPooling1D(pool_size=2, padding='same'))\r\n",
        "\r\n",
        "model.add(Flatten())\r\n",
        "\r\n",
        "model.add(Dense(128, activation='relu')) \r\n",
        "model.add(Dropout(0.7))\r\n",
        "model.add(Dense(1, activation='sigmoid'))\r\n",
        "\r\n",
        "\r\n",
        "\r\n",
        "#model.compile(optimizer='adam',  loss='binary_crossentropy',  metrics=['accuracy']) \r\n",
        "model.compile(tf.keras.optimizers.Adam(learning_rate=0.00001),  loss='binary_crossentropy',  metrics=['accuracy']) "
      ],
      "execution_count": null,
      "outputs": []
    },
    {
      "cell_type": "code",
      "metadata": {
        "id": "kF16ljrGqsII"
      },
      "source": [
        "model.fit(X_train, y_train, epochs=50 ,validation_split=0.3, batch_size=64 ,verbose=1)"
      ],
      "execution_count": null,
      "outputs": []
    },
    {
      "cell_type": "code",
      "metadata": {
        "id": "6KOtq9KVqSBU"
      },
      "source": [
        "score = model.evaluate(X_test , y_test)\r\n",
        "\r\n",
        "print( \"%s:%.2f%%\"%(model.metrics_names[0], score[0]*100))\r\n",
        "print( \"%s:%.2f%%\"%(model.metrics_names[1], score[1]*100))"
      ],
      "execution_count": null,
      "outputs": []
    },
    {
      "cell_type": "code",
      "metadata": {
        "id": "lKraSBFrvZVt"
      },
      "source": [
        ""
      ],
      "execution_count": null,
      "outputs": []
    }
  ]
}