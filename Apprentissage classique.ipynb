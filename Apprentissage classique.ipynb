{
  "cells": [
    {
      "cell_type": "code",
      "execution_count": 1,
      "metadata": {
        "colab": {
          "base_uri": "https://localhost:8080/"
        },
        "id": "hg-w4hh_64kf",
        "outputId": "ae224d3b-bcc6-4cae-8023-8e5568062d3c"
      },
      "outputs": [
        {
          "output_type": "stream",
          "name": "stdout",
          "text": [
            "Mounted at /content/drive/\n"
          ]
        }
      ],
      "source": [
        "from google.colab import drive\n",
        "drive.mount('/content/drive/')"
      ]
    },
    {
      "cell_type": "code",
      "execution_count": 2,
      "metadata": {
        "id": "ypSeOhE6wXZt"
      },
      "outputs": [],
      "source": [
        "import matplotlib.pyplot as plt\n",
        "from mpl_toolkits.mplot3d import Axes3\n",
        "import pandas as pd\n",
        "import numpy as np\n",
        "from sklearn import decomposition\n",
        "import os\n",
        "from sklearn.ensemble import RandomForestClassifier\n",
        "from sklearn.tree import DecisionTreeClassifier\n",
        "from sklearn.naive_bayes import GaussianNB\n",
        "from sklearn.model_selection import cross_val_score\n",
        "from sklearn.metrics import classification_report , confusion_matrix , accuracy_score\n",
        "from sklearn.mixture import GaussianMixture as GMM\n",
        "from sklearn.model_selection import cross_val_predict\n",
        "from sklearn.metrics import confusion_matrix\n",
        "from sklearn.model_selection import KFold\n",
        "from sklearn.cluster import KMeans"
      ]
    },
    {
      "cell_type": "markdown",
      "metadata": {
        "id": "G4XzrqC_1R77"
      },
      "source": [
        "**Understand the data**"
      ]
    },
    {
      "cell_type": "code",
      "execution_count": null,
      "metadata": {
        "colab": {
          "base_uri": "https://localhost:8080/"
        },
        "id": "g1hu6cUl6M8z",
        "outputId": "bf85fcab-2c4f-4480-e5ff-2ba8ab87a887"
      },
      "outputs": [
        {
          "name": "stdout",
          "output_type": "stream",
          "text": [
            "People with PD :  93\n",
            "Healthy people :  72\n"
          ]
        }
      ],
      "source": [
        "count_pt = 0\n",
        "for name in os.listdir('/content/drive/MyDrive/Data/data_mini_projet/CSV'):\n",
        "    if 'Pt' in name:\n",
        "      if '_01.csv' in name :\n",
        "        count_pt += 1\n",
        "files = []\n",
        "for name in os.listdir('/content/drive/MyDrive/Data/data_mini_projet/CSV'):\n",
        "    if 'Pt' in name:\n",
        "      if '_01.csv'in name :\n",
        "        files.append('/content/drive/MyDrive/Data/data_mini_projet/CSV/' + name)\n",
        "\n",
        "count_co = 0\n",
        "for name in os.listdir('/content/drive/MyDrive/Data/data_mini_projet/CSV'):\n",
        "    if 'Co' in name:\n",
        "      if '_01.csv' in name :\n",
        "        count_co += 1\n",
        "files = []\n",
        "for name in os.listdir('/content/drive/MyDrive/Data/data_mini_projet/CSV'):\n",
        "    if 'Co' in name:\n",
        "      if '_01.csv'in name :\n",
        "        files.append('/content/drive/MyDrive/Data/data_mini_projet/CSV/' + name)\n",
        "    \n",
        "print(\"People with PD : \", count_pt)\n",
        "print(\"Healthy people : \", count_co)\n",
        "\n"
      ]
    },
    {
      "cell_type": "code",
      "execution_count": null,
      "metadata": {
        "id": "-FTm6jbULft0"
      },
      "outputs": [],
      "source": [
        "df_co = pd.read_csv('/content/drive/MyDrive/Data/data_mini_projet/CSV/JuCo01_01.csv')  # 83 kg\n",
        "df_pt = pd.read_csv('/content/drive/MyDrive/Data/data_mini_projet/CSV/JuPt01_01.csv')  # 50 kg or 82 kg depend de GaPt03_01.csv or GaPt06_01.csv"
      ]
    },
    {
      "cell_type": "code",
      "execution_count": null,
      "metadata": {
        "colab": {
          "base_uri": "https://localhost:8080/",
          "height": 488
        },
        "id": "j9bGuwOTLnTj",
        "outputId": "768c232e-1bd5-46d6-9a72-e0455193b9eb"
      },
      "outputs": [
        {
          "data": {
            "text/html": [
              "\n",
              "  <div id=\"df-a211b08e-b7cd-4b41-b7b0-fea61a16158c\">\n",
              "    <div class=\"colab-df-container\">\n",
              "      <div>\n",
              "<style scoped>\n",
              "    .dataframe tbody tr th:only-of-type {\n",
              "        vertical-align: middle;\n",
              "    }\n",
              "\n",
              "    .dataframe tbody tr th {\n",
              "        vertical-align: top;\n",
              "    }\n",
              "\n",
              "    .dataframe thead th {\n",
              "        text-align: right;\n",
              "    }\n",
              "</style>\n",
              "<table border=\"1\" class=\"dataframe\">\n",
              "  <thead>\n",
              "    <tr style=\"text-align: right;\">\n",
              "      <th></th>\n",
              "      <th>Time(sec)</th>\n",
              "      <th>VGRF_left_s1</th>\n",
              "      <th>VGRF_left_s2</th>\n",
              "      <th>VGRF_left_s3</th>\n",
              "      <th>VGRF_left_s4</th>\n",
              "      <th>VGRF_left_s5</th>\n",
              "      <th>VGRF_left_s6</th>\n",
              "      <th>VGRF_left_s7</th>\n",
              "      <th>VGRF_left_s8</th>\n",
              "      <th>VGRF_right_s1</th>\n",
              "      <th>VGRF_right_s2</th>\n",
              "      <th>VGRF_right_s3</th>\n",
              "      <th>VGRF_right_s4</th>\n",
              "      <th>VGRF_right_s5</th>\n",
              "      <th>VGRF_right_s6</th>\n",
              "      <th>VGRF_right_s7</th>\n",
              "      <th>VGRF_right_s8</th>\n",
              "      <th>Total_force_left</th>\n",
              "      <th>Total_force_right</th>\n",
              "    </tr>\n",
              "  </thead>\n",
              "  <tbody>\n",
              "    <tr>\n",
              "      <th>0</th>\n",
              "      <td>0.0100</td>\n",
              "      <td>199.10</td>\n",
              "      <td>87.34</td>\n",
              "      <td>91.08</td>\n",
              "      <td>24.09</td>\n",
              "      <td>21.12</td>\n",
              "      <td>87.67</td>\n",
              "      <td>87.23</td>\n",
              "      <td>64.57</td>\n",
              "      <td>163.90</td>\n",
              "      <td>79.86</td>\n",
              "      <td>112.42</td>\n",
              "      <td>50.82</td>\n",
              "      <td>13.75</td>\n",
              "      <td>102.74</td>\n",
              "      <td>144.98</td>\n",
              "      <td>79.53</td>\n",
              "      <td>662.20</td>\n",
              "      <td>748.00</td>\n",
              "    </tr>\n",
              "    <tr>\n",
              "      <th>1</th>\n",
              "      <td>0.0200</td>\n",
              "      <td>199.10</td>\n",
              "      <td>87.34</td>\n",
              "      <td>91.08</td>\n",
              "      <td>24.09</td>\n",
              "      <td>21.12</td>\n",
              "      <td>87.67</td>\n",
              "      <td>87.23</td>\n",
              "      <td>62.59</td>\n",
              "      <td>163.90</td>\n",
              "      <td>79.86</td>\n",
              "      <td>112.42</td>\n",
              "      <td>50.82</td>\n",
              "      <td>13.75</td>\n",
              "      <td>102.74</td>\n",
              "      <td>144.98</td>\n",
              "      <td>79.53</td>\n",
              "      <td>660.22</td>\n",
              "      <td>748.00</td>\n",
              "    </tr>\n",
              "    <tr>\n",
              "      <th>2</th>\n",
              "      <td>0.0300</td>\n",
              "      <td>199.10</td>\n",
              "      <td>87.34</td>\n",
              "      <td>91.08</td>\n",
              "      <td>24.09</td>\n",
              "      <td>21.12</td>\n",
              "      <td>87.67</td>\n",
              "      <td>89.10</td>\n",
              "      <td>64.57</td>\n",
              "      <td>163.90</td>\n",
              "      <td>77.55</td>\n",
              "      <td>112.42</td>\n",
              "      <td>48.07</td>\n",
              "      <td>13.75</td>\n",
              "      <td>105.49</td>\n",
              "      <td>144.98</td>\n",
              "      <td>79.53</td>\n",
              "      <td>664.07</td>\n",
              "      <td>745.69</td>\n",
              "    </tr>\n",
              "    <tr>\n",
              "      <th>3</th>\n",
              "      <td>0.0400</td>\n",
              "      <td>199.10</td>\n",
              "      <td>87.34</td>\n",
              "      <td>91.08</td>\n",
              "      <td>24.09</td>\n",
              "      <td>21.12</td>\n",
              "      <td>87.67</td>\n",
              "      <td>87.23</td>\n",
              "      <td>62.59</td>\n",
              "      <td>163.90</td>\n",
              "      <td>77.55</td>\n",
              "      <td>112.42</td>\n",
              "      <td>50.82</td>\n",
              "      <td>13.75</td>\n",
              "      <td>105.49</td>\n",
              "      <td>144.98</td>\n",
              "      <td>79.53</td>\n",
              "      <td>660.22</td>\n",
              "      <td>748.44</td>\n",
              "    </tr>\n",
              "    <tr>\n",
              "      <th>4</th>\n",
              "      <td>0.0500</td>\n",
              "      <td>199.10</td>\n",
              "      <td>87.34</td>\n",
              "      <td>91.08</td>\n",
              "      <td>24.09</td>\n",
              "      <td>19.03</td>\n",
              "      <td>87.67</td>\n",
              "      <td>89.10</td>\n",
              "      <td>62.59</td>\n",
              "      <td>163.90</td>\n",
              "      <td>77.55</td>\n",
              "      <td>112.42</td>\n",
              "      <td>50.82</td>\n",
              "      <td>13.75</td>\n",
              "      <td>102.74</td>\n",
              "      <td>144.98</td>\n",
              "      <td>79.53</td>\n",
              "      <td>660.00</td>\n",
              "      <td>745.69</td>\n",
              "    </tr>\n",
              "    <tr>\n",
              "      <th>...</th>\n",
              "      <td>...</td>\n",
              "      <td>...</td>\n",
              "      <td>...</td>\n",
              "      <td>...</td>\n",
              "      <td>...</td>\n",
              "      <td>...</td>\n",
              "      <td>...</td>\n",
              "      <td>...</td>\n",
              "      <td>...</td>\n",
              "      <td>...</td>\n",
              "      <td>...</td>\n",
              "      <td>...</td>\n",
              "      <td>...</td>\n",
              "      <td>...</td>\n",
              "      <td>...</td>\n",
              "      <td>...</td>\n",
              "      <td>...</td>\n",
              "      <td>...</td>\n",
              "      <td>...</td>\n",
              "    </tr>\n",
              "    <tr>\n",
              "      <th>12113</th>\n",
              "      <td>121.1315</td>\n",
              "      <td>305.91</td>\n",
              "      <td>85.14</td>\n",
              "      <td>58.08</td>\n",
              "      <td>0.00</td>\n",
              "      <td>0.00</td>\n",
              "      <td>0.00</td>\n",
              "      <td>0.00</td>\n",
              "      <td>0.00</td>\n",
              "      <td>15.73</td>\n",
              "      <td>11.66</td>\n",
              "      <td>4.73</td>\n",
              "      <td>33.88</td>\n",
              "      <td>33.00</td>\n",
              "      <td>255.42</td>\n",
              "      <td>432.19</td>\n",
              "      <td>147.29</td>\n",
              "      <td>449.13</td>\n",
              "      <td>933.90</td>\n",
              "    </tr>\n",
              "    <tr>\n",
              "      <th>12114</th>\n",
              "      <td>121.1415</td>\n",
              "      <td>331.54</td>\n",
              "      <td>134.75</td>\n",
              "      <td>79.31</td>\n",
              "      <td>11.99</td>\n",
              "      <td>0.00</td>\n",
              "      <td>3.85</td>\n",
              "      <td>0.00</td>\n",
              "      <td>0.00</td>\n",
              "      <td>15.73</td>\n",
              "      <td>9.35</td>\n",
              "      <td>4.73</td>\n",
              "      <td>11.22</td>\n",
              "      <td>24.75</td>\n",
              "      <td>230.34</td>\n",
              "      <td>420.42</td>\n",
              "      <td>151.80</td>\n",
              "      <td>561.44</td>\n",
              "      <td>868.34</td>\n",
              "    </tr>\n",
              "    <tr>\n",
              "      <th>12115</th>\n",
              "      <td>121.1515</td>\n",
              "      <td>352.44</td>\n",
              "      <td>181.94</td>\n",
              "      <td>102.96</td>\n",
              "      <td>39.60</td>\n",
              "      <td>0.00</td>\n",
              "      <td>17.49</td>\n",
              "      <td>2.97</td>\n",
              "      <td>0.00</td>\n",
              "      <td>13.97</td>\n",
              "      <td>9.35</td>\n",
              "      <td>4.73</td>\n",
              "      <td>5.61</td>\n",
              "      <td>19.25</td>\n",
              "      <td>192.39</td>\n",
              "      <td>402.82</td>\n",
              "      <td>154.00</td>\n",
              "      <td>697.40</td>\n",
              "      <td>802.12</td>\n",
              "    </tr>\n",
              "    <tr>\n",
              "      <th>12116</th>\n",
              "      <td>121.1615</td>\n",
              "      <td>352.44</td>\n",
              "      <td>202.40</td>\n",
              "      <td>124.74</td>\n",
              "      <td>43.01</td>\n",
              "      <td>8.47</td>\n",
              "      <td>50.71</td>\n",
              "      <td>7.59</td>\n",
              "      <td>0.00</td>\n",
              "      <td>13.97</td>\n",
              "      <td>6.93</td>\n",
              "      <td>0.00</td>\n",
              "      <td>0.00</td>\n",
              "      <td>13.75</td>\n",
              "      <td>143.66</td>\n",
              "      <td>373.34</td>\n",
              "      <td>151.80</td>\n",
              "      <td>789.36</td>\n",
              "      <td>703.45</td>\n",
              "    </tr>\n",
              "    <tr>\n",
              "      <th>12117</th>\n",
              "      <td>121.1715</td>\n",
              "      <td>347.27</td>\n",
              "      <td>206.91</td>\n",
              "      <td>134.64</td>\n",
              "      <td>43.01</td>\n",
              "      <td>16.94</td>\n",
              "      <td>69.74</td>\n",
              "      <td>28.93</td>\n",
              "      <td>0.00</td>\n",
              "      <td>12.21</td>\n",
              "      <td>6.93</td>\n",
              "      <td>0.00</td>\n",
              "      <td>0.00</td>\n",
              "      <td>13.75</td>\n",
              "      <td>97.35</td>\n",
              "      <td>331.98</td>\n",
              "      <td>147.29</td>\n",
              "      <td>847.44</td>\n",
              "      <td>609.51</td>\n",
              "    </tr>\n",
              "  </tbody>\n",
              "</table>\n",
              "<p>12118 rows × 19 columns</p>\n",
              "</div>\n",
              "      <button class=\"colab-df-convert\" onclick=\"convertToInteractive('df-a211b08e-b7cd-4b41-b7b0-fea61a16158c')\"\n",
              "              title=\"Convert this dataframe to an interactive table.\"\n",
              "              style=\"display:none;\">\n",
              "        \n",
              "  <svg xmlns=\"http://www.w3.org/2000/svg\" height=\"24px\"viewBox=\"0 0 24 24\"\n",
              "       width=\"24px\">\n",
              "    <path d=\"M0 0h24v24H0V0z\" fill=\"none\"/>\n",
              "    <path d=\"M18.56 5.44l.94 2.06.94-2.06 2.06-.94-2.06-.94-.94-2.06-.94 2.06-2.06.94zm-11 1L8.5 8.5l.94-2.06 2.06-.94-2.06-.94L8.5 2.5l-.94 2.06-2.06.94zm10 10l.94 2.06.94-2.06 2.06-.94-2.06-.94-.94-2.06-.94 2.06-2.06.94z\"/><path d=\"M17.41 7.96l-1.37-1.37c-.4-.4-.92-.59-1.43-.59-.52 0-1.04.2-1.43.59L10.3 9.45l-7.72 7.72c-.78.78-.78 2.05 0 2.83L4 21.41c.39.39.9.59 1.41.59.51 0 1.02-.2 1.41-.59l7.78-7.78 2.81-2.81c.8-.78.8-2.07 0-2.86zM5.41 20L4 18.59l7.72-7.72 1.47 1.35L5.41 20z\"/>\n",
              "  </svg>\n",
              "      </button>\n",
              "      \n",
              "  <style>\n",
              "    .colab-df-container {\n",
              "      display:flex;\n",
              "      flex-wrap:wrap;\n",
              "      gap: 12px;\n",
              "    }\n",
              "\n",
              "    .colab-df-convert {\n",
              "      background-color: #E8F0FE;\n",
              "      border: none;\n",
              "      border-radius: 50%;\n",
              "      cursor: pointer;\n",
              "      display: none;\n",
              "      fill: #1967D2;\n",
              "      height: 32px;\n",
              "      padding: 0 0 0 0;\n",
              "      width: 32px;\n",
              "    }\n",
              "\n",
              "    .colab-df-convert:hover {\n",
              "      background-color: #E2EBFA;\n",
              "      box-shadow: 0px 1px 2px rgba(60, 64, 67, 0.3), 0px 1px 3px 1px rgba(60, 64, 67, 0.15);\n",
              "      fill: #174EA6;\n",
              "    }\n",
              "\n",
              "    [theme=dark] .colab-df-convert {\n",
              "      background-color: #3B4455;\n",
              "      fill: #D2E3FC;\n",
              "    }\n",
              "\n",
              "    [theme=dark] .colab-df-convert:hover {\n",
              "      background-color: #434B5C;\n",
              "      box-shadow: 0px 1px 3px 1px rgba(0, 0, 0, 0.15);\n",
              "      filter: drop-shadow(0px 1px 2px rgba(0, 0, 0, 0.3));\n",
              "      fill: #FFFFFF;\n",
              "    }\n",
              "  </style>\n",
              "\n",
              "      <script>\n",
              "        const buttonEl =\n",
              "          document.querySelector('#df-a211b08e-b7cd-4b41-b7b0-fea61a16158c button.colab-df-convert');\n",
              "        buttonEl.style.display =\n",
              "          google.colab.kernel.accessAllowed ? 'block' : 'none';\n",
              "\n",
              "        async function convertToInteractive(key) {\n",
              "          const element = document.querySelector('#df-a211b08e-b7cd-4b41-b7b0-fea61a16158c');\n",
              "          const dataTable =\n",
              "            await google.colab.kernel.invokeFunction('convertToInteractive',\n",
              "                                                     [key], {});\n",
              "          if (!dataTable) return;\n",
              "\n",
              "          const docLinkHtml = 'Like what you see? Visit the ' +\n",
              "            '<a target=\"_blank\" href=https://colab.research.google.com/notebooks/data_table.ipynb>data table notebook</a>'\n",
              "            + ' to learn more about interactive tables.';\n",
              "          element.innerHTML = '';\n",
              "          dataTable['output_type'] = 'display_data';\n",
              "          await google.colab.output.renderOutput(dataTable, element);\n",
              "          const docLink = document.createElement('div');\n",
              "          docLink.innerHTML = docLinkHtml;\n",
              "          element.appendChild(docLink);\n",
              "        }\n",
              "      </script>\n",
              "    </div>\n",
              "  </div>\n",
              "  "
            ],
            "text/plain": [
              "       Time(sec)  VGRF_left_s1  ...  Total_force_left  Total_force_right\n",
              "0         0.0100        199.10  ...            662.20             748.00\n",
              "1         0.0200        199.10  ...            660.22             748.00\n",
              "2         0.0300        199.10  ...            664.07             745.69\n",
              "3         0.0400        199.10  ...            660.22             748.44\n",
              "4         0.0500        199.10  ...            660.00             745.69\n",
              "...          ...           ...  ...               ...                ...\n",
              "12113   121.1315        305.91  ...            449.13             933.90\n",
              "12114   121.1415        331.54  ...            561.44             868.34\n",
              "12115   121.1515        352.44  ...            697.40             802.12\n",
              "12116   121.1615        352.44  ...            789.36             703.45\n",
              "12117   121.1715        347.27  ...            847.44             609.51\n",
              "\n",
              "[12118 rows x 19 columns]"
            ]
          },
          "execution_count": 29,
          "metadata": {},
          "output_type": "execute_result"
        }
      ],
      "source": [
        "df_co"
      ]
    },
    {
      "cell_type": "code",
      "execution_count": null,
      "metadata": {
        "colab": {
          "base_uri": "https://localhost:8080/",
          "height": 513
        },
        "id": "DQbv0tVQLsqS",
        "outputId": "794aa35e-f2c3-4848-87c4-07f13ec733ac"
      },
      "outputs": [
        {
          "data": {
            "image/png": "[encoded data removed]",
            "text/plain": [
              "<Figure size 720x576 with 1 Axes>"
            ]
          },
          "metadata": {},
          "output_type": "display_data"
        }
      ],
      "source": [
        "fig = plt.figure(figsize=(10, 8))\n",
        "plt.plot(df_co['Time(sec)'], df_co['Total_force_left'], label=\"Healthy people\")\n",
        "plt.plot(df_pt['Time(sec)'], df_pt['Total_force_left'], label=\"PD Patient\")\n",
        "plt.legend(loc=1)\n",
        "plt.xlim(26,40)\n",
        "plt.xlabel(\"Time (sec)\")\n",
        "plt.ylabel(\"VGRF in Newtons\")\n",
        "ax = plt.gca()\n",
        "ax.spines['right'].set_visible(False)\n",
        "ax.spines['top'].set_visible(False)\n",
        "plt.title(\"Force de marche du pied gauche\")\n",
        "plt.savefig(\"Force de marche du pied gauche.png\")"
      ]
    },
    {
      "cell_type": "code",
      "execution_count": null,
      "metadata": {
        "colab": {
          "base_uri": "https://localhost:8080/",
          "height": 513
        },
        "id": "aLOtFXURMVgY",
        "outputId": "30f3a683-e1dc-420f-9658-c908683e2980"
      },
      "outputs": [
        {
          "data": {
            "image/png": "[encoded data removed]",
            "text/plain": [
              "<Figure size 720x576 with 1 Axes>"
            ]
          },
          "metadata": {},
          "output_type": "display_data"
        }
      ],
      "source": [
        "fig2 = plt.figure(figsize=(10, 8))\n",
        "plt.plot(df_co['Time(sec)'], df_co['Total_force_right'], label=\"Healthy people\" )\n",
        "plt.plot(df_pt['Time(sec)'], df_pt['Total_force_right'], label = \"PD Patient\")\n",
        "plt.legend(loc=1)\n",
        "plt.xlim(40,48)\n",
        "plt.xlabel(\"Time (sec)\")\n",
        "plt.ylabel(\"VGRF in Newtons\")\n",
        "ax = plt.gca()\n",
        "ax.spines['right'].set_visible(False)\n",
        "ax.spines['top'].set_visible(False)\n",
        "plt.title(\"Force du pied droit\")\n",
        "plt.savefig(\"Force de marche du pied droit.png\")"
      ]
    },
    {
      "cell_type": "code",
      "execution_count": null,
      "metadata": {
        "id": "jIih6qnO1SMa"
      },
      "outputs": [],
      "source": [
        "count = 0\n",
        "for name in os.listdir('/content/drive/MyDrive/Data/data_mini_projet/CSV'):\n",
        "    if 'GaCo' in name:\n",
        "      if '_01.csv' in name :\n",
        "        count += 1\n",
        "files = []\n",
        "for name in os.listdir('/content/drive/MyDrive/Data/data_mini_projet/CSV'):\n",
        "    if 'GaCo' in name:\n",
        "      if '_01.csv' in name :\n",
        "        files.append('/content/drive/MyDrive/Data/data_mini_projet/CSV/' + name)\n",
        "print(files)\n",
        "i = 0\n",
        "path = '/content/drive/MyDrive/Data/data_mini_projet/Combined Datasets/Co_final.csv'\n",
        "with open(path, 'a') as outfile:\n",
        "    for fname in files:\n",
        "        with open(fname) as infile:\n",
        "        \n",
        "            if i == 0: \n",
        "                for line in infile:\n",
        "                    outfile.write(line)\n",
        "            else:\n",
        "                next(infile)\n",
        "                for line in infile:\n",
        "                    outfile.write(line)\n",
        "            i += 1\n",
        "            print('{} of {} files completed'.format(i, count))"
      ]
    },
    {
      "cell_type": "code",
      "execution_count": null,
      "metadata": {
        "id": "ABY714nL92S1"
      },
      "outputs": [],
      "source": [
        "count = 0\n",
        "for name in os.listdir('/content/drive/MyDrive/Data/data_mini_projet/CSV'):\n",
        "    if 'Pt' in name:\n",
        "        count += 1\n",
        "files = []\n",
        "for name in os.listdir('/content/drive/MyDrive/Data/data_mini_projet/CSV'):\n",
        "    if 'Pt' in name:\n",
        "        files.append('/content/drive/MyDrive/Data/data_mini_projet/CSV/' + name)\n",
        "print(files)\n",
        "i = 0\n",
        "path = '/content/drive/MyDrive/Data/data_mini_projet/Combined Datasets/Pt_final.csv'\n",
        "with open(path, 'a') as outfile:\n",
        "    for fname in files:\n",
        "        with open(fname) as infile:\n",
        "        \n",
        "            if i == 0: \n",
        "                for line in infile:\n",
        "                    outfile.write(line)\n",
        "            else:\n",
        "                next(infile)\n",
        "                for line in infile:\n",
        "                    outfile.write(line)\n",
        "            i += 1\n",
        "            print('{} of {} files completed'.format(i, count))"
      ]
    },
    {
      "cell_type": "code",
      "execution_count": null,
      "metadata": {
        "id": "l4qzuExeWGNs"
      },
      "outputs": [],
      "source": [
        "ds_co = pd.read_csv('/content/drive/MyDrive/Data/data_mini_projet/Combined Datasets/Co_final.csv')\n",
        "ds_pt = pd.read_csv('/content/drive/MyDrive/Data/data_mini_projet/Combined Datasets/Pt_final.csv')"
      ]
    },
    {
      "cell_type": "code",
      "execution_count": null,
      "metadata": {
        "colab": {
          "base_uri": "https://localhost:8080/"
        },
        "id": "H628sgsoWO6a",
        "outputId": "961ecef5-b320-41b7-8068-70aca9135af0"
      },
      "outputs": [
        {
          "data": {
            "text/plain": [
              "(1012740, 19)"
            ]
          },
          "execution_count": 182,
          "metadata": {},
          "output_type": "execute_result"
        }
      ],
      "source": [
        "ds_co.shape"
      ]
    },
    {
      "cell_type": "code",
      "execution_count": null,
      "metadata": {
        "id": "5ss5smaSWXeF"
      },
      "outputs": [],
      "source": [
        "# poly = PolynomialFeatures(degree=2)\n",
        "# ds_co_poly = poly.fit_transform(ds_co)\n",
        "# ds_pt_poly = poly.fit_transform(ds_pt)\n",
        "ds_co_poly = ds_co\n",
        "ds_pt_poly = ds_pt"
      ]
    },
    {
      "cell_type": "code",
      "execution_count": null,
      "metadata": {
        "id": "Sbu2VMv7WTHu"
      },
      "outputs": [],
      "source": [
        "ds_co = ds_co.iloc[:, 1:-2]\n",
        "ds_pt = ds_pt.iloc[:, 1:-2]"
      ]
    },
    {
      "cell_type": "code",
      "execution_count": null,
      "metadata": {
        "id": "XcQD-1mcWaol"
      },
      "outputs": [],
      "source": [
        "#poly.get_feature_names(ds_co.columns)[150]"
      ]
    },
    {
      "cell_type": "code",
      "execution_count": null,
      "metadata": {
        "colab": {
          "base_uri": "https://localhost:8080/",
          "height": 624
        },
        "id": "wT6WRBobXSZk",
        "outputId": "805087b7-955e-4796-fd3a-e08aabfb5299"
      },
      "outputs": [
        {
          "data": {
            "text/plain": [
              "<mpl_toolkits.mplot3d.art3d.Path3DCollection at 0x7f67b4102e90>"
            ]
          },
          "execution_count": 80,
          "metadata": {},
          "output_type": "execute_result"
        },
        {
          "data": {
            "image/png": "[encoded data removed]",
            "text/plain": [
              "<Figure size 576x576 with 1 Axes>"
            ]
          },
          "metadata": {},
          "output_type": "display_data"
        }
      ],
      "source": [
        "fig = plt.figure(figsize=(8,8))\n",
        "\n",
        "subaxes1 = Axes3D(fig, rect=[0, 0, .95, 1], elev=48, azim=134)\n",
        "pca = decomposition.PCA(n_components=3)\n",
        "ds_co_poly_pca2 = pca.fit_transform(ds_co_poly)\n",
        "ds_pt_poly_pca2 = pca.fit_transform(ds_pt_poly)\n",
        "\n",
        "subaxes1.scatter(ds_co_poly_pca2[:, 0], ds_co_poly_pca2[:, 1], ds_co_poly_pca2[:, 2],  c='blue' ,s=1)\n",
        "subaxes1.scatter(ds_pt_poly_pca2[:, 0], ds_pt_poly_pca2[:, 1], ds_pt_poly_pca2[:, 2],  c='red' ,s=1)"
      ]
    },
    {
      "cell_type": "code",
      "execution_count": null,
      "metadata": {
        "colab": {
          "base_uri": "https://localhost:8080/",
          "height": 500
        },
        "id": "X_EoaLoOWfj8",
        "outputId": "2cc2e692-ef3e-4b2e-8e84-577d7729efb3"
      },
      "outputs": [
        {
          "data": {
            "text/plain": [
              "<matplotlib.collections.PathCollection at 0x7f67b8979e50>"
            ]
          },
          "execution_count": 76,
          "metadata": {},
          "output_type": "execute_result"
        },
        {
          "data": {
            "image/png": "[encoded data removed]",
            "text/plain": [
              "<Figure size 576x576 with 1 Axes>"
            ]
          },
          "metadata": {},
          "output_type": "display_data"
        }
      ],
      "source": [
        "fig1, subaxes = plt.subplots(1, 1, figsize=(8,8))\n",
        "\n",
        "pca1 = decomposition.PCA(n_components=2)\n",
        "ds_co_poly_pca = pca1.fit_transform(ds_co_poly)\n",
        "ds_pt_poly_pca = pca1.fit_transform(ds_pt_poly)\n",
        "# ds_co_poly_pca = pca.transform(ds_co_poly)\n",
        "subaxes.scatter(ds_co_poly_pca[:, 0], ds_co_poly_pca[:, 1],  c='blue' ,s=1)\n",
        "subaxes.scatter(ds_pt_poly_pca[:, 0], ds_pt_poly_pca[:, 1],  c='red' ,s=1)"
      ]
    },
    {
      "cell_type": "code",
      "execution_count": null,
      "metadata": {
        "colab": {
          "base_uri": "https://localhost:8080/"
        },
        "id": "oXrGtVNvKHlT",
        "outputId": "cd9c199b-ed57-449c-bb53-fb1e970c3f74"
      },
      "outputs": [
        {
          "name": "stderr",
          "output_type": "stream",
          "text": [
            "/usr/local/lib/python3.7/dist-packages/pandas/core/indexing.py:1684: PerformanceWarning: DataFrame is highly fragmented.  This is usually the result of calling `frame.insert` many times, which has poor performance.  Consider joining all columns at once using pd.concat(axis=1) instead.  To get a de-fragmented frame, use `newframe = frame.copy()`\n",
            "  self.obj[key] = infer_fill_value(value)\n"
          ]
        },
        {
          "name": "stdout",
          "output_type": "stream",
          "text": [
            "1 files completed out of 29\n",
            "2 files completed out of 29\n",
            "3 files completed out of 29\n",
            "4 files completed out of 29\n",
            "5 files completed out of 29\n",
            "6 files completed out of 29\n",
            "7 files completed out of 29\n",
            "8 files completed out of 29\n",
            "9 files completed out of 29\n",
            "10 files completed out of 29\n",
            "11 files completed out of 29\n",
            "12 files completed out of 29\n",
            "13 files completed out of 29\n",
            "14 files completed out of 29\n",
            "15 files completed out of 29\n",
            "16 files completed out of 29\n",
            "17 files completed out of 29\n",
            "18 files completed out of 29\n",
            "19 files completed out of 29\n",
            "20 files completed out of 29\n",
            "21 files completed out of 29\n",
            "22 files completed out of 29\n",
            "23 files completed out of 29\n",
            "24 files completed out of 29\n",
            "25 files completed out of 29\n",
            "26 files completed out of 29\n",
            "27 files completed out of 29\n",
            "28 files completed out of 29\n",
            "29 files completed out of 29\n"
          ]
        }
      ],
      "source": [
        "count = 0\n",
        "for name in os.listdir('/content/drive/MyDrive/Data/data_mini_projet/CSV'):\n",
        "    if 'SiCo' in name:\n",
        "      if '_01.csv' in name :\n",
        "        count += 1\n",
        "files = []\n",
        "for name in os.listdir('/content/drive/MyDrive/Data/data_mini_projet/CSV'):\n",
        "    if 'SiCo' in name:\n",
        "      if '_01.csv' in name :\n",
        "        files.append('/content/drive/MyDrive/Data/data_mini_projet/CSV/' + name)\n",
        "    \n",
        "#path = '/content/drive/MyDrive/Data/data_mini_projet/Combined Datasets/Co_final.csv'\n",
        "i = 0\n",
        "j = 0\n",
        "df2 = pd.DataFrame()\n",
        "for fname in files:\n",
        "    global df, df2\n",
        "        \n",
        "    df = pd.read_csv(fname)\n",
        "    for col in df.columns:\n",
        "        for x in [\"Min\", \"Max\", \"Std\", \"Med\", \"Avg\", \"Skewness\", \"Kurtosis\"]:\n",
        "            colname = col + x\n",
        "            if x == 'Min':\n",
        "                df2.loc[i, colname] = df[col].min(axis=0)\n",
        "                \n",
        "            if x == 'Max':\n",
        "                df2.loc[i, colname] = df[col].max(axis=0)\n",
        "                \n",
        "            if x == 'Std':\n",
        "                df2.loc[i, colname] = df[col].std(axis=0)\n",
        "                \n",
        "            if x == 'Med':\n",
        "                df2.loc[i, colname] = df[col].median(axis=0)\n",
        "                \n",
        "            if x == 'Avg':\n",
        "                df2.loc[i, colname] = df[col].mean(axis=0)\n",
        "            if x == 'Skewness':\n",
        "                df2.loc[i, colname] = df[col].skew(axis=0)\n",
        "                \n",
        "            if x == 'Kurtosis':\n",
        "                df2.loc[i, colname] = df[col].kurtosis(axis=0)\n",
        "    i += 1\n",
        "    j += 1\n",
        "    print(\"{} files completed out of {}\".format(j, count))"
      ]
    },
    {
      "cell_type": "code",
      "execution_count": null,
      "metadata": {
        "id": "Em-VcrO1NRa1"
      },
      "outputs": [],
      "source": [
        "df2 = df2.dropna(thresh=50)"
      ]
    },
    {
      "cell_type": "code",
      "execution_count": null,
      "metadata": {
        "id": "1PNqo2CNgN6O"
      },
      "outputs": [],
      "source": [
        "df.shape"
      ]
    },
    {
      "cell_type": "code",
      "execution_count": null,
      "metadata": {
        "colab": {
          "base_uri": "https://localhost:8080/"
        },
        "id": "BtOiqjeyNUoY",
        "outputId": "276f9ea6-ab25-4783-d746-8ca73f87e964"
      },
      "outputs": [
        {
          "data": {
            "text/plain": [
              "(25, 133)"
            ]
          },
          "execution_count": 15,
          "metadata": {},
          "output_type": "execute_result"
        }
      ],
      "source": [
        "df2.shape"
      ]
    },
    {
      "cell_type": "code",
      "execution_count": null,
      "metadata": {
        "colab": {
          "base_uri": "https://localhost:8080/"
        },
        "id": "M12aRUA_NiSk",
        "outputId": "b8c5e407-bfdd-4e98-eb7c-e20875d0614e"
      },
      "outputs": [
        {
          "name": "stderr",
          "output_type": "stream",
          "text": [
            "/usr/local/lib/python3.7/dist-packages/pandas/core/indexing.py:1684: PerformanceWarning: DataFrame is highly fragmented.  This is usually the result of calling `frame.insert` many times, which has poor performance.  Consider joining all columns at once using pd.concat(axis=1) instead.  To get a de-fragmented frame, use `newframe = frame.copy()`\n",
            "  self.obj[key] = infer_fill_value(value)\n"
          ]
        },
        {
          "name": "stdout",
          "output_type": "stream",
          "text": [
            "1 files completed out of 35\n",
            "2 files completed out of 35\n",
            "3 files completed out of 35\n",
            "4 files completed out of 35\n",
            "5 files completed out of 35\n",
            "6 files completed out of 35\n",
            "7 files completed out of 35\n",
            "8 files completed out of 35\n",
            "9 files completed out of 35\n",
            "10 files completed out of 35\n",
            "11 files completed out of 35\n",
            "12 files completed out of 35\n",
            "13 files completed out of 35\n",
            "14 files completed out of 35\n",
            "15 files completed out of 35\n",
            "16 files completed out of 35\n",
            "17 files completed out of 35\n",
            "18 files completed out of 35\n",
            "19 files completed out of 35\n",
            "20 files completed out of 35\n",
            "21 files completed out of 35\n",
            "22 files completed out of 35\n",
            "23 files completed out of 35\n",
            "24 files completed out of 35\n",
            "25 files completed out of 35\n",
            "26 files completed out of 35\n",
            "27 files completed out of 35\n",
            "28 files completed out of 35\n",
            "29 files completed out of 35\n",
            "30 files completed out of 35\n",
            "31 files completed out of 35\n",
            "32 files completed out of 35\n",
            "33 files completed out of 35\n",
            "34 files completed out of 35\n",
            "35 files completed out of 35\n"
          ]
        }
      ],
      "source": [
        "count = 0\n",
        "\n",
        "for name in os.listdir('/content/drive/MyDrive/Data/data_mini_projet/CSV'):\n",
        "    if 'SiPt' in name:\n",
        "      if '_01.csv' in name :\n",
        "        count += 1\n",
        "files = []\n",
        "for name in os.listdir('/content/drive/MyDrive/Data/data_mini_projet/CSV'):\n",
        "    if 'SiPt' in name:\n",
        "      if '_01.csv' in name :\n",
        "        files.append('/content/drive/MyDrive/Data/data_mini_projet/CSV/' + name)\n",
        "i = 0\n",
        "j = 0\n",
        "df4 = pd.DataFrame()\n",
        "for fname in files:\n",
        "    global df3, df4\n",
        "    df3 = pd.read_csv(fname)\n",
        "    for col in df.columns:\n",
        "        for x in [\"Min\", \"Max\", \"Std\", \"Med\", \"Avg\", \"Skewness\", \"Kurtosis\"]:\n",
        "            colname = col + x\n",
        "            if x == 'Min':\n",
        "                df4.loc[i, colname] = df3[col].min(axis=0)\n",
        "                \n",
        "            if x == 'Max':\n",
        "                df4.loc[i, colname] = df3[col].max(axis=0)\n",
        "                \n",
        "            if x == 'Std':\n",
        "                df4.loc[i, colname] = df3[col].std(axis=0)\n",
        "                \n",
        "            if x == 'Med':\n",
        "                df4.loc[i, colname] = df3[col].median(axis=0)\n",
        "                \n",
        "            if x == 'Avg':\n",
        "                df4.loc[i, colname] = df3[col].mean(axis=0)\n",
        "            if x == 'Skewness':\n",
        "                df4.loc[i, colname] = df3[col].skew(axis=0)\n",
        "                \n",
        "            if x == 'Kurtosis':\n",
        "                df4.loc[i, colname] = df3[col].kurtosis(axis=0)\n",
        "    i += 1\n",
        "    j += 1\n",
        "    print(\"{} files completed out of {}\".format(j, count))"
      ]
    },
    {
      "cell_type": "code",
      "execution_count": null,
      "metadata": {
        "id": "emsM7xsuON2u"
      },
      "outputs": [],
      "source": [
        "df4 = df4.dropna(thresh=50)"
      ]
    },
    {
      "cell_type": "code",
      "execution_count": null,
      "metadata": {
        "colab": {
          "base_uri": "https://localhost:8080/"
        },
        "id": "hnziCzzDOQfO",
        "outputId": "4b73dd1a-d622-48b8-e10c-dbaabc412431"
      },
      "outputs": [
        {
          "data": {
            "text/plain": [
              "(12118, 19)"
            ]
          },
          "execution_count": 26,
          "metadata": {},
          "output_type": "execute_result"
        }
      ],
      "source": [
        "df3.shape"
      ]
    },
    {
      "cell_type": "code",
      "execution_count": null,
      "metadata": {
        "colab": {
          "base_uri": "https://localhost:8080/"
        },
        "id": "1kFQKR6AGRA5",
        "outputId": "4f37a44f-ff80-40aa-9341-73dceb7bbda7"
      },
      "outputs": [
        {
          "data": {
            "text/plain": [
              "(35, 133)"
            ]
          },
          "execution_count": 27,
          "metadata": {},
          "output_type": "execute_result"
        }
      ],
      "source": [
        "df4.shape"
      ]
    },
    {
      "cell_type": "code",
      "execution_count": 3,
      "metadata": {
        "id": "6rTCzcVjOXXb",
        "colab": {
          "base_uri": "https://localhost:8080/",
          "height": 184
        },
        "outputId": "d00e30ee-0ce8-4300-a6b8-e23b3d2e5d6b"
      },
      "outputs": [
        {
          "output_type": "error",
          "ename": "NameError",
          "evalue": "ignored",
          "traceback": [
            "\u001b[0;31m---------------------------------------------------------------------------\u001b[0m",
            "\u001b[0;31mNameError\u001b[0m                                 Traceback (most recent call last)",
            "\u001b[0;32m<ipython-input-3-5597b31b5e81>\u001b[0m in \u001b[0;36m<module>\u001b[0;34m()\u001b[0m\n\u001b[0;32m----> 1\u001b[0;31m \u001b[0mdf2\u001b[0m\u001b[0;34m.\u001b[0m\u001b[0mto_csv\u001b[0m\u001b[0;34m(\u001b[0m\u001b[0;34m'/content/drive/MyDrive/Data/data_mini_projet/Transformed Data/Transformed_Co.csv'\u001b[0m\u001b[0;34m)\u001b[0m\u001b[0;34m\u001b[0m\u001b[0;34m\u001b[0m\u001b[0m\n\u001b[0m\u001b[1;32m      2\u001b[0m \u001b[0mdf4\u001b[0m\u001b[0;34m.\u001b[0m\u001b[0mto_csv\u001b[0m\u001b[0;34m(\u001b[0m\u001b[0;34m'/content/drive/MyDrive/Data/data_mini_projet/Transformed Data/Transformed_Pt.csv'\u001b[0m\u001b[0;34m)\u001b[0m\u001b[0;34m\u001b[0m\u001b[0;34m\u001b[0m\u001b[0m\n",
            "\u001b[0;31mNameError\u001b[0m: name 'df2' is not defined"
          ]
        }
      ],
      "source": [
        "df2.to_csv('/content/drive/MyDrive/Data/data_mini_projet/Transformed Data/Si/Transformed_Co.csv')\n",
        "df4.to_csv('/content/drive/MyDrive/Data/data_mini_projet/Transformed Data/Si/Transformed_Pt.csv')"
      ]
    },
    {
      "cell_type": "markdown",
      "metadata": {
        "id": "_gA8VidhQEMn"
      },
      "source": [
        "KNN algotithme\n"
      ]
    },
    {
      "cell_type": "code",
      "execution_count": 4,
      "metadata": {
        "id": "kp5jZb5iQJyn"
      },
      "outputs": [],
      "source": [
        "import pandas as pd\n",
        "import numpy as np\n",
        "# from sklearn.preprocessing import PolynomialFeatures\n",
        "from sklearn import decomposition\n",
        "import os\n",
        "import scipy.stats as sc\n",
        "from sklearn.model_selection import train_test_split\n",
        "from sklearn.preprocessing import MinMaxScaler\n",
        "from sklearn.neighbors import KNeighborsClassifier"
      ]
    },
    {
      "cell_type": "code",
      "execution_count": 5,
      "metadata": {
        "id": "Hirity2DQMll"
      },
      "outputs": [],
      "source": [
        "df_co = pd.read_csv('/content/drive/MyDrive/Data/data_mini_projet/Transformed Data/Transformed_Co.csv', index_col = 0)\n",
        "df_pt = pd.read_csv('/content/drive/MyDrive/Data/data_mini_projet/Transformed Data/Transformed_Pt.csv' , index_col = 0)"
      ]
    },
    {
      "cell_type": "code",
      "execution_count": 6,
      "metadata": {
        "colab": {
          "base_uri": "https://localhost:8080/"
        },
        "id": "rORND5hMLrRV",
        "outputId": "5338b6a4-0ef7-48ba-bc4f-c6b039da676b"
      },
      "outputs": [
        {
          "output_type": "stream",
          "name": "stdout",
          "text": [
            "(92, 133) (214, 133)\n"
          ]
        }
      ],
      "source": [
        "print(df_co.shape, df_pt.shape)"
      ]
    },
    {
      "cell_type": "code",
      "execution_count": 7,
      "metadata": {
        "colab": {
          "base_uri": "https://localhost:8080/",
          "height": 300
        },
        "id": "KOimVFJyG2Ox",
        "outputId": "0c57908d-0c84-4e74-ce4b-3a09f56c6bbf"
      },
      "outputs": [
        {
          "output_type": "execute_result",
          "data": {
            "text/html": [
              "\n",
              "  <div id=\"df-f091febe-03fb-4897-87b2-1c3c6c8f5a42\">\n",
              "    <div class=\"colab-df-container\">\n",
              "      <div>\n",
              "<style scoped>\n",
              "    .dataframe tbody tr th:only-of-type {\n",
              "        vertical-align: middle;\n",
              "    }\n",
              "\n",
              "    .dataframe tbody tr th {\n",
              "        vertical-align: top;\n",
              "    }\n",
              "\n",
              "    .dataframe thead th {\n",
              "        text-align: right;\n",
              "    }\n",
              "</style>\n",
              "<table border=\"1\" class=\"dataframe\">\n",
              "  <thead>\n",
              "    <tr style=\"text-align: right;\">\n",
              "      <th></th>\n",
              "      <th>Time(sec)Min</th>\n",
              "      <th>Time(sec)Max</th>\n",
              "      <th>Time(sec)Std</th>\n",
              "      <th>Time(sec)Med</th>\n",
              "      <th>Time(sec)Avg</th>\n",
              "      <th>Time(sec)Skewness</th>\n",
              "      <th>Time(sec)Kurtosis</th>\n",
              "      <th>VGRF_left_s1Min</th>\n",
              "      <th>VGRF_left_s1Max</th>\n",
              "      <th>VGRF_left_s1Std</th>\n",
              "      <th>VGRF_left_s1Med</th>\n",
              "      <th>VGRF_left_s1Avg</th>\n",
              "      <th>VGRF_left_s1Skewness</th>\n",
              "      <th>VGRF_left_s1Kurtosis</th>\n",
              "      <th>VGRF_left_s2Min</th>\n",
              "      <th>VGRF_left_s2Max</th>\n",
              "      <th>VGRF_left_s2Std</th>\n",
              "      <th>VGRF_left_s2Med</th>\n",
              "      <th>VGRF_left_s2Avg</th>\n",
              "      <th>VGRF_left_s2Skewness</th>\n",
              "      <th>VGRF_left_s2Kurtosis</th>\n",
              "      <th>VGRF_left_s3Min</th>\n",
              "      <th>VGRF_left_s3Max</th>\n",
              "      <th>VGRF_left_s3Std</th>\n",
              "      <th>VGRF_left_s3Med</th>\n",
              "      <th>VGRF_left_s3Avg</th>\n",
              "      <th>VGRF_left_s3Skewness</th>\n",
              "      <th>VGRF_left_s3Kurtosis</th>\n",
              "      <th>VGRF_left_s4Min</th>\n",
              "      <th>VGRF_left_s4Max</th>\n",
              "      <th>VGRF_left_s4Std</th>\n",
              "      <th>VGRF_left_s4Med</th>\n",
              "      <th>VGRF_left_s4Avg</th>\n",
              "      <th>VGRF_left_s4Skewness</th>\n",
              "      <th>VGRF_left_s4Kurtosis</th>\n",
              "      <th>VGRF_left_s5Min</th>\n",
              "      <th>VGRF_left_s5Max</th>\n",
              "      <th>VGRF_left_s5Std</th>\n",
              "      <th>VGRF_left_s5Med</th>\n",
              "      <th>VGRF_left_s5Avg</th>\n",
              "      <th>...</th>\n",
              "      <th>VGRF_right_s5Std</th>\n",
              "      <th>VGRF_right_s5Med</th>\n",
              "      <th>VGRF_right_s5Avg</th>\n",
              "      <th>VGRF_right_s5Skewness</th>\n",
              "      <th>VGRF_right_s5Kurtosis</th>\n",
              "      <th>VGRF_right_s6Min</th>\n",
              "      <th>VGRF_right_s6Max</th>\n",
              "      <th>VGRF_right_s6Std</th>\n",
              "      <th>VGRF_right_s6Med</th>\n",
              "      <th>VGRF_right_s6Avg</th>\n",
              "      <th>VGRF_right_s6Skewness</th>\n",
              "      <th>VGRF_right_s6Kurtosis</th>\n",
              "      <th>VGRF_right_s7Min</th>\n",
              "      <th>VGRF_right_s7Max</th>\n",
              "      <th>VGRF_right_s7Std</th>\n",
              "      <th>VGRF_right_s7Med</th>\n",
              "      <th>VGRF_right_s7Avg</th>\n",
              "      <th>VGRF_right_s7Skewness</th>\n",
              "      <th>VGRF_right_s7Kurtosis</th>\n",
              "      <th>VGRF_right_s8Min</th>\n",
              "      <th>VGRF_right_s8Max</th>\n",
              "      <th>VGRF_right_s8Std</th>\n",
              "      <th>VGRF_right_s8Med</th>\n",
              "      <th>VGRF_right_s8Avg</th>\n",
              "      <th>VGRF_right_s8Skewness</th>\n",
              "      <th>VGRF_right_s8Kurtosis</th>\n",
              "      <th>Total_force_leftMin</th>\n",
              "      <th>Total_force_leftMax</th>\n",
              "      <th>Total_force_leftStd</th>\n",
              "      <th>Total_force_leftMed</th>\n",
              "      <th>Total_force_leftAvg</th>\n",
              "      <th>Total_force_leftSkewness</th>\n",
              "      <th>Total_force_leftKurtosis</th>\n",
              "      <th>Total_force_rightMin</th>\n",
              "      <th>Total_force_rightMax</th>\n",
              "      <th>Total_force_rightStd</th>\n",
              "      <th>Total_force_rightMed</th>\n",
              "      <th>Total_force_rightAvg</th>\n",
              "      <th>Total_force_rightSkewness</th>\n",
              "      <th>Total_force_rightKurtosis</th>\n",
              "    </tr>\n",
              "  </thead>\n",
              "  <tbody>\n",
              "    <tr>\n",
              "      <th>0</th>\n",
              "      <td>0.01</td>\n",
              "      <td>121.1715</td>\n",
              "      <td>34.980647</td>\n",
              "      <td>60.5908</td>\n",
              "      <td>60.590759</td>\n",
              "      <td>4.291654e-09</td>\n",
              "      <td>-1.2</td>\n",
              "      <td>0.0</td>\n",
              "      <td>481.03</td>\n",
              "      <td>130.051703</td>\n",
              "      <td>4.07</td>\n",
              "      <td>85.809068</td>\n",
              "      <td>1.278122</td>\n",
              "      <td>0.126722</td>\n",
              "      <td>0.0</td>\n",
              "      <td>325.27</td>\n",
              "      <td>92.488817</td>\n",
              "      <td>3.74</td>\n",
              "      <td>59.333853</td>\n",
              "      <td>1.431718</td>\n",
              "      <td>0.692904</td>\n",
              "      <td>0.0</td>\n",
              "      <td>179.96</td>\n",
              "      <td>42.796370</td>\n",
              "      <td>0.00</td>\n",
              "      <td>26.572453</td>\n",
              "      <td>1.545594</td>\n",
              "      <td>1.262747</td>\n",
              "      <td>0.0</td>\n",
              "      <td>263.01</td>\n",
              "      <td>55.475204</td>\n",
              "      <td>8.36</td>\n",
              "      <td>44.805583</td>\n",
              "      <td>0.860795</td>\n",
              "      <td>-0.548052</td>\n",
              "      <td>0.0</td>\n",
              "      <td>90.86</td>\n",
              "      <td>16.013010</td>\n",
              "      <td>0.00</td>\n",
              "      <td>10.620710</td>\n",
              "      <td>...</td>\n",
              "      <td>11.433343</td>\n",
              "      <td>4.18</td>\n",
              "      <td>8.658211</td>\n",
              "      <td>1.460261</td>\n",
              "      <td>1.936446</td>\n",
              "      <td>0.0</td>\n",
              "      <td>335.72</td>\n",
              "      <td>82.293723</td>\n",
              "      <td>27.72</td>\n",
              "      <td>68.492401</td>\n",
              "      <td>0.945940</td>\n",
              "      <td>-0.295144</td>\n",
              "      <td>0.0</td>\n",
              "      <td>333.74</td>\n",
              "      <td>76.490472</td>\n",
              "      <td>10.01</td>\n",
              "      <td>53.511305</td>\n",
              "      <td>1.412047</td>\n",
              "      <td>0.835374</td>\n",
              "      <td>0.0</td>\n",
              "      <td>226.93</td>\n",
              "      <td>57.155223</td>\n",
              "      <td>25.08</td>\n",
              "      <td>46.602111</td>\n",
              "      <td>0.970262</td>\n",
              "      <td>-0.440245</td>\n",
              "      <td>0.0</td>\n",
              "      <td>1133.77</td>\n",
              "      <td>363.118311</td>\n",
              "      <td>461.945</td>\n",
              "      <td>390.228313</td>\n",
              "      <td>0.103051</td>\n",
              "      <td>-1.618405</td>\n",
              "      <td>0.0</td>\n",
              "      <td>1084.60</td>\n",
              "      <td>361.122630</td>\n",
              "      <td>460.405</td>\n",
              "      <td>389.842396</td>\n",
              "      <td>0.088368</td>\n",
              "      <td>-1.646734</td>\n",
              "    </tr>\n",
              "    <tr>\n",
              "      <th>1</th>\n",
              "      <td>0.01</td>\n",
              "      <td>84.6141</td>\n",
              "      <td>24.427423</td>\n",
              "      <td>42.3120</td>\n",
              "      <td>42.312038</td>\n",
              "      <td>1.173240e-08</td>\n",
              "      <td>-1.2</td>\n",
              "      <td>0.0</td>\n",
              "      <td>524.81</td>\n",
              "      <td>140.032952</td>\n",
              "      <td>15.29</td>\n",
              "      <td>97.749078</td>\n",
              "      <td>1.210574</td>\n",
              "      <td>-0.045800</td>\n",
              "      <td>0.0</td>\n",
              "      <td>157.08</td>\n",
              "      <td>39.760822</td>\n",
              "      <td>6.38</td>\n",
              "      <td>28.689279</td>\n",
              "      <td>1.186100</td>\n",
              "      <td>-0.078274</td>\n",
              "      <td>0.0</td>\n",
              "      <td>196.57</td>\n",
              "      <td>55.959519</td>\n",
              "      <td>6.38</td>\n",
              "      <td>40.079609</td>\n",
              "      <td>1.131639</td>\n",
              "      <td>-0.278239</td>\n",
              "      <td>0.0</td>\n",
              "      <td>253.44</td>\n",
              "      <td>41.130332</td>\n",
              "      <td>6.16</td>\n",
              "      <td>31.839878</td>\n",
              "      <td>1.453757</td>\n",
              "      <td>2.122754</td>\n",
              "      <td>0.0</td>\n",
              "      <td>37.18</td>\n",
              "      <td>10.011463</td>\n",
              "      <td>3.85</td>\n",
              "      <td>8.330401</td>\n",
              "      <td>...</td>\n",
              "      <td>10.191768</td>\n",
              "      <td>7.70</td>\n",
              "      <td>9.534733</td>\n",
              "      <td>0.630374</td>\n",
              "      <td>-0.837302</td>\n",
              "      <td>0.0</td>\n",
              "      <td>170.17</td>\n",
              "      <td>48.153019</td>\n",
              "      <td>27.83</td>\n",
              "      <td>40.613178</td>\n",
              "      <td>1.079264</td>\n",
              "      <td>-0.119989</td>\n",
              "      <td>0.0</td>\n",
              "      <td>275.44</td>\n",
              "      <td>76.808297</td>\n",
              "      <td>36.52</td>\n",
              "      <td>65.149963</td>\n",
              "      <td>0.965916</td>\n",
              "      <td>-0.355866</td>\n",
              "      <td>0.0</td>\n",
              "      <td>158.18</td>\n",
              "      <td>50.398512</td>\n",
              "      <td>12.21</td>\n",
              "      <td>36.688211</td>\n",
              "      <td>1.221753</td>\n",
              "      <td>-0.039554</td>\n",
              "      <td>0.0</td>\n",
              "      <td>850.30</td>\n",
              "      <td>315.910086</td>\n",
              "      <td>486.805</td>\n",
              "      <td>377.826276</td>\n",
              "      <td>-0.134118</td>\n",
              "      <td>-1.731710</td>\n",
              "      <td>0.0</td>\n",
              "      <td>799.70</td>\n",
              "      <td>314.541793</td>\n",
              "      <td>443.905</td>\n",
              "      <td>362.306657</td>\n",
              "      <td>-0.094478</td>\n",
              "      <td>-1.810599</td>\n",
              "    </tr>\n",
              "    <tr>\n",
              "      <th>2</th>\n",
              "      <td>0.01</td>\n",
              "      <td>121.1715</td>\n",
              "      <td>34.980647</td>\n",
              "      <td>60.5908</td>\n",
              "      <td>60.590759</td>\n",
              "      <td>4.291654e-09</td>\n",
              "      <td>-1.2</td>\n",
              "      <td>0.0</td>\n",
              "      <td>371.36</td>\n",
              "      <td>114.477248</td>\n",
              "      <td>20.57</td>\n",
              "      <td>100.557020</td>\n",
              "      <td>0.547648</td>\n",
              "      <td>-1.370951</td>\n",
              "      <td>0.0</td>\n",
              "      <td>232.54</td>\n",
              "      <td>82.972138</td>\n",
              "      <td>14.52</td>\n",
              "      <td>73.859590</td>\n",
              "      <td>0.494517</td>\n",
              "      <td>-1.481582</td>\n",
              "      <td>0.0</td>\n",
              "      <td>251.02</td>\n",
              "      <td>81.800134</td>\n",
              "      <td>13.75</td>\n",
              "      <td>72.792686</td>\n",
              "      <td>0.493290</td>\n",
              "      <td>-1.452088</td>\n",
              "      <td>0.0</td>\n",
              "      <td>176.22</td>\n",
              "      <td>42.249218</td>\n",
              "      <td>27.17</td>\n",
              "      <td>38.786192</td>\n",
              "      <td>0.759801</td>\n",
              "      <td>-0.566008</td>\n",
              "      <td>0.0</td>\n",
              "      <td>88.11</td>\n",
              "      <td>20.673224</td>\n",
              "      <td>12.54</td>\n",
              "      <td>18.304098</td>\n",
              "      <td>...</td>\n",
              "      <td>22.735478</td>\n",
              "      <td>13.20</td>\n",
              "      <td>21.590627</td>\n",
              "      <td>0.520700</td>\n",
              "      <td>-1.193568</td>\n",
              "      <td>0.0</td>\n",
              "      <td>250.03</td>\n",
              "      <td>66.794441</td>\n",
              "      <td>40.26</td>\n",
              "      <td>61.512276</td>\n",
              "      <td>0.717856</td>\n",
              "      <td>-0.828725</td>\n",
              "      <td>0.0</td>\n",
              "      <td>257.84</td>\n",
              "      <td>69.837041</td>\n",
              "      <td>55.11</td>\n",
              "      <td>66.944740</td>\n",
              "      <td>0.626424</td>\n",
              "      <td>-0.854909</td>\n",
              "      <td>0.0</td>\n",
              "      <td>157.08</td>\n",
              "      <td>33.353130</td>\n",
              "      <td>29.26</td>\n",
              "      <td>32.167321</td>\n",
              "      <td>0.724624</td>\n",
              "      <td>-0.443269</td>\n",
              "      <td>0.0</td>\n",
              "      <td>1031.69</td>\n",
              "      <td>395.150043</td>\n",
              "      <td>613.525</td>\n",
              "      <td>475.165742</td>\n",
              "      <td>-0.174713</td>\n",
              "      <td>-1.776554</td>\n",
              "      <td>0.0</td>\n",
              "      <td>983.62</td>\n",
              "      <td>385.406462</td>\n",
              "      <td>582.010</td>\n",
              "      <td>463.735899</td>\n",
              "      <td>-0.168923</td>\n",
              "      <td>-1.764448</td>\n",
              "    </tr>\n",
              "    <tr>\n",
              "      <th>3</th>\n",
              "      <td>0.01</td>\n",
              "      <td>121.1715</td>\n",
              "      <td>34.980647</td>\n",
              "      <td>60.5908</td>\n",
              "      <td>60.590759</td>\n",
              "      <td>4.291654e-09</td>\n",
              "      <td>-1.2</td>\n",
              "      <td>0.0</td>\n",
              "      <td>401.83</td>\n",
              "      <td>109.565129</td>\n",
              "      <td>10.23</td>\n",
              "      <td>81.761698</td>\n",
              "      <td>1.013077</td>\n",
              "      <td>-0.518325</td>\n",
              "      <td>0.0</td>\n",
              "      <td>261.69</td>\n",
              "      <td>79.137751</td>\n",
              "      <td>5.06</td>\n",
              "      <td>58.328594</td>\n",
              "      <td>1.032563</td>\n",
              "      <td>-0.481013</td>\n",
              "      <td>0.0</td>\n",
              "      <td>160.16</td>\n",
              "      <td>44.953729</td>\n",
              "      <td>3.85</td>\n",
              "      <td>34.484247</td>\n",
              "      <td>0.924942</td>\n",
              "      <td>-0.658915</td>\n",
              "      <td>0.0</td>\n",
              "      <td>311.85</td>\n",
              "      <td>76.114899</td>\n",
              "      <td>16.28</td>\n",
              "      <td>64.767379</td>\n",
              "      <td>0.848086</td>\n",
              "      <td>-0.469624</td>\n",
              "      <td>0.0</td>\n",
              "      <td>26.95</td>\n",
              "      <td>4.207834</td>\n",
              "      <td>2.53</td>\n",
              "      <td>3.187386</td>\n",
              "      <td>...</td>\n",
              "      <td>17.203060</td>\n",
              "      <td>7.70</td>\n",
              "      <td>13.837579</td>\n",
              "      <td>1.197904</td>\n",
              "      <td>0.531564</td>\n",
              "      <td>0.0</td>\n",
              "      <td>290.95</td>\n",
              "      <td>65.862165</td>\n",
              "      <td>32.01</td>\n",
              "      <td>53.812966</td>\n",
              "      <td>1.243087</td>\n",
              "      <td>0.622720</td>\n",
              "      <td>0.0</td>\n",
              "      <td>408.65</td>\n",
              "      <td>87.545084</td>\n",
              "      <td>38.17</td>\n",
              "      <td>69.351405</td>\n",
              "      <td>1.338011</td>\n",
              "      <td>0.870772</td>\n",
              "      <td>0.0</td>\n",
              "      <td>160.16</td>\n",
              "      <td>31.087350</td>\n",
              "      <td>10.89</td>\n",
              "      <td>21.895764</td>\n",
              "      <td>1.738934</td>\n",
              "      <td>2.175884</td>\n",
              "      <td>0.0</td>\n",
              "      <td>912.12</td>\n",
              "      <td>343.123644</td>\n",
              "      <td>512.875</td>\n",
              "      <td>401.909963</td>\n",
              "      <td>-0.108599</td>\n",
              "      <td>-1.791650</td>\n",
              "      <td>0.0</td>\n",
              "      <td>875.16</td>\n",
              "      <td>331.663886</td>\n",
              "      <td>491.205</td>\n",
              "      <td>385.835512</td>\n",
              "      <td>-0.080453</td>\n",
              "      <td>-1.782205</td>\n",
              "    </tr>\n",
              "    <tr>\n",
              "      <th>4</th>\n",
              "      <td>0.01</td>\n",
              "      <td>121.1715</td>\n",
              "      <td>34.980647</td>\n",
              "      <td>60.5908</td>\n",
              "      <td>60.590759</td>\n",
              "      <td>4.291654e-09</td>\n",
              "      <td>-1.2</td>\n",
              "      <td>0.0</td>\n",
              "      <td>486.64</td>\n",
              "      <td>127.708278</td>\n",
              "      <td>17.71</td>\n",
              "      <td>87.513769</td>\n",
              "      <td>1.300957</td>\n",
              "      <td>0.203295</td>\n",
              "      <td>0.0</td>\n",
              "      <td>183.37</td>\n",
              "      <td>47.549655</td>\n",
              "      <td>2.75</td>\n",
              "      <td>30.533587</td>\n",
              "      <td>1.426021</td>\n",
              "      <td>0.600310</td>\n",
              "      <td>0.0</td>\n",
              "      <td>283.14</td>\n",
              "      <td>70.711924</td>\n",
              "      <td>5.39</td>\n",
              "      <td>47.943098</td>\n",
              "      <td>1.243469</td>\n",
              "      <td>0.051703</td>\n",
              "      <td>0.0</td>\n",
              "      <td>199.98</td>\n",
              "      <td>50.504163</td>\n",
              "      <td>7.81</td>\n",
              "      <td>42.613218</td>\n",
              "      <td>0.712393</td>\n",
              "      <td>-0.994174</td>\n",
              "      <td>0.0</td>\n",
              "      <td>28.60</td>\n",
              "      <td>6.230266</td>\n",
              "      <td>0.00</td>\n",
              "      <td>4.781178</td>\n",
              "      <td>...</td>\n",
              "      <td>10.802058</td>\n",
              "      <td>0.00</td>\n",
              "      <td>8.276969</td>\n",
              "      <td>0.801298</td>\n",
              "      <td>-0.927382</td>\n",
              "      <td>0.0</td>\n",
              "      <td>207.13</td>\n",
              "      <td>54.770796</td>\n",
              "      <td>34.43</td>\n",
              "      <td>52.246778</td>\n",
              "      <td>0.672430</td>\n",
              "      <td>-0.776644</td>\n",
              "      <td>0.0</td>\n",
              "      <td>273.35</td>\n",
              "      <td>70.920909</td>\n",
              "      <td>20.13</td>\n",
              "      <td>59.477512</td>\n",
              "      <td>0.989798</td>\n",
              "      <td>-0.413678</td>\n",
              "      <td>0.0</td>\n",
              "      <td>242.55</td>\n",
              "      <td>68.148283</td>\n",
              "      <td>24.97</td>\n",
              "      <td>55.116926</td>\n",
              "      <td>1.140373</td>\n",
              "      <td>-0.129710</td>\n",
              "      <td>0.0</td>\n",
              "      <td>1065.02</td>\n",
              "      <td>374.132363</td>\n",
              "      <td>580.690</td>\n",
              "      <td>430.222191</td>\n",
              "      <td>-0.081860</td>\n",
              "      <td>-1.784694</td>\n",
              "      <td>0.0</td>\n",
              "      <td>1059.85</td>\n",
              "      <td>361.323710</td>\n",
              "      <td>429.770</td>\n",
              "      <td>389.706244</td>\n",
              "      <td>0.183251</td>\n",
              "      <td>-1.559521</td>\n",
              "    </tr>\n",
              "  </tbody>\n",
              "</table>\n",
              "<p>5 rows × 133 columns</p>\n",
              "</div>\n",
              "      <button class=\"colab-df-convert\" onclick=\"convertToInteractive('df-f091febe-03fb-4897-87b2-1c3c6c8f5a42')\"\n",
              "              title=\"Convert this dataframe to an interactive table.\"\n",
              "              style=\"display:none;\">\n",
              "        \n",
              "  <svg xmlns=\"http://www.w3.org/2000/svg\" height=\"24px\"viewBox=\"0 0 24 24\"\n",
              "       width=\"24px\">\n",
              "    <path d=\"M0 0h24v24H0V0z\" fill=\"none\"/>\n",
              "    <path d=\"M18.56 5.44l.94 2.06.94-2.06 2.06-.94-2.06-.94-.94-2.06-.94 2.06-2.06.94zm-11 1L8.5 8.5l.94-2.06 2.06-.94-2.06-.94L8.5 2.5l-.94 2.06-2.06.94zm10 10l.94 2.06.94-2.06 2.06-.94-2.06-.94-.94-2.06-.94 2.06-2.06.94z\"/><path d=\"M17.41 7.96l-1.37-1.37c-.4-.4-.92-.59-1.43-.59-.52 0-1.04.2-1.43.59L10.3 9.45l-7.72 7.72c-.78.78-.78 2.05 0 2.83L4 21.41c.39.39.9.59 1.41.59.51 0 1.02-.2 1.41-.59l7.78-7.78 2.81-2.81c.8-.78.8-2.07 0-2.86zM5.41 20L4 18.59l7.72-7.72 1.47 1.35L5.41 20z\"/>\n",
              "  </svg>\n",
              "      </button>\n",
              "      \n",
              "  <style>\n",
              "    .colab-df-container {\n",
              "      display:flex;\n",
              "      flex-wrap:wrap;\n",
              "      gap: 12px;\n",
              "    }\n",
              "\n",
              "    .colab-df-convert {\n",
              "      background-color: #E8F0FE;\n",
              "      border: none;\n",
              "      border-radius: 50%;\n",
              "      cursor: pointer;\n",
              "      display: none;\n",
              "      fill: #1967D2;\n",
              "      height: 32px;\n",
              "      padding: 0 0 0 0;\n",
              "      width: 32px;\n",
              "    }\n",
              "\n",
              "    .colab-df-convert:hover {\n",
              "      background-color: #E2EBFA;\n",
              "      box-shadow: 0px 1px 2px rgba(60, 64, 67, 0.3), 0px 1px 3px 1px rgba(60, 64, 67, 0.15);\n",
              "      fill: #174EA6;\n",
              "    }\n",
              "\n",
              "    [theme=dark] .colab-df-convert {\n",
              "      background-color: #3B4455;\n",
              "      fill: #D2E3FC;\n",
              "    }\n",
              "\n",
              "    [theme=dark] .colab-df-convert:hover {\n",
              "      background-color: #434B5C;\n",
              "      box-shadow: 0px 1px 3px 1px rgba(0, 0, 0, 0.15);\n",
              "      filter: drop-shadow(0px 1px 2px rgba(0, 0, 0, 0.3));\n",
              "      fill: #FFFFFF;\n",
              "    }\n",
              "  </style>\n",
              "\n",
              "      <script>\n",
              "        const buttonEl =\n",
              "          document.querySelector('#df-f091febe-03fb-4897-87b2-1c3c6c8f5a42 button.colab-df-convert');\n",
              "        buttonEl.style.display =\n",
              "          google.colab.kernel.accessAllowed ? 'block' : 'none';\n",
              "\n",
              "        async function convertToInteractive(key) {\n",
              "          const element = document.querySelector('#df-f091febe-03fb-4897-87b2-1c3c6c8f5a42');\n",
              "          const dataTable =\n",
              "            await google.colab.kernel.invokeFunction('convertToInteractive',\n",
              "                                                     [key], {});\n",
              "          if (!dataTable) return;\n",
              "\n",
              "          const docLinkHtml = 'Like what you see? Visit the ' +\n",
              "            '<a target=\"_blank\" href=https://colab.research.google.com/notebooks/data_table.ipynb>data table notebook</a>'\n",
              "            + ' to learn more about interactive tables.';\n",
              "          element.innerHTML = '';\n",
              "          dataTable['output_type'] = 'display_data';\n",
              "          await google.colab.output.renderOutput(dataTable, element);\n",
              "          const docLink = document.createElement('div');\n",
              "          docLink.innerHTML = docLinkHtml;\n",
              "          element.appendChild(docLink);\n",
              "        }\n",
              "      </script>\n",
              "    </div>\n",
              "  </div>\n",
              "  "
            ],
            "text/plain": [
              "   Time(sec)Min  ...  Total_force_rightKurtosis\n",
              "0          0.01  ...                  -1.646734\n",
              "1          0.01  ...                  -1.810599\n",
              "2          0.01  ...                  -1.764448\n",
              "3          0.01  ...                  -1.782205\n",
              "4          0.01  ...                  -1.559521\n",
              "\n",
              "[5 rows x 133 columns]"
            ]
          },
          "metadata": {},
          "execution_count": 7
        }
      ],
      "source": [
        "df_co.head()"
      ]
    },
    {
      "cell_type": "code",
      "execution_count": 8,
      "metadata": {
        "id": "RHlWVXoCQNbe"
      },
      "outputs": [],
      "source": [
        "df_co_len = df_co.shape[0]\n",
        "df_pt_len = df_pt.shape[0]"
      ]
    },
    {
      "cell_type": "code",
      "execution_count": 9,
      "metadata": {
        "id": "ElIlUw0nQVE4"
      },
      "outputs": [],
      "source": [
        "df_co_pca = pd.DataFrame(df_co)\n",
        "df_pt_pca = pd.DataFrame(df_pt)"
      ]
    },
    {
      "cell_type": "code",
      "execution_count": 10,
      "metadata": {
        "colab": {
          "base_uri": "https://localhost:8080/"
        },
        "id": "9swtD2AzQXEP",
        "outputId": "4ac981ef-6f81-4630-d117-f69618c8f263"
      },
      "outputs": [
        {
          "output_type": "execute_result",
          "data": {
            "text/plain": [
              "(92,)"
            ]
          },
          "metadata": {},
          "execution_count": 10
        }
      ],
      "source": [
        "y1 = pd.Series([0]*df_co_len)\n",
        "y1.shape"
      ]
    },
    {
      "cell_type": "code",
      "execution_count": 11,
      "metadata": {
        "colab": {
          "base_uri": "https://localhost:8080/"
        },
        "id": "_mO9z2nCQY4t",
        "outputId": "acd26a37-bee1-4971-cd70-dfebafd25596"
      },
      "outputs": [
        {
          "output_type": "execute_result",
          "data": {
            "text/plain": [
              "(214,)"
            ]
          },
          "metadata": {},
          "execution_count": 11
        }
      ],
      "source": [
        "y2 = pd.Series([1]*df_pt_len, index = range(df_co_len-1,(df_co_len + df_pt_len)-1))\n",
        "y2.shape"
      ]
    },
    {
      "cell_type": "code",
      "execution_count": 12,
      "metadata": {
        "colab": {
          "base_uri": "https://localhost:8080/"
        },
        "id": "V-13nNdnQahw",
        "outputId": "d82fe80e-3e11-4506-b891-657e334ef85c"
      },
      "outputs": [
        {
          "output_type": "execute_result",
          "data": {
            "text/plain": [
              "(306,)"
            ]
          },
          "metadata": {},
          "execution_count": 12
        }
      ],
      "source": [
        "y = pd.concat([y1,y2]) \n",
        "y = y.ravel()\n",
        "y.shape"
      ]
    },
    {
      "cell_type": "code",
      "execution_count": 13,
      "metadata": {
        "id": "f7nuHDw-QcwX"
      },
      "outputs": [],
      "source": [
        "X = pd.concat([df_co_pca, df_pt_pca])"
      ]
    },
    {
      "cell_type": "code",
      "execution_count": 14,
      "metadata": {
        "colab": {
          "base_uri": "https://localhost:8080/"
        },
        "id": "hVDk1dNlQfn-",
        "outputId": "b8e53b1f-4527-4bb0-8724-0075ad6fa935"
      },
      "outputs": [
        {
          "output_type": "stream",
          "name": "stdout",
          "text": [
            "0.9411858974358974\n"
          ]
        }
      ],
      "source": [
        "from sklearn.model_selection import GridSearchCV\n",
        "from sklearn.metrics import accuracy_score, precision_score, recall_score, f1_score, auc, roc_curve\n",
        "best_score = 0\n",
        "for i in range(200):\n",
        "    X_train, X_test, y_train1, y_test1 = train_test_split(X, y)\n",
        "    y_train = pd.DataFrame(y_train1)\n",
        "    y_test = pd.DataFrame(y_test1)\n",
        "\n",
        "    scaler = MinMaxScaler().fit(X_train)\n",
        "    X_train = scaler.transform(X_train)\n",
        "    X_test = scaler.transform(X_test)\n",
        "    \n",
        "    knn = KNeighborsClassifier()\n",
        "    knn.fit(X_train, np.ravel(y_train))\n",
        "\n",
        "    # print('gamma = {:.2f}, C = {:.2f}, accuracy = {}'.format(this_gamma, this_C, clf.score(X_test, np.ravel(y_test))))\n",
        "    grid_values = {'n_neighbors': [1, 2, 5, 10, 20, 50, 70, 100]}\n",
        "    grid_clf = GridSearchCV(knn, param_grid=grid_values, scoring='roc_auc')\n",
        "    grid_clf.fit(X_train, y_train1)\n",
        "    # decision_fn_scores = grid_clf.decision_function(X_test)\n",
        "    \n",
        "    if best_score < grid_clf.best_score_:\n",
        "        best_score = grid_clf.best_score_\n",
        "        prediction = grid_clf.predict(X_test)\n",
        "        \n",
        "        \n",
        "        prec = precision_score(y_test, prediction)\n",
        "        rec = recall_score(y_test, prediction)\n",
        "        f1 = f1_score(y_test, prediction)\n",
        "        \n",
        "print(best_score)"
      ]
    },
    {
      "cell_type": "code",
      "execution_count": 15,
      "metadata": {
        "colab": {
          "base_uri": "https://localhost:8080/"
        },
        "id": "-OPx2Bl9nFj0",
        "outputId": "a464fd48-fb07-445a-f1cc-286b9350b49d"
      },
      "outputs": [
        {
          "output_type": "stream",
          "name": "stdout",
          "text": [
            "Precision: 0.8431372549019608\n",
            "Recall: 0.8269230769230769\n",
            "F1: 0.8349514563106797\n"
          ]
        }
      ],
      "source": [
        "print(\"Precision: {}\".format(prec))\n",
        "print(\"Recall: {}\".format(rec))\n",
        "print(\"F1: {}\".format(f1))"
      ]
    },
    {
      "cell_type": "markdown",
      "metadata": {
        "id": "0T2t3vsHnlxP"
      },
      "source": [
        "SVM"
      ]
    },
    {
      "cell_type": "code",
      "execution_count": 16,
      "metadata": {
        "id": "7EpJvo-MZQNt"
      },
      "outputs": [],
      "source": [
        "import pandas as pd\n",
        "import numpy as np\n",
        "# from sklearn.preprocessing import PolynomialFeatures\n",
        "from sklearn import decomposition\n",
        "import os\n",
        "import scipy.stats as sc\n",
        "from sklearn.model_selection import train_test_split\n",
        "from sklearn.preprocessing import MinMaxScaler\n",
        "from sklearn.svm import SVC"
      ]
    },
    {
      "cell_type": "code",
      "execution_count": 17,
      "metadata": {
        "id": "AR46H7ZXnlj1"
      },
      "outputs": [],
      "source": [
        "# pca1 = decomposition.PCA(n_components=50)\n",
        "# df_co_pca = pca1.fit_transform(df_co)\n",
        "# df_pt_pca = pca1.fit_transform(df_pt)\n",
        "\n",
        "df_co_pca= df_co\n",
        "df_pt_pca= df_pt"
      ]
    },
    {
      "cell_type": "code",
      "execution_count": 18,
      "metadata": {
        "id": "dkp0A-ZUYjyZ"
      },
      "outputs": [],
      "source": [
        "df_co_len = df_co_pca.shape[0]\n",
        "df_pt_len = df_pt_pca.shape[0]"
      ]
    },
    {
      "cell_type": "code",
      "execution_count": 19,
      "metadata": {
        "id": "Mle61RwsYqin"
      },
      "outputs": [],
      "source": [
        "df_co_pca = pd.DataFrame(df_co_pca)\n",
        "df_pt_pca = pd.DataFrame(df_pt_pca)"
      ]
    },
    {
      "cell_type": "code",
      "execution_count": 20,
      "metadata": {
        "id": "ftqZM688YsSC"
      },
      "outputs": [],
      "source": [
        "X = pd.concat([df_co_pca, df_pt_pca])"
      ]
    },
    {
      "cell_type": "code",
      "execution_count": 21,
      "metadata": {
        "colab": {
          "base_uri": "https://localhost:8080/"
        },
        "id": "69Ot2_3PYuCm",
        "outputId": "50c19a26-d6d4-4bbf-dea2-be3ef5908920"
      },
      "outputs": [
        {
          "output_type": "execute_result",
          "data": {
            "text/plain": [
              "(92,)"
            ]
          },
          "metadata": {},
          "execution_count": 21
        }
      ],
      "source": [
        "y1 = pd.Series([0]*df_co_len)\n",
        "y1.shape"
      ]
    },
    {
      "cell_type": "code",
      "execution_count": 22,
      "metadata": {
        "colab": {
          "base_uri": "https://localhost:8080/"
        },
        "id": "BcJAj_N7YwFf",
        "outputId": "cc8858a9-2cf5-4f09-e117-2f2eb1401f11"
      },
      "outputs": [
        {
          "output_type": "execute_result",
          "data": {
            "text/plain": [
              "(214,)"
            ]
          },
          "metadata": {},
          "execution_count": 22
        }
      ],
      "source": [
        "y2 = pd.Series([1]*df_pt_len, index = range(df_co_len-1,(df_co_len + df_pt_len)-1))\n",
        "y2.shape"
      ]
    },
    {
      "cell_type": "code",
      "execution_count": 23,
      "metadata": {
        "colab": {
          "base_uri": "https://localhost:8080/"
        },
        "id": "4VPr-qkMYyYW",
        "outputId": "a68e7b9f-58a1-49dc-d384-4e6b97a95468"
      },
      "outputs": [
        {
          "output_type": "execute_result",
          "data": {
            "text/plain": [
              "(306,)"
            ]
          },
          "metadata": {},
          "execution_count": 23
        }
      ],
      "source": [
        "y = pd.concat([y1,y2]) \n",
        "y.shape"
      ]
    },
    {
      "cell_type": "code",
      "execution_count": 24,
      "metadata": {
        "colab": {
          "base_uri": "https://localhost:8080/"
        },
        "id": "1qnM17MMY2TE",
        "outputId": "a274f2af-eb24-4c4e-b0b8-882244a6c0a4"
      },
      "outputs": [
        {
          "output_type": "stream",
          "name": "stdout",
          "text": [
            "(229, 133)\n",
            "(77, 133)\n",
            "(229, 1)\n",
            "(77, 1)\n"
          ]
        }
      ],
      "source": [
        "X_train, X_test, y_train1, y_test1 = train_test_split(X, y)\n",
        "y_train = pd.DataFrame(y_train1)\n",
        "y_test = pd.DataFrame(y_test1)\n",
        "\n",
        "\n",
        "print(X_train.shape)\n",
        "print(X_test.shape)\n",
        "print(y_train.shape)\n",
        "print(y_test.shape)"
      ]
    },
    {
      "cell_type": "code",
      "execution_count": 25,
      "metadata": {
        "id": "TahtvdbPY5Lu"
      },
      "outputs": [],
      "source": [
        "scaler = MinMaxScaler().fit(X_train)\n",
        "X_train = scaler.transform(X_train)\n",
        "X_test = scaler.transform(X_test)"
      ]
    },
    {
      "cell_type": "code",
      "execution_count": 26,
      "metadata": {
        "colab": {
          "base_uri": "https://localhost:8080/"
        },
        "id": "u7b0Z_3eY74Z",
        "outputId": "2b4e3759-086a-42dd-d509-f1fdb6abc425"
      },
      "outputs": [
        {
          "output_type": "stream",
          "name": "stdout",
          "text": [
            "0.8819323671497583\n",
            "{'C': 5}\n"
          ]
        }
      ],
      "source": [
        "from sklearn.metrics import accuracy_score, precision_score, recall_score, f1_score, auc\n",
        "best_score = 0\n",
        "for i in range(200):\n",
        "    X_train, X_test, y_train1, y_test1 = train_test_split(X, y)\n",
        "    y_train = pd.DataFrame(y_train1)\n",
        "    y_test = pd.DataFrame(y_test1)\n",
        "\n",
        "    scaler = MinMaxScaler().fit(X_train)\n",
        "    X_train = scaler.transform(X_train)\n",
        "    X_test = scaler.transform(X_test)\n",
        "\n",
        "    clf = SVC(kernel = 'linear', C = 1).fit(X_train, np.ravel(y_train))\n",
        "    # print('gamma = {:.2f}, C = {:.2f}, accuracy = {}'.format(this_gamma, this_C, clf.score(X_test, np.ravel(y_test))))\n",
        "    grid_vals = {'C': [0.1, 1, 5, 10, 12, 15, 20, 25, 50, 100, 250]}\n",
        "    grid_clf = GridSearchCV(clf, param_grid=grid_vals, scoring='accuracy')\n",
        "    grid_clf.fit(X_train, y_train1)\n",
        "    decision_fn_scores = grid_clf.decision_function(X_test)\n",
        "    \n",
        "    if best_score < grid_clf.best_score_:\n",
        "        best_score = grid_clf.best_score_\n",
        "        best_params = grid_clf.best_params_\n",
        "        prediction = grid_clf.predict(X_test)\n",
        "        y_score = grid_clf.decision_function(X_test)\n",
        "        prec = precision_score(y_test, prediction)\n",
        "        rec = recall_score(y_test, prediction)\n",
        "        f1 = f1_score(y_test, prediction)\n",
        "        fpr, tpr, _ = roc_curve(y_test, y_score)\n",
        "        roc_auc = auc(fpr, tpr)\n",
        "        \n",
        "print(best_score)\n",
        "print(best_params)"
      ]
    },
    {
      "cell_type": "code",
      "execution_count": 27,
      "metadata": {
        "colab": {
          "base_uri": "https://localhost:8080/"
        },
        "id": "sbYbRUnDaI5f",
        "outputId": "a6fad703-ef16-4ac3-98d6-55849cd0fc0b"
      },
      "outputs": [
        {
          "output_type": "stream",
          "name": "stdout",
          "text": [
            "Precision: 0.8696\n",
            "Recall: 0.7843\n",
            "F1: 0.8247\n",
            "AUC: 0.7790\n"
          ]
        }
      ],
      "source": [
        "print('Precision: {:.4f}'.format(prec))\n",
        "print('Recall: {:.4f}'.format(rec))\n",
        "print('F1: {:.4f}'.format(f1))\n",
        "print('AUC: {:.4f}'.format(roc_auc))"
      ]
    },
    {
      "cell_type": "markdown",
      "metadata": {
        "id": "d4X8GaOBusWw"
      },
      "source": [
        "RANDOM FORESTS"
      ]
    },
    {
      "cell_type": "code",
      "execution_count": 28,
      "metadata": {
        "colab": {
          "base_uri": "https://localhost:8080/",
          "height": 1000
        },
        "id": "zNZIMX0HurpV",
        "outputId": "3a3cd0cd-66ce-476b-a9e8-c1e8c278fd8e"
      },
      "outputs": [
        {
          "output_type": "stream",
          "name": "stdout",
          "text": [
            "0 done\n",
            "1 done\n",
            "2 done\n",
            "3 done\n",
            "4 done\n",
            "5 done\n",
            "6 done\n",
            "7 done\n",
            "8 done\n",
            "9 done\n",
            "10 done\n",
            "11 done\n",
            "12 done\n",
            "13 done\n",
            "14 done\n",
            "15 done\n",
            "16 done\n",
            "17 done\n",
            "18 done\n",
            "19 done\n",
            "20 done\n",
            "21 done\n",
            "22 done\n",
            "23 done\n",
            "24 done\n",
            "25 done\n",
            "26 done\n",
            "27 done\n",
            "28 done\n",
            "29 done\n",
            "30 done\n",
            "31 done\n",
            "32 done\n",
            "33 done\n",
            "34 done\n",
            "35 done\n",
            "36 done\n",
            "37 done\n",
            "38 done\n",
            "39 done\n",
            "40 done\n",
            "41 done\n",
            "42 done\n",
            "43 done\n",
            "44 done\n",
            "45 done\n",
            "46 done\n",
            "47 done\n",
            "48 done\n",
            "49 done\n",
            "50 done\n",
            "51 done\n",
            "52 done\n",
            "53 done\n",
            "54 done\n",
            "55 done\n",
            "56 done\n",
            "57 done\n",
            "58 done\n",
            "59 done\n",
            "60 done\n",
            "61 done\n",
            "62 done\n",
            "63 done\n",
            "64 done\n",
            "65 done\n",
            "66 done\n",
            "67 done\n",
            "68 done\n",
            "69 done\n",
            "70 done\n",
            "71 done\n",
            "72 done\n",
            "73 done\n",
            "74 done\n",
            "75 done\n",
            "76 done\n",
            "77 done\n",
            "78 done\n",
            "79 done\n",
            "80 done\n",
            "81 done\n",
            "82 done\n",
            "83 done\n",
            "84 done\n",
            "85 done\n",
            "86 done\n",
            "87 done\n",
            "88 done\n",
            "89 done\n",
            "90 done\n",
            "91 done\n",
            "92 done\n",
            "93 done\n",
            "94 done\n",
            "95 done\n",
            "96 done\n",
            "97 done\n",
            "98 done\n",
            "99 done\n",
            "0.974025974025974 40 98\n"
          ]
        },
        {
          "output_type": "execute_result",
          "data": {
            "application/vnd.google.colaboratory.intrinsic+json": {
              "type": "string"
            },
            "text/plain": [
              "'print(X_train.shape)\\nprint(X_test.shape)\\nprint(y_train.shape)\\nprint(y_test.shape)'"
            ]
          },
          "metadata": {},
          "execution_count": 28
        }
      ],
      "source": [
        "max_est = 0\n",
        "max_acc = 0\n",
        "curr_max_acc = 0\n",
        "curr_max_est =0\n",
        "\n",
        "for i in range (0,100):\n",
        "    \n",
        "    X_train, X_test, y_train1, y_test1 = train_test_split(X, y, random_state=i)\n",
        "    y_train = pd.DataFrame(y_train1)\n",
        "    y_test = pd.DataFrame(y_test1)\n",
        "    \n",
        "    scaler = MinMaxScaler().fit(X_train)\n",
        "    X_train = scaler.transform(X_train)\n",
        "    X_test = scaler.transform(X_test)\n",
        "    \n",
        "    \n",
        "    \n",
        "    \n",
        "    for n in [40,50,100,150,200,250,300]:\n",
        "\n",
        "            clf = RandomForestClassifier(n_estimators = int(n), n_jobs=3)\n",
        "            clf.fit(X_train, np.ravel(y_train))\n",
        "            if max_acc < clf.score(X_test, np.ravel(y_test)):\n",
        "                max_acc = clf.score(X_test, np.ravel(y_test))\n",
        "                max_est = n\n",
        "    if(curr_max_acc < max_acc):\n",
        "            curr_max_acc = max_acc\n",
        "            curr_max_est = max_est\n",
        "            n_rs = i\n",
        "    print(\"{} done\".format(i))\n",
        "print(curr_max_acc,curr_max_est, n_rs) \n",
        "    \n",
        "    \n",
        "    \n",
        "\"\"\"print(X_train.shape)\n",
        "print(X_test.shape)\n",
        "print(y_train.shape)\n",
        "print(y_test.shape)\"\"\""
      ]
    },
    {
      "cell_type": "markdown",
      "metadata": {
        "id": "Mx24jOTNwy4I"
      },
      "source": [
        "DECISION TREE"
      ]
    },
    {
      "cell_type": "code",
      "execution_count": null,
      "metadata": {
        "id": "yI4BFkzswv-7"
      },
      "outputs": [],
      "source": [
        "from sklearn.metrics import accuracy_score, precision_score, recall_score, f1_score, auc\n",
        "from sklearn.model_selection import GridSearchCV\n",
        "best_score = 0\n",
        "for i in range(200):\n",
        "    X_train, X_test, y_train1, y_test1 = train_test_split(X, y)\n",
        "    y_train = pd.DataFrame(y_train1)\n",
        "    y_test = pd.DataFrame(y_test1)\n",
        "\n",
        "    \n",
        "    grid_values = {'max_depth': [1, 2, 4, 5, 7, 10, 15, 20, 25, 40, 60, 100]}\n",
        "    grid_clf = GridSearchCV(clf, param_grid=grid_values, scoring='accuracy')\n",
        "    grid_clf.fit(X_train, y_train1)\n",
        "    \n",
        "    \n",
        "    if best_score < grid_clf.best_score_:\n",
        "        best_score = grid_clf.best_score_\n",
        "        best_params = grid_clf.best_params_\n",
        "        prediction = grid_clf.predict(X_test)\n",
        "        \n",
        "        prec = precision_score(y_test, prediction)\n",
        "        rec = recall_score(y_test, prediction)\n",
        "        f1 = f1_score(y_test, prediction)\n",
        "        \n",
        "        \n",
        "print(best_score)\n",
        "print(best_params)"
      ]
    },
    {
      "cell_type": "code",
      "execution_count": 32,
      "metadata": {
        "id": "S4xCtKtYxXFO",
        "colab": {
          "base_uri": "https://localhost:8080/"
        },
        "outputId": "30a1ffad-1089-4704-9add-fa4fc7292298"
      },
      "outputs": [
        {
          "output_type": "stream",
          "name": "stdout",
          "text": [
            "Precision: 0.8571\n",
            "Recall: 0.9796\n",
            "F1: 0.9143\n"
          ]
        }
      ],
      "source": [
        "print('Precision: {:.4f}'.format(prec))\n",
        "print('Recall: {:.4f}'.format(rec))\n",
        "print('F1: {:.4f}'.format(f1))"
      ]
    },
    {
      "cell_type": "markdown",
      "metadata": {
        "id": "7UuQRKJu1y7r"
      },
      "source": [
        "Gaussian NB"
      ]
    },
    {
      "cell_type": "code",
      "execution_count": 33,
      "metadata": {
        "colab": {
          "base_uri": "https://localhost:8080/"
        },
        "id": "csmLEYub1yTt",
        "outputId": "255984ec-dfc0-4a03-a377-24988ff9b1de"
      },
      "outputs": [
        {
          "output_type": "stream",
          "name": "stdout",
          "text": [
            "\n",
            "\n",
            "**********************************************************\n",
            "GaussianNB\n",
            "Accuracy: 0.709 (0.084)\n",
            "precision: 0.940 (0.019)\n",
            "Recall: 0.629 (0.115)\n",
            "F1: 0.747 (0.076)\n",
            "Confusion Matrix :  [[ 83   9]\n",
            " [ 80 134]]\n"
          ]
        }
      ],
      "source": [
        "print('\\n')\n",
        "print('**********************************************************')\n",
        "print('GaussianNB')\n",
        "model = GaussianNB()\n",
        "cv = KFold(n_splits=4, random_state=1, shuffle=True)\n",
        "scores = cross_val_score(model, X, y, scoring='accuracy', cv=cv, n_jobs=-1)\n",
        "# report performance\n",
        "print('Accuracy: %.3f (%.3f)' % (np.mean(scores), np.std(scores)))\n",
        "scores = cross_val_score(model, X, y, scoring='precision', cv=cv, n_jobs=-1)\n",
        "print('precision: %.3f (%.3f)' % (np.mean(scores), np.std(scores)))\n",
        "scores = cross_val_score(model, X, y, scoring='recall', cv=cv, n_jobs=-1)\n",
        "print('Recall: %.3f (%.3f)' % (np.mean(scores), np.std(scores)))\n",
        "scores = cross_val_score(model, X, y, scoring='f1', cv=cv, n_jobs=-1)\n",
        "print('F1: %.3f (%.3f)' % (np.mean(scores), np.std(scores)))\n",
        "y_pred = cross_val_predict(model, X, y, cv=10)\n",
        "conf_mat = confusion_matrix(y, y_pred)\n",
        "print ('Confusion Matrix : ', conf_mat)"
      ]
    },
    {
      "cell_type": "markdown",
      "metadata": {
        "id": "D6tQClji15F3"
      },
      "source": [
        "Apprentissage Non supervié "
      ]
    },
    {
      "cell_type": "code",
      "execution_count": 34,
      "metadata": {
        "colab": {
          "base_uri": "https://localhost:8080/"
        },
        "id": "Fbj0ZBk61-Am",
        "outputId": "e9f207bd-d3b0-45e8-aee3-9b7d64708c28"
      },
      "outputs": [
        {
          "output_type": "stream",
          "name": "stdout",
          "text": [
            "\n",
            "\n",
            "**********************************************************\n",
            "Kmeans\n",
            "Accuracy: 0.49673202614379086\n",
            "              precision    recall  f1-score   support\n",
            "\n",
            "           0       0.28      0.41      0.33        92\n",
            "           1       0.68      0.53      0.60       214\n",
            "\n",
            "    accuracy                           0.50       306\n",
            "   macro avg       0.48      0.47      0.46       306\n",
            "weighted avg       0.56      0.50      0.52       306\n",
            "\n",
            "Confusion Matrix [[ 38  54]\n",
            " [100 114]]\n",
            "accuracy 0.5032679738562091\n",
            "precision 0.32142857142857145\n",
            "recall 0.5869565217391305\n",
            "f1 mesure 0.4153846153846154\n",
            "\n",
            "\n",
            "**********************************************************\n",
            "GMM\n",
            "Accuracy: 0.5032679738562091\n",
            "              precision    recall  f1-score   support\n",
            "\n",
            "           0       0.32      0.59      0.42        92\n",
            "           1       0.72      0.47      0.57       214\n",
            "\n",
            "    accuracy                           0.50       306\n",
            "   macro avg       0.52      0.53      0.49       306\n",
            "weighted avg       0.60      0.50      0.52       306\n",
            "\n",
            "Confusion Matrix [[ 54  38]\n",
            " [114 100]]\n",
            "accuracy 0.5\n",
            "precision 0.2753623188405797\n",
            "recall 0.5\n",
            "f1 mesure 0.35514018691588783\n"
          ]
        }
      ],
      "source": [
        "print('\\n')\n",
        "print('**********************************************************')\n",
        "print('Kmeans')\n",
        "from scipy.optimize import linear_sum_assignment as linear_assignment\n",
        "def _make_cost_m(cm):\n",
        "    s = np.max(cm)\n",
        "    return (- cm + s)\n",
        "random_state = np.random.RandomState(0)\n",
        "model = KMeans(n_clusters = 2 , random_state=random_state)\n",
        "model.fit(X)\n",
        "pred=model.predict(X)\n",
        "print('Accuracy:', accuracy_score(y,pred))\n",
        "print (classification_report(y, pred))\n",
        "cm=confusion_matrix(y,pred)\n",
        "print ('Confusion Matrix' , cm)\n",
        "\n",
        "indexes = linear_assignment(_make_cost_m(cm))\n",
        "js = [e[1] for e in sorted(indexes, key=lambda x: x[0])]\n",
        "cm2 = cm[:, js]\n",
        "acc= np.trace(cm2) / np.sum(cm2)\n",
        "pre=cm2[0][0]/(cm2[0][0]+cm2[1][0])\n",
        "rec=cm2[0][0]/(cm2[0][0]+cm2[0][1])\n",
        "f=2*pre*rec/(pre+rec)\n",
        "print('accuracy',acc)\n",
        "print('precision',pre)\n",
        "print('recall',rec)\n",
        "print('f1 mesure',f)\n",
        "\n",
        "\n",
        "print('\\n')\n",
        "print('**********************************************************')\n",
        "print('GMM')\n",
        "model = GMM(n_components=2 ,random_state=random_state)\n",
        "model.fit(X)\n",
        "pred=model.predict(X)\n",
        "print('Accuracy:',  accuracy_score(y,pred))\n",
        "print (classification_report(y,pred))\n",
        "cm=confusion_matrix(y,pred)\n",
        "print ('Confusion Matrix' , cm)\n",
        "\n",
        "indexes = linear_assignment(_make_cost_m(cm))\n",
        "js = [e[1] for e in sorted(indexes, key=lambda x: x[0])]\n",
        "cm2 = cm[:, js]\n",
        "a= np.trace(cm2) / np.sum(cm2)\n",
        "acc= np.trace(cm2) / np.sum(cm2)\n",
        "acc= np.trace(cm2) / np.sum(cm2)\n",
        "pre=cm2[0][0]/(cm2[0][0]+cm2[1][0])\n",
        "rec=cm2[0][0]/(cm2[0][0]+cm2[0][1])\n",
        "f=2*pre*rec/(pre+rec)\n",
        "print('accuracy',acc)\n",
        "print('precision',pre)\n",
        "print('recall',rec)\n",
        "print('f1 mesure',f)\n"
      ]
    }
  ],
  "metadata": {
    "colab": {
      "collapsed_sections": [],
      "name": "Copie de Part1 - 2022.ipynb",
      "provenance": []
    },
    "kernelspec": {
      "display_name": "Python 3",
      "name": "python3"
    },
    "language_info": {
      "name": "python"
    }
  },
  "nbformat": 4,
  "nbformat_minor": 0
}